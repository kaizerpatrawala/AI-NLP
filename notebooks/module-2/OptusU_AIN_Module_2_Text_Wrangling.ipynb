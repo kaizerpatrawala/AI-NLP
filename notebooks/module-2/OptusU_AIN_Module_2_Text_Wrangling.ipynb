{
  "nbformat": 4,
  "nbformat_minor": 0,
  "metadata": {
    "colab": {
      "provenance": [],
      "collapsed_sections": [
        "wWU3ksQs-Yjc",
        "d8-IIgroxr98",
        "w6puGS4R2kWR",
        "HUGkAM3avllV",
        "Yq_LzdQrvopc",
        "2T0C8Xp-G9vk"
      ],
      "toc_visible": true
    },
    "kernelspec": {
      "name": "python3",
      "display_name": "Python 3"
    },
    "language_info": {
      "name": "python"
    }
  },
  "cells": [
    {
      "cell_type": "markdown",
      "source": [
        "# **Text Wrangling**\n",
        "\n",
        "Text wrangling or text preprocessing is a crucial first phase of the AI/NLP lifecycle that has a significant impact on the quality of downstream AI and NLP applications and outcomes. This notebook aims to develop technical skills in the primary text wrangling techniques. "
      ],
      "metadata": {
        "id": "xmdFrcknnEpc"
      }
    },
    {
      "cell_type": "markdown",
      "source": [
        "<img src=\"http://drive.google.com/uc?export=view&id=1FoU-zF-sXsTViikws6zDg_49mFZlLgml\" />\n",
        "\n",
        "\n",
        "Not all wrangling techniques are required in every use case or application, which is another reason to develop a sound understanding of each technique so you know what's relevant or not. \n",
        "\n",
        "e.g. removing emojis degrades the quality of emotional expressions in the text corpus. \n",
        "\n"
      ],
      "metadata": {
        "id": "9BMEov0_XwQl"
      }
    },
    {
      "cell_type": "markdown",
      "source": [
        "## **Load the dataset**\n",
        "\n",
        "We will be using a [customer support dataset from Twitter](https://www.kaggle.com/datasets/thoughtvector/customer-support-on-twitter), which contains customer support tweets and responses from organisations such as Apple, Amazon, Uber etc.\n",
        "\n",
        "We have uploaded this dataset to a shared location, and the following code block will load this into your google drive. You will need to log into your google drive to authenticate and allow this access."
      ],
      "metadata": {
        "id": "JMOl_5ZBnTvg"
      }
    },
    {
      "cell_type": "code",
      "source": [
        "#installing libraries to get access to the data files\n",
        "from pydrive.auth import GoogleAuth\n",
        "from pydrive.drive import GoogleDrive\n",
        "from google.colab import auth\n",
        "from oauth2client.client import GoogleCredentials\n",
        "\n",
        "#authenticate with google drive credentials\n",
        "auth.authenticate_user()\n",
        "gauth = GoogleAuth()\n",
        "gauth.credentials = GoogleCredentials.get_application_default()\n",
        "drive = GoogleDrive(gauth)\n",
        "\n",
        "# This is the file ID of the dataset, this will download the datafile from the shared location\n",
        "dataset_id = '1yLfFuf0IPO3XF12GPy9mFrEUSzjzPcoh'\n",
        "Customer_support_data = drive.CreateFile({'id':dataset_id})\n",
        "Customer_support_data.GetContentFile('Customer_support_data.csv')"
      ],
      "metadata": {
        "id": "LHXKip2f0ejC"
      },
      "execution_count": null,
      "outputs": []
    },
    {
      "cell_type": "markdown",
      "source": [
        "## **Create a Pandas DataFrame**\n",
        "\n",
        "Pandas is the benchmark data analysis library in Python for tasks such as, \n",
        "*   Data cleaning, filling, normalizing\n",
        "*   Merging datatables\n",
        "*   Data visualization\n",
        "*   Statistical analysis\n",
        "*   Loading and saving data and much more...\n",
        "\n",
        "Let's use pandas to create a dataframe from the CSV file.\n"
      ],
      "metadata": {
        "id": "CzXwewvomH4D"
      }
    },
    {
      "cell_type": "code",
      "source": [
        "import pandas as pd\n",
        "\n",
        "#read the datafile using python pandas. \n",
        "dataset = pd.read_csv(r\"Customer_support_data.csv\", usecols = ['created_at', 'text'])"
      ],
      "metadata": {
        "id": "6ZlgsADxn9MB"
      },
      "execution_count": null,
      "outputs": []
    },
    {
      "cell_type": "markdown",
      "source": [
        "Let's see what the dataset looks like. You can click on the pencil icon top right corner to expand the data table in interactive mode."
      ],
      "metadata": {
        "id": "miR6ITZE2LZx"
      }
    },
    {
      "cell_type": "code",
      "source": [
        "display(dataset)"
      ],
      "metadata": {
        "colab": {
          "base_uri": "https://localhost:8080/",
          "height": 424
        },
        "id": "Z8ykKDom2Tuv",
        "outputId": "54ad414e-a200-4cf1-f51e-7e34d86a4d94"
      },
      "execution_count": null,
      "outputs": [
        {
          "output_type": "display_data",
          "data": {
            "text/plain": [
              "                          created_at  \\\n",
              "0     Tue Oct 31 22:10:47 +0000 2017   \n",
              "1     Tue Oct 31 22:11:45 +0000 2017   \n",
              "2     Tue Oct 31 22:08:27 +0000 2017   \n",
              "3     Tue Oct 31 21:54:49 +0000 2017   \n",
              "4     Tue Oct 31 21:49:35 +0000 2017   \n",
              "...                              ...   \n",
              "4995  Thu Nov 02 15:29:37 +0000 2017   \n",
              "4996  Thu Nov 02 15:31:46 +0000 2017   \n",
              "4997  Mon Oct 30 02:13:57 +0000 2017   \n",
              "4998  Tue Oct 31 23:40:03 +0000 2017   \n",
              "4999  Mon Oct 30 01:57:36 +0000 2017   \n",
              "\n",
              "                                                   text  \n",
              "0     @115712 I understand. I would like to assist y...  \n",
              "1         @sprintcare and how do you propose we do that  \n",
              "2     @sprintcare I have sent several private messag...  \n",
              "3     @115712 Please send us a Private Message so th...  \n",
              "4                                    @sprintcare I did.  \n",
              "...                                                 ...  \n",
              "4995  @117290 Hm, they should definitely resume if a...  \n",
              "4996  @117290 That's where they need to be on, so ch...  \n",
              "4997  @115940 Can you guys maybe like....FIX your st...  \n",
              "4998  @117291 Hulu is only available in the U.S. rig...  \n",
              "4999  @115940 when will the platform available in la...  \n",
              "\n",
              "[5000 rows x 2 columns]"
            ],
            "text/html": [
              "\n",
              "  <div id=\"df-75725bff-abd5-4c5c-a59c-e963795e7d23\">\n",
              "    <div class=\"colab-df-container\">\n",
              "      <div>\n",
              "<style scoped>\n",
              "    .dataframe tbody tr th:only-of-type {\n",
              "        vertical-align: middle;\n",
              "    }\n",
              "\n",
              "    .dataframe tbody tr th {\n",
              "        vertical-align: top;\n",
              "    }\n",
              "\n",
              "    .dataframe thead th {\n",
              "        text-align: right;\n",
              "    }\n",
              "</style>\n",
              "<table border=\"1\" class=\"dataframe\">\n",
              "  <thead>\n",
              "    <tr style=\"text-align: right;\">\n",
              "      <th></th>\n",
              "      <th>created_at</th>\n",
              "      <th>text</th>\n",
              "    </tr>\n",
              "  </thead>\n",
              "  <tbody>\n",
              "    <tr>\n",
              "      <th>0</th>\n",
              "      <td>Tue Oct 31 22:10:47 +0000 2017</td>\n",
              "      <td>@115712 I understand. I would like to assist y...</td>\n",
              "    </tr>\n",
              "    <tr>\n",
              "      <th>1</th>\n",
              "      <td>Tue Oct 31 22:11:45 +0000 2017</td>\n",
              "      <td>@sprintcare and how do you propose we do that</td>\n",
              "    </tr>\n",
              "    <tr>\n",
              "      <th>2</th>\n",
              "      <td>Tue Oct 31 22:08:27 +0000 2017</td>\n",
              "      <td>@sprintcare I have sent several private messag...</td>\n",
              "    </tr>\n",
              "    <tr>\n",
              "      <th>3</th>\n",
              "      <td>Tue Oct 31 21:54:49 +0000 2017</td>\n",
              "      <td>@115712 Please send us a Private Message so th...</td>\n",
              "    </tr>\n",
              "    <tr>\n",
              "      <th>4</th>\n",
              "      <td>Tue Oct 31 21:49:35 +0000 2017</td>\n",
              "      <td>@sprintcare I did.</td>\n",
              "    </tr>\n",
              "    <tr>\n",
              "      <th>...</th>\n",
              "      <td>...</td>\n",
              "      <td>...</td>\n",
              "    </tr>\n",
              "    <tr>\n",
              "      <th>4995</th>\n",
              "      <td>Thu Nov 02 15:29:37 +0000 2017</td>\n",
              "      <td>@117290 Hm, they should definitely resume if a...</td>\n",
              "    </tr>\n",
              "    <tr>\n",
              "      <th>4996</th>\n",
              "      <td>Thu Nov 02 15:31:46 +0000 2017</td>\n",
              "      <td>@117290 That's where they need to be on, so ch...</td>\n",
              "    </tr>\n",
              "    <tr>\n",
              "      <th>4997</th>\n",
              "      <td>Mon Oct 30 02:13:57 +0000 2017</td>\n",
              "      <td>@115940 Can you guys maybe like....FIX your st...</td>\n",
              "    </tr>\n",
              "    <tr>\n",
              "      <th>4998</th>\n",
              "      <td>Tue Oct 31 23:40:03 +0000 2017</td>\n",
              "      <td>@117291 Hulu is only available in the U.S. rig...</td>\n",
              "    </tr>\n",
              "    <tr>\n",
              "      <th>4999</th>\n",
              "      <td>Mon Oct 30 01:57:36 +0000 2017</td>\n",
              "      <td>@115940 when will the platform available in la...</td>\n",
              "    </tr>\n",
              "  </tbody>\n",
              "</table>\n",
              "<p>5000 rows × 2 columns</p>\n",
              "</div>\n",
              "      <button class=\"colab-df-convert\" onclick=\"convertToInteractive('df-75725bff-abd5-4c5c-a59c-e963795e7d23')\"\n",
              "              title=\"Convert this dataframe to an interactive table.\"\n",
              "              style=\"display:none;\">\n",
              "        \n",
              "  <svg xmlns=\"http://www.w3.org/2000/svg\" height=\"24px\"viewBox=\"0 0 24 24\"\n",
              "       width=\"24px\">\n",
              "    <path d=\"M0 0h24v24H0V0z\" fill=\"none\"/>\n",
              "    <path d=\"M18.56 5.44l.94 2.06.94-2.06 2.06-.94-2.06-.94-.94-2.06-.94 2.06-2.06.94zm-11 1L8.5 8.5l.94-2.06 2.06-.94-2.06-.94L8.5 2.5l-.94 2.06-2.06.94zm10 10l.94 2.06.94-2.06 2.06-.94-2.06-.94-.94-2.06-.94 2.06-2.06.94z\"/><path d=\"M17.41 7.96l-1.37-1.37c-.4-.4-.92-.59-1.43-.59-.52 0-1.04.2-1.43.59L10.3 9.45l-7.72 7.72c-.78.78-.78 2.05 0 2.83L4 21.41c.39.39.9.59 1.41.59.51 0 1.02-.2 1.41-.59l7.78-7.78 2.81-2.81c.8-.78.8-2.07 0-2.86zM5.41 20L4 18.59l7.72-7.72 1.47 1.35L5.41 20z\"/>\n",
              "  </svg>\n",
              "      </button>\n",
              "      \n",
              "  <style>\n",
              "    .colab-df-container {\n",
              "      display:flex;\n",
              "      flex-wrap:wrap;\n",
              "      gap: 12px;\n",
              "    }\n",
              "\n",
              "    .colab-df-convert {\n",
              "      background-color: #E8F0FE;\n",
              "      border: none;\n",
              "      border-radius: 50%;\n",
              "      cursor: pointer;\n",
              "      display: none;\n",
              "      fill: #1967D2;\n",
              "      height: 32px;\n",
              "      padding: 0 0 0 0;\n",
              "      width: 32px;\n",
              "    }\n",
              "\n",
              "    .colab-df-convert:hover {\n",
              "      background-color: #E2EBFA;\n",
              "      box-shadow: 0px 1px 2px rgba(60, 64, 67, 0.3), 0px 1px 3px 1px rgba(60, 64, 67, 0.15);\n",
              "      fill: #174EA6;\n",
              "    }\n",
              "\n",
              "    [theme=dark] .colab-df-convert {\n",
              "      background-color: #3B4455;\n",
              "      fill: #D2E3FC;\n",
              "    }\n",
              "\n",
              "    [theme=dark] .colab-df-convert:hover {\n",
              "      background-color: #434B5C;\n",
              "      box-shadow: 0px 1px 3px 1px rgba(0, 0, 0, 0.15);\n",
              "      filter: drop-shadow(0px 1px 2px rgba(0, 0, 0, 0.3));\n",
              "      fill: #FFFFFF;\n",
              "    }\n",
              "  </style>\n",
              "\n",
              "      <script>\n",
              "        const buttonEl =\n",
              "          document.querySelector('#df-75725bff-abd5-4c5c-a59c-e963795e7d23 button.colab-df-convert');\n",
              "        buttonEl.style.display =\n",
              "          google.colab.kernel.accessAllowed ? 'block' : 'none';\n",
              "\n",
              "        async function convertToInteractive(key) {\n",
              "          const element = document.querySelector('#df-75725bff-abd5-4c5c-a59c-e963795e7d23');\n",
              "          const dataTable =\n",
              "            await google.colab.kernel.invokeFunction('convertToInteractive',\n",
              "                                                     [key], {});\n",
              "          if (!dataTable) return;\n",
              "\n",
              "          const docLinkHtml = 'Like what you see? Visit the ' +\n",
              "            '<a target=\"_blank\" href=https://colab.research.google.com/notebooks/data_table.ipynb>data table notebook</a>'\n",
              "            + ' to learn more about interactive tables.';\n",
              "          element.innerHTML = '';\n",
              "          dataTable['output_type'] = 'display_data';\n",
              "          await google.colab.output.renderOutput(dataTable, element);\n",
              "          const docLink = document.createElement('div');\n",
              "          docLink.innerHTML = docLinkHtml;\n",
              "          element.appendChild(docLink);\n",
              "        }\n",
              "      </script>\n",
              "    </div>\n",
              "  </div>\n",
              "  "
            ]
          },
          "metadata": {}
        }
      ]
    },
    {
      "cell_type": "markdown",
      "source": [
        "## **Preprocessing tasks**\n",
        "\n",
        "Now let's work through the following preprocessing tasks: \n",
        "\n",
        "1.   Change to lowercase\n",
        "2.   Remove punctuations\n",
        "3.   Remove numbers\n",
        "4.   Remove stopwords\n",
        "5.   Remove whitespaces\n",
        "6.   Preprocess emojis\n",
        "7.   Fix contractions\n",
        "8.   Spell check\n",
        "9.   Tokenization\n",
        "10.  Stemming\n",
        "11.  Lemmatization\n",
        "12.  Vectorisation\n",
        "\n",
        "\n",
        "\n",
        "\n"
      ],
      "metadata": {
        "id": "GSuNXLkkjFEl"
      }
    },
    {
      "cell_type": "markdown",
      "source": [
        "## **Change to lowercase**\n",
        " \n",
        " Generally in text wrangling, all text is converted to lowercase, primarily for consistency, as well as the accuracy of tasks such as word frequency analysis and word matching.\n",
        "\n",
        " e.g. convert ‘DATA’, ’Data’, ‘DaTa’ and ‘DATa’ into ‘data’."
      ],
      "metadata": {
        "id": "wWU3ksQs-Yjc"
      }
    },
    {
      "cell_type": "markdown",
      "source": [
        "### **Demonstration**"
      ],
      "metadata": {
        "id": "6bde2j8SvJkN"
      }
    },
    {
      "cell_type": "code",
      "source": [
        "text = \"We can change between UPPERCASE and lowercase\"\n",
        "text_lowered = text.lower()\n",
        "\n",
        "print(text_lowered)"
      ],
      "metadata": {
        "colab": {
          "base_uri": "https://localhost:8080/"
        },
        "id": "LakgRuZh04PY",
        "outputId": "85ef9a12-1b25-44cb-8811-745efd3dde68"
      },
      "execution_count": null,
      "outputs": [
        {
          "output_type": "stream",
          "name": "stdout",
          "text": [
            "we can change between uppercase and lowercase\n"
          ]
        }
      ]
    },
    {
      "cell_type": "code",
      "source": [
        "text = \"We can change between UPPERCASE and lowercase\"\n",
        "text_uppered = text.upper()\n",
        "\n",
        "print(text_uppered)"
      ],
      "metadata": {
        "colab": {
          "base_uri": "https://localhost:8080/"
        },
        "outputId": "e6b8f2ce-8c9a-4df1-b104-6bb15cf26992",
        "id": "dnRqhGD82INa"
      },
      "execution_count": null,
      "outputs": [
        {
          "output_type": "stream",
          "name": "stdout",
          "text": [
            "WE CAN CHANGE BETWEEN UPPERCASE AND LOWERCASE\n"
          ]
        }
      ]
    },
    {
      "cell_type": "markdown",
      "source": [
        "### **Convert the entire dataset to lowercase**\n",
        "\n",
        "We can access columns of the dataframe with **Dataframe[Column]** command and then create a new columns \"text_lower\". "
      ],
      "metadata": {
        "id": "d8-IIgroxr98"
      }
    },
    {
      "cell_type": "code",
      "source": [
        "dataset[\"text_lower\"] = dataset[\"text\"].str.lower()\n",
        "display(dataset)"
      ],
      "metadata": {
        "colab": {
          "base_uri": "https://localhost:8080/",
          "height": 1068
        },
        "id": "9Bku4i1j2rFG",
        "outputId": "88cc0c51-b0af-4a04-8fda-8f7501b3b6d1"
      },
      "execution_count": null,
      "outputs": [
        {
          "output_type": "display_data",
          "data": {
            "text/plain": [
              "                          created_at  \\\n",
              "0     Tue Oct 31 22:10:47 +0000 2017   \n",
              "1     Tue Oct 31 22:11:45 +0000 2017   \n",
              "2     Tue Oct 31 22:08:27 +0000 2017   \n",
              "3     Tue Oct 31 21:54:49 +0000 2017   \n",
              "4     Tue Oct 31 21:49:35 +0000 2017   \n",
              "...                              ...   \n",
              "4995  Thu Nov 02 15:29:37 +0000 2017   \n",
              "4996  Thu Nov 02 15:31:46 +0000 2017   \n",
              "4997  Mon Oct 30 02:13:57 +0000 2017   \n",
              "4998  Tue Oct 31 23:40:03 +0000 2017   \n",
              "4999  Mon Oct 30 01:57:36 +0000 2017   \n",
              "\n",
              "                                                   text  \\\n",
              "0     @115712 I understand. I would like to assist y...   \n",
              "1         @sprintcare and how do you propose we do that   \n",
              "2     @sprintcare I have sent several private messag...   \n",
              "3     @115712 Please send us a Private Message so th...   \n",
              "4                                    @sprintcare I did.   \n",
              "...                                                 ...   \n",
              "4995  @117290 Hm, they should definitely resume if a...   \n",
              "4996  @117290 That's where they need to be on, so ch...   \n",
              "4997  @115940 Can you guys maybe like....FIX your st...   \n",
              "4998  @117291 Hulu is only available in the U.S. rig...   \n",
              "4999  @115940 when will the platform available in la...   \n",
              "\n",
              "                                             text_lower  \n",
              "0     @115712 i understand. i would like to assist y...  \n",
              "1         @sprintcare and how do you propose we do that  \n",
              "2     @sprintcare i have sent several private messag...  \n",
              "3     @115712 please send us a private message so th...  \n",
              "4                                    @sprintcare i did.  \n",
              "...                                                 ...  \n",
              "4995  @117290 hm, they should definitely resume if a...  \n",
              "4996  @117290 that's where they need to be on, so ch...  \n",
              "4997  @115940 can you guys maybe like....fix your st...  \n",
              "4998  @117291 hulu is only available in the u.s. rig...  \n",
              "4999  @115940 when will the platform available in la...  \n",
              "\n",
              "[5000 rows x 3 columns]"
            ],
            "text/html": [
              "\n",
              "  <div id=\"df-9b7002c7-0b3c-4b2a-9252-7a3c65f01a50\">\n",
              "    <div class=\"colab-df-container\">\n",
              "      <div>\n",
              "<style scoped>\n",
              "    .dataframe tbody tr th:only-of-type {\n",
              "        vertical-align: middle;\n",
              "    }\n",
              "\n",
              "    .dataframe tbody tr th {\n",
              "        vertical-align: top;\n",
              "    }\n",
              "\n",
              "    .dataframe thead th {\n",
              "        text-align: right;\n",
              "    }\n",
              "</style>\n",
              "<table border=\"1\" class=\"dataframe\">\n",
              "  <thead>\n",
              "    <tr style=\"text-align: right;\">\n",
              "      <th></th>\n",
              "      <th>created_at</th>\n",
              "      <th>text</th>\n",
              "      <th>text_lower</th>\n",
              "    </tr>\n",
              "  </thead>\n",
              "  <tbody>\n",
              "    <tr>\n",
              "      <th>0</th>\n",
              "      <td>Tue Oct 31 22:10:47 +0000 2017</td>\n",
              "      <td>@115712 I understand. I would like to assist y...</td>\n",
              "      <td>@115712 i understand. i would like to assist y...</td>\n",
              "    </tr>\n",
              "    <tr>\n",
              "      <th>1</th>\n",
              "      <td>Tue Oct 31 22:11:45 +0000 2017</td>\n",
              "      <td>@sprintcare and how do you propose we do that</td>\n",
              "      <td>@sprintcare and how do you propose we do that</td>\n",
              "    </tr>\n",
              "    <tr>\n",
              "      <th>2</th>\n",
              "      <td>Tue Oct 31 22:08:27 +0000 2017</td>\n",
              "      <td>@sprintcare I have sent several private messag...</td>\n",
              "      <td>@sprintcare i have sent several private messag...</td>\n",
              "    </tr>\n",
              "    <tr>\n",
              "      <th>3</th>\n",
              "      <td>Tue Oct 31 21:54:49 +0000 2017</td>\n",
              "      <td>@115712 Please send us a Private Message so th...</td>\n",
              "      <td>@115712 please send us a private message so th...</td>\n",
              "    </tr>\n",
              "    <tr>\n",
              "      <th>4</th>\n",
              "      <td>Tue Oct 31 21:49:35 +0000 2017</td>\n",
              "      <td>@sprintcare I did.</td>\n",
              "      <td>@sprintcare i did.</td>\n",
              "    </tr>\n",
              "    <tr>\n",
              "      <th>...</th>\n",
              "      <td>...</td>\n",
              "      <td>...</td>\n",
              "      <td>...</td>\n",
              "    </tr>\n",
              "    <tr>\n",
              "      <th>4995</th>\n",
              "      <td>Thu Nov 02 15:29:37 +0000 2017</td>\n",
              "      <td>@117290 Hm, they should definitely resume if a...</td>\n",
              "      <td>@117290 hm, they should definitely resume if a...</td>\n",
              "    </tr>\n",
              "    <tr>\n",
              "      <th>4996</th>\n",
              "      <td>Thu Nov 02 15:31:46 +0000 2017</td>\n",
              "      <td>@117290 That's where they need to be on, so ch...</td>\n",
              "      <td>@117290 that's where they need to be on, so ch...</td>\n",
              "    </tr>\n",
              "    <tr>\n",
              "      <th>4997</th>\n",
              "      <td>Mon Oct 30 02:13:57 +0000 2017</td>\n",
              "      <td>@115940 Can you guys maybe like....FIX your st...</td>\n",
              "      <td>@115940 can you guys maybe like....fix your st...</td>\n",
              "    </tr>\n",
              "    <tr>\n",
              "      <th>4998</th>\n",
              "      <td>Tue Oct 31 23:40:03 +0000 2017</td>\n",
              "      <td>@117291 Hulu is only available in the U.S. rig...</td>\n",
              "      <td>@117291 hulu is only available in the u.s. rig...</td>\n",
              "    </tr>\n",
              "    <tr>\n",
              "      <th>4999</th>\n",
              "      <td>Mon Oct 30 01:57:36 +0000 2017</td>\n",
              "      <td>@115940 when will the platform available in la...</td>\n",
              "      <td>@115940 when will the platform available in la...</td>\n",
              "    </tr>\n",
              "  </tbody>\n",
              "</table>\n",
              "<p>5000 rows × 3 columns</p>\n",
              "</div>\n",
              "      <button class=\"colab-df-convert\" onclick=\"convertToInteractive('df-9b7002c7-0b3c-4b2a-9252-7a3c65f01a50')\"\n",
              "              title=\"Convert this dataframe to an interactive table.\"\n",
              "              style=\"display:none;\">\n",
              "        \n",
              "  <svg xmlns=\"http://www.w3.org/2000/svg\" height=\"24px\"viewBox=\"0 0 24 24\"\n",
              "       width=\"24px\">\n",
              "    <path d=\"M0 0h24v24H0V0z\" fill=\"none\"/>\n",
              "    <path d=\"M18.56 5.44l.94 2.06.94-2.06 2.06-.94-2.06-.94-.94-2.06-.94 2.06-2.06.94zm-11 1L8.5 8.5l.94-2.06 2.06-.94-2.06-.94L8.5 2.5l-.94 2.06-2.06.94zm10 10l.94 2.06.94-2.06 2.06-.94-2.06-.94-.94-2.06-.94 2.06-2.06.94z\"/><path d=\"M17.41 7.96l-1.37-1.37c-.4-.4-.92-.59-1.43-.59-.52 0-1.04.2-1.43.59L10.3 9.45l-7.72 7.72c-.78.78-.78 2.05 0 2.83L4 21.41c.39.39.9.59 1.41.59.51 0 1.02-.2 1.41-.59l7.78-7.78 2.81-2.81c.8-.78.8-2.07 0-2.86zM5.41 20L4 18.59l7.72-7.72 1.47 1.35L5.41 20z\"/>\n",
              "  </svg>\n",
              "      </button>\n",
              "      \n",
              "  <style>\n",
              "    .colab-df-container {\n",
              "      display:flex;\n",
              "      flex-wrap:wrap;\n",
              "      gap: 12px;\n",
              "    }\n",
              "\n",
              "    .colab-df-convert {\n",
              "      background-color: #E8F0FE;\n",
              "      border: none;\n",
              "      border-radius: 50%;\n",
              "      cursor: pointer;\n",
              "      display: none;\n",
              "      fill: #1967D2;\n",
              "      height: 32px;\n",
              "      padding: 0 0 0 0;\n",
              "      width: 32px;\n",
              "    }\n",
              "\n",
              "    .colab-df-convert:hover {\n",
              "      background-color: #E2EBFA;\n",
              "      box-shadow: 0px 1px 2px rgba(60, 64, 67, 0.3), 0px 1px 3px 1px rgba(60, 64, 67, 0.15);\n",
              "      fill: #174EA6;\n",
              "    }\n",
              "\n",
              "    [theme=dark] .colab-df-convert {\n",
              "      background-color: #3B4455;\n",
              "      fill: #D2E3FC;\n",
              "    }\n",
              "\n",
              "    [theme=dark] .colab-df-convert:hover {\n",
              "      background-color: #434B5C;\n",
              "      box-shadow: 0px 1px 3px 1px rgba(0, 0, 0, 0.15);\n",
              "      filter: drop-shadow(0px 1px 2px rgba(0, 0, 0, 0.3));\n",
              "      fill: #FFFFFF;\n",
              "    }\n",
              "  </style>\n",
              "\n",
              "      <script>\n",
              "        const buttonEl =\n",
              "          document.querySelector('#df-9b7002c7-0b3c-4b2a-9252-7a3c65f01a50 button.colab-df-convert');\n",
              "        buttonEl.style.display =\n",
              "          google.colab.kernel.accessAllowed ? 'block' : 'none';\n",
              "\n",
              "        async function convertToInteractive(key) {\n",
              "          const element = document.querySelector('#df-9b7002c7-0b3c-4b2a-9252-7a3c65f01a50');\n",
              "          const dataTable =\n",
              "            await google.colab.kernel.invokeFunction('convertToInteractive',\n",
              "                                                     [key], {});\n",
              "          if (!dataTable) return;\n",
              "\n",
              "          const docLinkHtml = 'Like what you see? Visit the ' +\n",
              "            '<a target=\"_blank\" href=https://colab.research.google.com/notebooks/data_table.ipynb>data table notebook</a>'\n",
              "            + ' to learn more about interactive tables.';\n",
              "          element.innerHTML = '';\n",
              "          dataTable['output_type'] = 'display_data';\n",
              "          await google.colab.output.renderOutput(dataTable, element);\n",
              "          const docLink = document.createElement('div');\n",
              "          docLink.innerHTML = docLinkHtml;\n",
              "          element.appendChild(docLink);\n",
              "        }\n",
              "      </script>\n",
              "    </div>\n",
              "  </div>\n",
              "  "
            ]
          },
          "metadata": {}
        }
      ]
    },
    {
      "cell_type": "markdown",
      "source": [
        "## **Removing punctuation**\n",
        "Another common wrangling task, which ensures consistency of the text corpus and its words. \n",
        "\n",
        "e.g.  \"Words.\", \"Words!\", \"Words,\" should be converted to \"Words\"\n"
      ],
      "metadata": {
        "id": "w6puGS4R2kWR"
      }
    },
    {
      "cell_type": "markdown",
      "source": [
        "### **Removing punctuation by iterating through text**\n",
        "\n",
        "\n",
        "Punctuations are defined in the String package of python."
      ],
      "metadata": {
        "id": "2w2Gc0UTuo3b"
      }
    },
    {
      "cell_type": "code",
      "source": [
        "import string\n",
        "punctuations = string.punctuation\n",
        "print(punctuations)"
      ],
      "metadata": {
        "colab": {
          "base_uri": "https://localhost:8080/"
        },
        "id": "fIynX1uTAK2K",
        "outputId": "718afa90-ea11-43b8-b53c-ce635e80dce6"
      },
      "execution_count": null,
      "outputs": [
        {
          "output_type": "stream",
          "name": "stdout",
          "text": [
            "!\"#$%&'()*+,-./:;<=>?@[\\]^_`{|}~\n"
          ]
        }
      ]
    },
    {
      "cell_type": "markdown",
      "source": [
        "Use the replace function in python to replace all the occurrences of punctuation characters. \n",
        "\n",
        "text_new = text.replace(oldvalue, newvalue)\n",
        "\n",
        "The replace function will find all occurrences of given string in a text and replace it with replacement string."
      ],
      "metadata": {
        "id": "Bi3uC5IDpVLR"
      }
    },
    {
      "cell_type": "code",
      "source": [
        "text = \"I like Java\"\n",
        "print(text.replace(\"Java\", \"Python\"))\n",
        "\n",
        "text = \"I like punctuation!\"\n",
        "print(text.replace(\"!\", \"\"))\n",
        "\n",
        "\n"
      ],
      "metadata": {
        "colab": {
          "base_uri": "https://localhost:8080/"
        },
        "id": "nz_NwO-ir9VC",
        "outputId": "4bca7ef1-4d1a-4dd2-8444-a6999f41b93c"
      },
      "execution_count": null,
      "outputs": [
        {
          "output_type": "stream",
          "name": "stdout",
          "text": [
            "I like Python\n",
            "I like punctuation\n"
          ]
        }
      ]
    },
    {
      "cell_type": "markdown",
      "source": [
        "This is obviously tedious, instead we could write a function to remove all punctuation as shown below. "
      ],
      "metadata": {
        "id": "zinfwTfZ3NmG"
      }
    },
    {
      "cell_type": "code",
      "source": [
        "#iterating through all punctuation and remove them\n",
        "def remove_punctuation(text):\n",
        "  for each_punctuation in punctuations:\n",
        "      text = text.replace(each_punctuation, '')\n",
        "  return text\n"
      ],
      "metadata": {
        "id": "7Yf07uV7DIuM"
      },
      "execution_count": null,
      "outputs": []
    },
    {
      "cell_type": "code",
      "source": [
        "text = 'I like pu&n^c*tu@a#t$i%o^n!'\n",
        "\n",
        "remove_punctuation(text)"
      ],
      "metadata": {
        "colab": {
          "base_uri": "https://localhost:8080/",
          "height": 36
        },
        "id": "q7GIIF9Z3bLW",
        "outputId": "21662e9e-a7c4-455d-d1b5-94b25562da32"
      },
      "execution_count": null,
      "outputs": [
        {
          "output_type": "execute_result",
          "data": {
            "text/plain": [
              "'I like punctuation'"
            ],
            "application/vnd.google.colaboratory.intrinsic+json": {
              "type": "string"
            }
          },
          "metadata": {},
          "execution_count": 16
        }
      ]
    },
    {
      "cell_type": "markdown",
      "source": [
        "### **Removing punctuation using regex**"
      ],
      "metadata": {
        "id": "vCpjMcFzvb5u"
      }
    },
    {
      "cell_type": "markdown",
      "source": [
        "We can also use RegEx (regular expressions) to remove punctuation.\n",
        "\n",
        "RegEx are a pattern-matching method commonly found in most string operation packages. In Python, we use the following single line of code to access the substitution function in the \"Re\" package.\n",
        "\n",
        "\n",
        "result = re.sub(pattern, replacement, input string)"
      ],
      "metadata": {
        "id": "Piz6GzXRGGdi"
      }
    },
    {
      "cell_type": "code",
      "source": [
        "import re\n",
        "\n",
        "text = '!wh?at is the w_eat[h]er lik?e.'\n",
        "#replace punctuation with an empty string\n",
        "text_new = re.sub(\"[!#$%&'()*+,-./:;<=>?@[\\]^_`{|}~]\",'',text)\n",
        "print(text_new)\n"
      ],
      "metadata": {
        "colab": {
          "base_uri": "https://localhost:8080/"
        },
        "id": "qRz5nuAJIdwr",
        "outputId": "6383b34e-b204-4d99-8e44-915329fabf1a"
      },
      "execution_count": null,
      "outputs": [
        {
          "output_type": "stream",
          "name": "stdout",
          "text": [
            "what is the weather like\n"
          ]
        }
      ]
    },
    {
      "cell_type": "markdown",
      "source": [
        "Writing the function much shorter way."
      ],
      "metadata": {
        "id": "cbQogqxXVJWh"
      }
    },
    {
      "cell_type": "code",
      "source": [
        "def remove_punctuation(text):\n",
        "  return re.sub(\"[!#$%&'()*+,-./:;<=>?@[\\]^_`{|}~]\",'',text)"
      ],
      "metadata": {
        "id": "g0iXpGhgU74a"
      },
      "execution_count": null,
      "outputs": []
    },
    {
      "cell_type": "markdown",
      "source": [
        "### **Removing punctuation in the dataset**\n",
        "\n",
        "With pandas, we use the apply() function to process all the values of a given column.\n",
        "\n",
        "\n",
        "Dataframe['New column'] = Dataframe['Column'].apply(Function)"
      ],
      "metadata": {
        "id": "RkBWzuESxzzO"
      }
    },
    {
      "cell_type": "code",
      "source": [
        "dataset[\"text_without_punctuations\"] = dataset[\"text_lower\"].apply(remove_punctuation)\n",
        "display(dataset[['text', 'text_without_punctuations']])"
      ],
      "metadata": {
        "colab": {
          "base_uri": "https://localhost:8080/",
          "height": 424
        },
        "id": "cEKHCLwv28pY",
        "outputId": "539eb562-3177-41ee-ad68-8ff68e1af0a9"
      },
      "execution_count": null,
      "outputs": [
        {
          "output_type": "display_data",
          "data": {
            "text/plain": [
              "                                                   text  \\\n",
              "0     @115712 I understand. I would like to assist y...   \n",
              "1         @sprintcare and how do you propose we do that   \n",
              "2     @sprintcare I have sent several private messag...   \n",
              "3     @115712 Please send us a Private Message so th...   \n",
              "4                                    @sprintcare I did.   \n",
              "...                                                 ...   \n",
              "4995  @117290 Hm, they should definitely resume if a...   \n",
              "4996  @117290 That's where they need to be on, so ch...   \n",
              "4997  @115940 Can you guys maybe like....FIX your st...   \n",
              "4998  @117291 Hulu is only available in the U.S. rig...   \n",
              "4999  @115940 when will the platform available in la...   \n",
              "\n",
              "                              text_without_punctuations  \n",
              "0     115712 i understand i would like to assist you...  \n",
              "1          sprintcare and how do you propose we do that  \n",
              "2     sprintcare i have sent several private message...  \n",
              "3     115712 please send us a private message so tha...  \n",
              "4                                      sprintcare i did  \n",
              "...                                                 ...  \n",
              "4995  117290 hm they should definitely resume if alr...  \n",
              "4996  117290 thats where they need to be on so check...  \n",
              "4997  115940 can you guys maybe likefix your stuff f...  \n",
              "4998  117291 hulu is only available in the us right ...  \n",
              "4999  115940 when will the platform available in lat...  \n",
              "\n",
              "[5000 rows x 2 columns]"
            ],
            "text/html": [
              "\n",
              "  <div id=\"df-3ae6da26-d81f-4cf6-912c-d8fc1ccd6ca4\">\n",
              "    <div class=\"colab-df-container\">\n",
              "      <div>\n",
              "<style scoped>\n",
              "    .dataframe tbody tr th:only-of-type {\n",
              "        vertical-align: middle;\n",
              "    }\n",
              "\n",
              "    .dataframe tbody tr th {\n",
              "        vertical-align: top;\n",
              "    }\n",
              "\n",
              "    .dataframe thead th {\n",
              "        text-align: right;\n",
              "    }\n",
              "</style>\n",
              "<table border=\"1\" class=\"dataframe\">\n",
              "  <thead>\n",
              "    <tr style=\"text-align: right;\">\n",
              "      <th></th>\n",
              "      <th>text</th>\n",
              "      <th>text_without_punctuations</th>\n",
              "    </tr>\n",
              "  </thead>\n",
              "  <tbody>\n",
              "    <tr>\n",
              "      <th>0</th>\n",
              "      <td>@115712 I understand. I would like to assist y...</td>\n",
              "      <td>115712 i understand i would like to assist you...</td>\n",
              "    </tr>\n",
              "    <tr>\n",
              "      <th>1</th>\n",
              "      <td>@sprintcare and how do you propose we do that</td>\n",
              "      <td>sprintcare and how do you propose we do that</td>\n",
              "    </tr>\n",
              "    <tr>\n",
              "      <th>2</th>\n",
              "      <td>@sprintcare I have sent several private messag...</td>\n",
              "      <td>sprintcare i have sent several private message...</td>\n",
              "    </tr>\n",
              "    <tr>\n",
              "      <th>3</th>\n",
              "      <td>@115712 Please send us a Private Message so th...</td>\n",
              "      <td>115712 please send us a private message so tha...</td>\n",
              "    </tr>\n",
              "    <tr>\n",
              "      <th>4</th>\n",
              "      <td>@sprintcare I did.</td>\n",
              "      <td>sprintcare i did</td>\n",
              "    </tr>\n",
              "    <tr>\n",
              "      <th>...</th>\n",
              "      <td>...</td>\n",
              "      <td>...</td>\n",
              "    </tr>\n",
              "    <tr>\n",
              "      <th>4995</th>\n",
              "      <td>@117290 Hm, they should definitely resume if a...</td>\n",
              "      <td>117290 hm they should definitely resume if alr...</td>\n",
              "    </tr>\n",
              "    <tr>\n",
              "      <th>4996</th>\n",
              "      <td>@117290 That's where they need to be on, so ch...</td>\n",
              "      <td>117290 thats where they need to be on so check...</td>\n",
              "    </tr>\n",
              "    <tr>\n",
              "      <th>4997</th>\n",
              "      <td>@115940 Can you guys maybe like....FIX your st...</td>\n",
              "      <td>115940 can you guys maybe likefix your stuff f...</td>\n",
              "    </tr>\n",
              "    <tr>\n",
              "      <th>4998</th>\n",
              "      <td>@117291 Hulu is only available in the U.S. rig...</td>\n",
              "      <td>117291 hulu is only available in the us right ...</td>\n",
              "    </tr>\n",
              "    <tr>\n",
              "      <th>4999</th>\n",
              "      <td>@115940 when will the platform available in la...</td>\n",
              "      <td>115940 when will the platform available in lat...</td>\n",
              "    </tr>\n",
              "  </tbody>\n",
              "</table>\n",
              "<p>5000 rows × 2 columns</p>\n",
              "</div>\n",
              "      <button class=\"colab-df-convert\" onclick=\"convertToInteractive('df-3ae6da26-d81f-4cf6-912c-d8fc1ccd6ca4')\"\n",
              "              title=\"Convert this dataframe to an interactive table.\"\n",
              "              style=\"display:none;\">\n",
              "        \n",
              "  <svg xmlns=\"http://www.w3.org/2000/svg\" height=\"24px\"viewBox=\"0 0 24 24\"\n",
              "       width=\"24px\">\n",
              "    <path d=\"M0 0h24v24H0V0z\" fill=\"none\"/>\n",
              "    <path d=\"M18.56 5.44l.94 2.06.94-2.06 2.06-.94-2.06-.94-.94-2.06-.94 2.06-2.06.94zm-11 1L8.5 8.5l.94-2.06 2.06-.94-2.06-.94L8.5 2.5l-.94 2.06-2.06.94zm10 10l.94 2.06.94-2.06 2.06-.94-2.06-.94-.94-2.06-.94 2.06-2.06.94z\"/><path d=\"M17.41 7.96l-1.37-1.37c-.4-.4-.92-.59-1.43-.59-.52 0-1.04.2-1.43.59L10.3 9.45l-7.72 7.72c-.78.78-.78 2.05 0 2.83L4 21.41c.39.39.9.59 1.41.59.51 0 1.02-.2 1.41-.59l7.78-7.78 2.81-2.81c.8-.78.8-2.07 0-2.86zM5.41 20L4 18.59l7.72-7.72 1.47 1.35L5.41 20z\"/>\n",
              "  </svg>\n",
              "      </button>\n",
              "      \n",
              "  <style>\n",
              "    .colab-df-container {\n",
              "      display:flex;\n",
              "      flex-wrap:wrap;\n",
              "      gap: 12px;\n",
              "    }\n",
              "\n",
              "    .colab-df-convert {\n",
              "      background-color: #E8F0FE;\n",
              "      border: none;\n",
              "      border-radius: 50%;\n",
              "      cursor: pointer;\n",
              "      display: none;\n",
              "      fill: #1967D2;\n",
              "      height: 32px;\n",
              "      padding: 0 0 0 0;\n",
              "      width: 32px;\n",
              "    }\n",
              "\n",
              "    .colab-df-convert:hover {\n",
              "      background-color: #E2EBFA;\n",
              "      box-shadow: 0px 1px 2px rgba(60, 64, 67, 0.3), 0px 1px 3px 1px rgba(60, 64, 67, 0.15);\n",
              "      fill: #174EA6;\n",
              "    }\n",
              "\n",
              "    [theme=dark] .colab-df-convert {\n",
              "      background-color: #3B4455;\n",
              "      fill: #D2E3FC;\n",
              "    }\n",
              "\n",
              "    [theme=dark] .colab-df-convert:hover {\n",
              "      background-color: #434B5C;\n",
              "      box-shadow: 0px 1px 3px 1px rgba(0, 0, 0, 0.15);\n",
              "      filter: drop-shadow(0px 1px 2px rgba(0, 0, 0, 0.3));\n",
              "      fill: #FFFFFF;\n",
              "    }\n",
              "  </style>\n",
              "\n",
              "      <script>\n",
              "        const buttonEl =\n",
              "          document.querySelector('#df-3ae6da26-d81f-4cf6-912c-d8fc1ccd6ca4 button.colab-df-convert');\n",
              "        buttonEl.style.display =\n",
              "          google.colab.kernel.accessAllowed ? 'block' : 'none';\n",
              "\n",
              "        async function convertToInteractive(key) {\n",
              "          const element = document.querySelector('#df-3ae6da26-d81f-4cf6-912c-d8fc1ccd6ca4');\n",
              "          const dataTable =\n",
              "            await google.colab.kernel.invokeFunction('convertToInteractive',\n",
              "                                                     [key], {});\n",
              "          if (!dataTable) return;\n",
              "\n",
              "          const docLinkHtml = 'Like what you see? Visit the ' +\n",
              "            '<a target=\"_blank\" href=https://colab.research.google.com/notebooks/data_table.ipynb>data table notebook</a>'\n",
              "            + ' to learn more about interactive tables.';\n",
              "          element.innerHTML = '';\n",
              "          dataTable['output_type'] = 'display_data';\n",
              "          await google.colab.output.renderOutput(dataTable, element);\n",
              "          const docLink = document.createElement('div');\n",
              "          docLink.innerHTML = docLinkHtml;\n",
              "          element.appendChild(docLink);\n",
              "        }\n",
              "      </script>\n",
              "    </div>\n",
              "  </div>\n",
              "  "
            ]
          },
          "metadata": {}
        }
      ]
    },
    {
      "cell_type": "markdown",
      "source": [
        "## **Removing numbers.**\n",
        "\n",
        "In some cases, we need to remove numbers from the text as they do not contain any relevant information. For example, if we want to extract sentiment from text, numbers do not add value, instead it can reduce the accuracy of the sentiment extraction."
      ],
      "metadata": {
        "id": "2iajqlHwb65t"
      }
    },
    {
      "cell_type": "markdown",
      "source": [
        "### **Removing numbers by iterating through text**"
      ],
      "metadata": {
        "id": "HUGkAM3avllV"
      }
    },
    {
      "cell_type": "code",
      "source": [
        "#iterating through all digits and remove them\n",
        "import string\n",
        "\n",
        "text = '1223 Hello, how are you doing?.'\n",
        "\n",
        "digits = string.digits #[0-9] \n",
        "\n",
        "for each_digit in digits:\n",
        "    text = text.replace(each_digit, '')\n",
        "print(text)"
      ],
      "metadata": {
        "id": "P5MIdTYRcnEU",
        "colab": {
          "base_uri": "https://localhost:8080/"
        },
        "outputId": "75ba32ec-218c-44f5-c0b7-49dd4648fc3c"
      },
      "execution_count": null,
      "outputs": [
        {
          "output_type": "stream",
          "name": "stdout",
          "text": [
            " Hello, how are you doing?.\n"
          ]
        }
      ]
    },
    {
      "cell_type": "markdown",
      "source": [
        "### **Removing numbers using regex**"
      ],
      "metadata": {
        "id": "Yq_LzdQrvopc"
      }
    },
    {
      "cell_type": "markdown",
      "source": [
        "We can simply use regex for this.\n",
        "\n",
        "In regex notation we use \\d for digits."
      ],
      "metadata": {
        "id": "dTajnTuNfW_I"
      }
    },
    {
      "cell_type": "code",
      "source": [
        "# Using regex\n",
        "text = '1223 Hello, how are you doing?.'\n",
        "text_new = re.sub('\\d', '', text)\n",
        "print(text_new)"
      ],
      "metadata": {
        "colab": {
          "base_uri": "https://localhost:8080/"
        },
        "id": "1rp8z0J-fMJV",
        "outputId": "22175db0-ab32-4f38-f5f1-c296ed2158fe"
      },
      "execution_count": null,
      "outputs": [
        {
          "output_type": "stream",
          "name": "stdout",
          "text": [
            " Hello, how are you doing?.\n"
          ]
        }
      ]
    },
    {
      "cell_type": "markdown",
      "source": [
        "We can quickly write a function for this."
      ],
      "metadata": {
        "id": "0o2Hf-nkVjws"
      }
    },
    {
      "cell_type": "code",
      "source": [
        "def remove_numbers(text):\n",
        "  return re.sub('\\d', '', text)"
      ],
      "metadata": {
        "id": "tIRQbexKViQ0"
      },
      "execution_count": null,
      "outputs": []
    },
    {
      "cell_type": "markdown",
      "source": [
        "### **Removing numbers in the dataset**"
      ],
      "metadata": {
        "id": "2T0C8Xp-G9vk"
      }
    },
    {
      "cell_type": "code",
      "source": [
        "dataset[\"text_without_numbers\"] = dataset[\"text_without_punctuations\"].apply(remove_numbers)\n",
        "display(dataset[['text', 'text_without_numbers']])"
      ],
      "metadata": {
        "colab": {
          "base_uri": "https://localhost:8080/",
          "height": 424
        },
        "id": "YIFobjy3HDti",
        "outputId": "8fd2d80a-a099-471e-e4f5-c542416acd38"
      },
      "execution_count": null,
      "outputs": [
        {
          "output_type": "display_data",
          "data": {
            "text/plain": [
              "                                                   text  \\\n",
              "0     @115712 I understand. I would like to assist y...   \n",
              "1         @sprintcare and how do you propose we do that   \n",
              "2     @sprintcare I have sent several private messag...   \n",
              "3     @115712 Please send us a Private Message so th...   \n",
              "4                                    @sprintcare I did.   \n",
              "...                                                 ...   \n",
              "4995  @117290 Hm, they should definitely resume if a...   \n",
              "4996  @117290 That's where they need to be on, so ch...   \n",
              "4997  @115940 Can you guys maybe like....FIX your st...   \n",
              "4998  @117291 Hulu is only available in the U.S. rig...   \n",
              "4999  @115940 when will the platform available in la...   \n",
              "\n",
              "                                   text_without_numbers  \n",
              "0      i understand i would like to assist you we wo...  \n",
              "1          sprintcare and how do you propose we do that  \n",
              "2     sprintcare i have sent several private message...  \n",
              "3      please send us a private message so that we c...  \n",
              "4                                      sprintcare i did  \n",
              "...                                                 ...  \n",
              "4995   hm they should definitely resume if already e...  \n",
              "4996   thats where they need to be on so check there...  \n",
              "4997   can you guys maybe likefix your stuff for the...  \n",
              "4998   hulu is only available in the us right now bu...  \n",
              "4999   when will the platform available in latinamer...  \n",
              "\n",
              "[5000 rows x 2 columns]"
            ],
            "text/html": [
              "\n",
              "  <div id=\"df-a665de2a-3c70-4815-adb7-f3a39e109002\">\n",
              "    <div class=\"colab-df-container\">\n",
              "      <div>\n",
              "<style scoped>\n",
              "    .dataframe tbody tr th:only-of-type {\n",
              "        vertical-align: middle;\n",
              "    }\n",
              "\n",
              "    .dataframe tbody tr th {\n",
              "        vertical-align: top;\n",
              "    }\n",
              "\n",
              "    .dataframe thead th {\n",
              "        text-align: right;\n",
              "    }\n",
              "</style>\n",
              "<table border=\"1\" class=\"dataframe\">\n",
              "  <thead>\n",
              "    <tr style=\"text-align: right;\">\n",
              "      <th></th>\n",
              "      <th>text</th>\n",
              "      <th>text_without_numbers</th>\n",
              "    </tr>\n",
              "  </thead>\n",
              "  <tbody>\n",
              "    <tr>\n",
              "      <th>0</th>\n",
              "      <td>@115712 I understand. I would like to assist y...</td>\n",
              "      <td>i understand i would like to assist you we wo...</td>\n",
              "    </tr>\n",
              "    <tr>\n",
              "      <th>1</th>\n",
              "      <td>@sprintcare and how do you propose we do that</td>\n",
              "      <td>sprintcare and how do you propose we do that</td>\n",
              "    </tr>\n",
              "    <tr>\n",
              "      <th>2</th>\n",
              "      <td>@sprintcare I have sent several private messag...</td>\n",
              "      <td>sprintcare i have sent several private message...</td>\n",
              "    </tr>\n",
              "    <tr>\n",
              "      <th>3</th>\n",
              "      <td>@115712 Please send us a Private Message so th...</td>\n",
              "      <td>please send us a private message so that we c...</td>\n",
              "    </tr>\n",
              "    <tr>\n",
              "      <th>4</th>\n",
              "      <td>@sprintcare I did.</td>\n",
              "      <td>sprintcare i did</td>\n",
              "    </tr>\n",
              "    <tr>\n",
              "      <th>...</th>\n",
              "      <td>...</td>\n",
              "      <td>...</td>\n",
              "    </tr>\n",
              "    <tr>\n",
              "      <th>4995</th>\n",
              "      <td>@117290 Hm, they should definitely resume if a...</td>\n",
              "      <td>hm they should definitely resume if already e...</td>\n",
              "    </tr>\n",
              "    <tr>\n",
              "      <th>4996</th>\n",
              "      <td>@117290 That's where they need to be on, so ch...</td>\n",
              "      <td>thats where they need to be on so check there...</td>\n",
              "    </tr>\n",
              "    <tr>\n",
              "      <th>4997</th>\n",
              "      <td>@115940 Can you guys maybe like....FIX your st...</td>\n",
              "      <td>can you guys maybe likefix your stuff for the...</td>\n",
              "    </tr>\n",
              "    <tr>\n",
              "      <th>4998</th>\n",
              "      <td>@117291 Hulu is only available in the U.S. rig...</td>\n",
              "      <td>hulu is only available in the us right now bu...</td>\n",
              "    </tr>\n",
              "    <tr>\n",
              "      <th>4999</th>\n",
              "      <td>@115940 when will the platform available in la...</td>\n",
              "      <td>when will the platform available in latinamer...</td>\n",
              "    </tr>\n",
              "  </tbody>\n",
              "</table>\n",
              "<p>5000 rows × 2 columns</p>\n",
              "</div>\n",
              "      <button class=\"colab-df-convert\" onclick=\"convertToInteractive('df-a665de2a-3c70-4815-adb7-f3a39e109002')\"\n",
              "              title=\"Convert this dataframe to an interactive table.\"\n",
              "              style=\"display:none;\">\n",
              "        \n",
              "  <svg xmlns=\"http://www.w3.org/2000/svg\" height=\"24px\"viewBox=\"0 0 24 24\"\n",
              "       width=\"24px\">\n",
              "    <path d=\"M0 0h24v24H0V0z\" fill=\"none\"/>\n",
              "    <path d=\"M18.56 5.44l.94 2.06.94-2.06 2.06-.94-2.06-.94-.94-2.06-.94 2.06-2.06.94zm-11 1L8.5 8.5l.94-2.06 2.06-.94-2.06-.94L8.5 2.5l-.94 2.06-2.06.94zm10 10l.94 2.06.94-2.06 2.06-.94-2.06-.94-.94-2.06-.94 2.06-2.06.94z\"/><path d=\"M17.41 7.96l-1.37-1.37c-.4-.4-.92-.59-1.43-.59-.52 0-1.04.2-1.43.59L10.3 9.45l-7.72 7.72c-.78.78-.78 2.05 0 2.83L4 21.41c.39.39.9.59 1.41.59.51 0 1.02-.2 1.41-.59l7.78-7.78 2.81-2.81c.8-.78.8-2.07 0-2.86zM5.41 20L4 18.59l7.72-7.72 1.47 1.35L5.41 20z\"/>\n",
              "  </svg>\n",
              "      </button>\n",
              "      \n",
              "  <style>\n",
              "    .colab-df-container {\n",
              "      display:flex;\n",
              "      flex-wrap:wrap;\n",
              "      gap: 12px;\n",
              "    }\n",
              "\n",
              "    .colab-df-convert {\n",
              "      background-color: #E8F0FE;\n",
              "      border: none;\n",
              "      border-radius: 50%;\n",
              "      cursor: pointer;\n",
              "      display: none;\n",
              "      fill: #1967D2;\n",
              "      height: 32px;\n",
              "      padding: 0 0 0 0;\n",
              "      width: 32px;\n",
              "    }\n",
              "\n",
              "    .colab-df-convert:hover {\n",
              "      background-color: #E2EBFA;\n",
              "      box-shadow: 0px 1px 2px rgba(60, 64, 67, 0.3), 0px 1px 3px 1px rgba(60, 64, 67, 0.15);\n",
              "      fill: #174EA6;\n",
              "    }\n",
              "\n",
              "    [theme=dark] .colab-df-convert {\n",
              "      background-color: #3B4455;\n",
              "      fill: #D2E3FC;\n",
              "    }\n",
              "\n",
              "    [theme=dark] .colab-df-convert:hover {\n",
              "      background-color: #434B5C;\n",
              "      box-shadow: 0px 1px 3px 1px rgba(0, 0, 0, 0.15);\n",
              "      filter: drop-shadow(0px 1px 2px rgba(0, 0, 0, 0.3));\n",
              "      fill: #FFFFFF;\n",
              "    }\n",
              "  </style>\n",
              "\n",
              "      <script>\n",
              "        const buttonEl =\n",
              "          document.querySelector('#df-a665de2a-3c70-4815-adb7-f3a39e109002 button.colab-df-convert');\n",
              "        buttonEl.style.display =\n",
              "          google.colab.kernel.accessAllowed ? 'block' : 'none';\n",
              "\n",
              "        async function convertToInteractive(key) {\n",
              "          const element = document.querySelector('#df-a665de2a-3c70-4815-adb7-f3a39e109002');\n",
              "          const dataTable =\n",
              "            await google.colab.kernel.invokeFunction('convertToInteractive',\n",
              "                                                     [key], {});\n",
              "          if (!dataTable) return;\n",
              "\n",
              "          const docLinkHtml = 'Like what you see? Visit the ' +\n",
              "            '<a target=\"_blank\" href=https://colab.research.google.com/notebooks/data_table.ipynb>data table notebook</a>'\n",
              "            + ' to learn more about interactive tables.';\n",
              "          element.innerHTML = '';\n",
              "          dataTable['output_type'] = 'display_data';\n",
              "          await google.colab.output.renderOutput(dataTable, element);\n",
              "          const docLink = document.createElement('div');\n",
              "          docLink.innerHTML = docLinkHtml;\n",
              "          element.appendChild(docLink);\n",
              "        }\n",
              "      </script>\n",
              "    </div>\n",
              "  </div>\n",
              "  "
            ]
          },
          "metadata": {}
        }
      ]
    },
    {
      "cell_type": "markdown",
      "source": [
        "## **Removing Stopwords**"
      ],
      "metadata": {
        "id": "N1BW9NR_v8id"
      }
    },
    {
      "cell_type": "markdown",
      "source": [
        "\n",
        "Stopwords are the most common words in any language. Usually stopwords contain articles, prepositions, pronouns, conjunctions, etc. In most NLP methods, stopwords are removed as these words do not contain semantics and may have a negative impact on downstream techniques like frequency analysis.\n",
        "\n",
        "It also makes the dataset smaller which improves performance.\n",
        "e.g. “It is a good outcome.” -> \"good outcome\"\n",
        "\n",
        "Here we use the NLTK library to remove stopwords."
      ],
      "metadata": {
        "id": "h0M1G3mB6GCz"
      }
    },
    {
      "cell_type": "code",
      "source": [
        "# import the NLTK library\n",
        "import nltk\n",
        "\n",
        "# Download stopwords to the nltk library \n",
        "nltk.download('stopwords')\n",
        "\n",
        "# Load the stopwords\n",
        "from nltk.corpus import stopwords"
      ],
      "metadata": {
        "id": "agnQ13mp_BiQ",
        "colab": {
          "base_uri": "https://localhost:8080/"
        },
        "outputId": "5c1ae56b-4bfd-4fe6-c20e-31fece377e2c"
      },
      "execution_count": null,
      "outputs": [
        {
          "output_type": "stream",
          "name": "stderr",
          "text": [
            "[nltk_data] Downloading package stopwords to /root/nltk_data...\n",
            "[nltk_data]   Package stopwords is already up-to-date!\n"
          ]
        }
      ]
    },
    {
      "cell_type": "code",
      "source": [
        "# get the list of all stopwords from the library\n",
        "stopword_list = stopwords.words('english')"
      ],
      "metadata": {
        "id": "BbbM99Qm_Eeg"
      },
      "execution_count": null,
      "outputs": []
    },
    {
      "cell_type": "code",
      "source": [
        "print(stopword_list)"
      ],
      "metadata": {
        "id": "rZkayD09_G4f",
        "colab": {
          "base_uri": "https://localhost:8080/"
        },
        "outputId": "eefae74f-c55f-473f-86f2-72d44e533eda"
      },
      "execution_count": null,
      "outputs": [
        {
          "output_type": "stream",
          "name": "stdout",
          "text": [
            "['i', 'me', 'my', 'myself', 'we', 'our', 'ours', 'ourselves', 'you', \"you're\", \"you've\", \"you'll\", \"you'd\", 'your', 'yours', 'yourself', 'yourselves', 'he', 'him', 'his', 'himself', 'she', \"she's\", 'her', 'hers', 'herself', 'it', \"it's\", 'its', 'itself', 'they', 'them', 'their', 'theirs', 'themselves', 'what', 'which', 'who', 'whom', 'this', 'that', \"that'll\", 'these', 'those', 'am', 'is', 'are', 'was', 'were', 'be', 'been', 'being', 'have', 'has', 'had', 'having', 'do', 'does', 'did', 'doing', 'a', 'an', 'the', 'and', 'but', 'if', 'or', 'because', 'as', 'until', 'while', 'of', 'at', 'by', 'for', 'with', 'about', 'against', 'between', 'into', 'through', 'during', 'before', 'after', 'above', 'below', 'to', 'from', 'up', 'down', 'in', 'out', 'on', 'off', 'over', 'under', 'again', 'further', 'then', 'once', 'here', 'there', 'when', 'where', 'why', 'how', 'all', 'any', 'both', 'each', 'few', 'more', 'most', 'other', 'some', 'such', 'no', 'nor', 'not', 'only', 'own', 'same', 'so', 'than', 'too', 'very', 's', 't', 'can', 'will', 'just', 'don', \"don't\", 'should', \"should've\", 'now', 'd', 'll', 'm', 'o', 're', 've', 'y', 'ain', 'aren', \"aren't\", 'couldn', \"couldn't\", 'didn', \"didn't\", 'doesn', \"doesn't\", 'hadn', \"hadn't\", 'hasn', \"hasn't\", 'haven', \"haven't\", 'isn', \"isn't\", 'ma', 'mightn', \"mightn't\", 'mustn', \"mustn't\", 'needn', \"needn't\", 'shan', \"shan't\", 'shouldn', \"shouldn't\", 'wasn', \"wasn't\", 'weren', \"weren't\", 'won', \"won't\", 'wouldn', \"wouldn't\"]\n"
          ]
        }
      ]
    },
    {
      "cell_type": "markdown",
      "source": [
        "### **Updating the stopword list**"
      ],
      "metadata": {
        "id": "Dajy3cOYEQnY"
      }
    },
    {
      "cell_type": "markdown",
      "source": [
        "Sometimes we need to modify the stopwords list to fit our task.\n",
        "\n",
        "The term 'not' is in the stop word list, but it has a specific use in negation (i.e. happy vs not happy)\n",
        "e.g.  “The product was not good.” will be misclassified as positive sentiment if we remove 'not'. \n",
        "Also, there can be some words we need to add to the stopwords list depending on the use case.\n",
        "\n",
        "So let's remove 'not' from the list of stopwords. "
      ],
      "metadata": {
        "id": "gS-oRVTB_Krv"
      }
    },
    {
      "cell_type": "code",
      "source": [
        "stopword_list.remove('not')\n",
        "stopword_list.append('newWord')"
      ],
      "metadata": {
        "id": "kcnRex78_NND"
      },
      "execution_count": null,
      "outputs": []
    },
    {
      "cell_type": "code",
      "source": [
        "print(stopword_list)"
      ],
      "metadata": {
        "id": "KR2myKIG_Pgu",
        "colab": {
          "base_uri": "https://localhost:8080/"
        },
        "outputId": "7ab7aa1a-35c3-4c3e-a051-a8fc890b28c4"
      },
      "execution_count": null,
      "outputs": [
        {
          "output_type": "stream",
          "name": "stdout",
          "text": [
            "['i', 'me', 'my', 'myself', 'we', 'our', 'ours', 'ourselves', 'you', \"you're\", \"you've\", \"you'll\", \"you'd\", 'your', 'yours', 'yourself', 'yourselves', 'he', 'him', 'his', 'himself', 'she', \"she's\", 'her', 'hers', 'herself', 'it', \"it's\", 'its', 'itself', 'they', 'them', 'their', 'theirs', 'themselves', 'what', 'which', 'who', 'whom', 'this', 'that', \"that'll\", 'these', 'those', 'am', 'is', 'are', 'was', 'were', 'be', 'been', 'being', 'have', 'has', 'had', 'having', 'do', 'does', 'did', 'doing', 'a', 'an', 'the', 'and', 'but', 'if', 'or', 'because', 'as', 'until', 'while', 'of', 'at', 'by', 'for', 'with', 'about', 'against', 'between', 'into', 'through', 'during', 'before', 'after', 'above', 'below', 'to', 'from', 'up', 'down', 'in', 'out', 'on', 'off', 'over', 'under', 'again', 'further', 'then', 'once', 'here', 'there', 'when', 'where', 'why', 'how', 'all', 'any', 'both', 'each', 'few', 'more', 'most', 'other', 'some', 'such', 'no', 'nor', 'only', 'own', 'same', 'so', 'than', 'too', 'very', 's', 't', 'can', 'will', 'just', 'don', \"don't\", 'should', \"should've\", 'now', 'd', 'll', 'm', 'o', 're', 've', 'y', 'ain', 'aren', \"aren't\", 'couldn', \"couldn't\", 'didn', \"didn't\", 'doesn', \"doesn't\", 'hadn', \"hadn't\", 'hasn', \"hasn't\", 'haven', \"haven't\", 'isn', \"isn't\", 'ma', 'mightn', \"mightn't\", 'mustn', \"mustn't\", 'needn', \"needn't\", 'shan', \"shan't\", 'shouldn', \"shouldn't\", 'wasn', \"wasn't\", 'weren', \"weren't\", 'won', \"won't\", 'wouldn', \"wouldn't\", 'newWord']\n"
          ]
        }
      ]
    },
    {
      "cell_type": "markdown",
      "source": [
        "### **Removing stopwords iterating through words of the text**\n",
        "\n",
        "Here we want to check whether words in the given text belong to the stopwords list and then remove those. So first we need to split our text into words. For that we use text.split() function.\n",
        "\n",
        "A quick demo first."
      ],
      "metadata": {
        "id": "MGSSNP5vEjxw"
      }
    },
    {
      "cell_type": "code",
      "source": [
        "text = \"the classroom is empty right now\"\n",
        "#split text into words.\n",
        "tokens = text.split()\n",
        "print(tokens)"
      ],
      "metadata": {
        "colab": {
          "base_uri": "https://localhost:8080/"
        },
        "id": "iqgsy6MFqql0",
        "outputId": "6f302387-5350-433e-80b1-47892b7d2b08"
      },
      "execution_count": null,
      "outputs": [
        {
          "output_type": "stream",
          "name": "stdout",
          "text": [
            "['the', 'classroom', 'is', 'empty', 'right', 'now']\n"
          ]
        }
      ]
    },
    {
      "cell_type": "markdown",
      "source": [
        "Check and remove stopwords"
      ],
      "metadata": {
        "id": "w3NqSW3sxg-j"
      }
    },
    {
      "cell_type": "code",
      "source": [
        "#iterate through tokens and remove any stopwords\n",
        "stop_removed_tokens = [t for t in tokens if t not in stopword_list]\n",
        "print(stop_removed_tokens)"
      ],
      "metadata": {
        "id": "1AcdLIVg_SN2",
        "colab": {
          "base_uri": "https://localhost:8080/"
        },
        "outputId": "31ebcc46-c3f9-4712-d236-8c8a1d2bbb0c"
      },
      "execution_count": null,
      "outputs": [
        {
          "output_type": "stream",
          "name": "stdout",
          "text": [
            "['classroom', 'empty', 'right']\n"
          ]
        }
      ]
    },
    {
      "cell_type": "markdown",
      "source": [
        "Use the join function to string the words together.\n",
        "\n",
        "(connector).join(list of words)"
      ],
      "metadata": {
        "id": "zb_v_dIsxpVJ"
      }
    },
    {
      "cell_type": "code",
      "source": [
        "# Combine tokens back with spaces between\n",
        "convert_to_string = (\" \").join(stop_removed_tokens)\n",
        "print(convert_to_string)"
      ],
      "metadata": {
        "colab": {
          "base_uri": "https://localhost:8080/"
        },
        "id": "SlQljxQ_q2LQ",
        "outputId": "574bc5dc-4665-477c-e30c-748a21954ebc"
      },
      "execution_count": null,
      "outputs": [
        {
          "output_type": "stream",
          "name": "stdout",
          "text": [
            "classroom empty right\n"
          ]
        }
      ]
    },
    {
      "cell_type": "markdown",
      "source": [
        "A function makes our code efficient and repeatable, let's create a function:"
      ],
      "metadata": {
        "id": "UFh-4HVOrgCe"
      }
    },
    {
      "cell_type": "code",
      "source": [
        "def remove_stop_words(text):\n",
        "  tokens = text.split()\n",
        "  stop_removed_tokens = [t for t in tokens if t not in stopword_list]\n",
        "  convert_to_string = \" \".join(stop_removed_tokens)\n",
        "  return convert_to_string"
      ],
      "metadata": {
        "id": "xLfXdFS9rSMN"
      },
      "execution_count": null,
      "outputs": []
    },
    {
      "cell_type": "code",
      "source": [
        "remove_stop_words(\"It is a good product.\")"
      ],
      "metadata": {
        "colab": {
          "base_uri": "https://localhost:8080/",
          "height": 36
        },
        "id": "danExbvqrrbF",
        "outputId": "678edab1-cfd9-48ac-ab6e-e27e4e3b6694"
      },
      "execution_count": null,
      "outputs": [
        {
          "output_type": "execute_result",
          "data": {
            "text/plain": [
              "'It good product.'"
            ],
            "application/vnd.google.colaboratory.intrinsic+json": {
              "type": "string"
            }
          },
          "metadata": {},
          "execution_count": 75
        }
      ]
    },
    {
      "cell_type": "markdown",
      "source": [
        "### **Removing stopwords in the dataset**"
      ],
      "metadata": {
        "id": "fG8GPGARFBl3"
      }
    },
    {
      "cell_type": "code",
      "source": [
        "dataset[\"text_without_stopwords\"] = dataset[\"text_without_numbers\"].apply(remove_stop_words)\n",
        "display(dataset[['text', 'text_without_stopwords']])"
      ],
      "metadata": {
        "colab": {
          "base_uri": "https://localhost:8080/",
          "height": 1068
        },
        "id": "SnkuyMpdFVMF",
        "outputId": "d9e1cec9-0544-4095-c1cc-4da6272b6dc8"
      },
      "execution_count": null,
      "outputs": [
        {
          "output_type": "display_data",
          "data": {
            "text/plain": [
              "                                                   text  \\\n",
              "0     @115712 I understand. I would like to assist y...   \n",
              "1         @sprintcare and how do you propose we do that   \n",
              "2     @sprintcare I have sent several private messag...   \n",
              "3     @115712 Please send us a Private Message so th...   \n",
              "4                                    @sprintcare I did.   \n",
              "...                                                 ...   \n",
              "4995  @117290 Hm, they should definitely resume if a...   \n",
              "4996  @117290 That's where they need to be on, so ch...   \n",
              "4997  @115940 Can you guys maybe like....FIX your st...   \n",
              "4998  @117291 Hulu is only available in the U.S. rig...   \n",
              "4999  @115940 when will the platform available in la...   \n",
              "\n",
              "                                 text_without_stopwords  \n",
              "0     understand would like assist would need get pr...  \n",
              "1                                    sprintcare propose  \n",
              "2     sprintcare sent several private messages one r...  \n",
              "3     please send us private message assist click me...  \n",
              "4                                            sprintcare  \n",
              "...                                                 ...  \n",
              "4995  hm definitely resume already enabled disappear...  \n",
              "4996  thats need check home screengtsettingsgtcaptio...  \n",
              "4997  guys maybe likefix stuff longest time captions...  \n",
              "4998  hulu available us right well sure share intere...  \n",
              "4999  platform available latinamerica specifically a...  \n",
              "\n",
              "[5000 rows x 2 columns]"
            ],
            "text/html": [
              "\n",
              "  <div id=\"df-11f29551-31d9-43c8-b9bc-18ed4eaa4b6f\">\n",
              "    <div class=\"colab-df-container\">\n",
              "      <div>\n",
              "<style scoped>\n",
              "    .dataframe tbody tr th:only-of-type {\n",
              "        vertical-align: middle;\n",
              "    }\n",
              "\n",
              "    .dataframe tbody tr th {\n",
              "        vertical-align: top;\n",
              "    }\n",
              "\n",
              "    .dataframe thead th {\n",
              "        text-align: right;\n",
              "    }\n",
              "</style>\n",
              "<table border=\"1\" class=\"dataframe\">\n",
              "  <thead>\n",
              "    <tr style=\"text-align: right;\">\n",
              "      <th></th>\n",
              "      <th>text</th>\n",
              "      <th>text_without_stopwords</th>\n",
              "    </tr>\n",
              "  </thead>\n",
              "  <tbody>\n",
              "    <tr>\n",
              "      <th>0</th>\n",
              "      <td>@115712 I understand. I would like to assist y...</td>\n",
              "      <td>understand would like assist would need get pr...</td>\n",
              "    </tr>\n",
              "    <tr>\n",
              "      <th>1</th>\n",
              "      <td>@sprintcare and how do you propose we do that</td>\n",
              "      <td>sprintcare propose</td>\n",
              "    </tr>\n",
              "    <tr>\n",
              "      <th>2</th>\n",
              "      <td>@sprintcare I have sent several private messag...</td>\n",
              "      <td>sprintcare sent several private messages one r...</td>\n",
              "    </tr>\n",
              "    <tr>\n",
              "      <th>3</th>\n",
              "      <td>@115712 Please send us a Private Message so th...</td>\n",
              "      <td>please send us private message assist click me...</td>\n",
              "    </tr>\n",
              "    <tr>\n",
              "      <th>4</th>\n",
              "      <td>@sprintcare I did.</td>\n",
              "      <td>sprintcare</td>\n",
              "    </tr>\n",
              "    <tr>\n",
              "      <th>...</th>\n",
              "      <td>...</td>\n",
              "      <td>...</td>\n",
              "    </tr>\n",
              "    <tr>\n",
              "      <th>4995</th>\n",
              "      <td>@117290 Hm, they should definitely resume if a...</td>\n",
              "      <td>hm definitely resume already enabled disappear...</td>\n",
              "    </tr>\n",
              "    <tr>\n",
              "      <th>4996</th>\n",
              "      <td>@117290 That's where they need to be on, so ch...</td>\n",
              "      <td>thats need check home screengtsettingsgtcaptio...</td>\n",
              "    </tr>\n",
              "    <tr>\n",
              "      <th>4997</th>\n",
              "      <td>@115940 Can you guys maybe like....FIX your st...</td>\n",
              "      <td>guys maybe likefix stuff longest time captions...</td>\n",
              "    </tr>\n",
              "    <tr>\n",
              "      <th>4998</th>\n",
              "      <td>@117291 Hulu is only available in the U.S. rig...</td>\n",
              "      <td>hulu available us right well sure share intere...</td>\n",
              "    </tr>\n",
              "    <tr>\n",
              "      <th>4999</th>\n",
              "      <td>@115940 when will the platform available in la...</td>\n",
              "      <td>platform available latinamerica specifically a...</td>\n",
              "    </tr>\n",
              "  </tbody>\n",
              "</table>\n",
              "<p>5000 rows × 2 columns</p>\n",
              "</div>\n",
              "      <button class=\"colab-df-convert\" onclick=\"convertToInteractive('df-11f29551-31d9-43c8-b9bc-18ed4eaa4b6f')\"\n",
              "              title=\"Convert this dataframe to an interactive table.\"\n",
              "              style=\"display:none;\">\n",
              "        \n",
              "  <svg xmlns=\"http://www.w3.org/2000/svg\" height=\"24px\"viewBox=\"0 0 24 24\"\n",
              "       width=\"24px\">\n",
              "    <path d=\"M0 0h24v24H0V0z\" fill=\"none\"/>\n",
              "    <path d=\"M18.56 5.44l.94 2.06.94-2.06 2.06-.94-2.06-.94-.94-2.06-.94 2.06-2.06.94zm-11 1L8.5 8.5l.94-2.06 2.06-.94-2.06-.94L8.5 2.5l-.94 2.06-2.06.94zm10 10l.94 2.06.94-2.06 2.06-.94-2.06-.94-.94-2.06-.94 2.06-2.06.94z\"/><path d=\"M17.41 7.96l-1.37-1.37c-.4-.4-.92-.59-1.43-.59-.52 0-1.04.2-1.43.59L10.3 9.45l-7.72 7.72c-.78.78-.78 2.05 0 2.83L4 21.41c.39.39.9.59 1.41.59.51 0 1.02-.2 1.41-.59l7.78-7.78 2.81-2.81c.8-.78.8-2.07 0-2.86zM5.41 20L4 18.59l7.72-7.72 1.47 1.35L5.41 20z\"/>\n",
              "  </svg>\n",
              "      </button>\n",
              "      \n",
              "  <style>\n",
              "    .colab-df-container {\n",
              "      display:flex;\n",
              "      flex-wrap:wrap;\n",
              "      gap: 12px;\n",
              "    }\n",
              "\n",
              "    .colab-df-convert {\n",
              "      background-color: #E8F0FE;\n",
              "      border: none;\n",
              "      border-radius: 50%;\n",
              "      cursor: pointer;\n",
              "      display: none;\n",
              "      fill: #1967D2;\n",
              "      height: 32px;\n",
              "      padding: 0 0 0 0;\n",
              "      width: 32px;\n",
              "    }\n",
              "\n",
              "    .colab-df-convert:hover {\n",
              "      background-color: #E2EBFA;\n",
              "      box-shadow: 0px 1px 2px rgba(60, 64, 67, 0.3), 0px 1px 3px 1px rgba(60, 64, 67, 0.15);\n",
              "      fill: #174EA6;\n",
              "    }\n",
              "\n",
              "    [theme=dark] .colab-df-convert {\n",
              "      background-color: #3B4455;\n",
              "      fill: #D2E3FC;\n",
              "    }\n",
              "\n",
              "    [theme=dark] .colab-df-convert:hover {\n",
              "      background-color: #434B5C;\n",
              "      box-shadow: 0px 1px 3px 1px rgba(0, 0, 0, 0.15);\n",
              "      filter: drop-shadow(0px 1px 2px rgba(0, 0, 0, 0.3));\n",
              "      fill: #FFFFFF;\n",
              "    }\n",
              "  </style>\n",
              "\n",
              "      <script>\n",
              "        const buttonEl =\n",
              "          document.querySelector('#df-11f29551-31d9-43c8-b9bc-18ed4eaa4b6f button.colab-df-convert');\n",
              "        buttonEl.style.display =\n",
              "          google.colab.kernel.accessAllowed ? 'block' : 'none';\n",
              "\n",
              "        async function convertToInteractive(key) {\n",
              "          const element = document.querySelector('#df-11f29551-31d9-43c8-b9bc-18ed4eaa4b6f');\n",
              "          const dataTable =\n",
              "            await google.colab.kernel.invokeFunction('convertToInteractive',\n",
              "                                                     [key], {});\n",
              "          if (!dataTable) return;\n",
              "\n",
              "          const docLinkHtml = 'Like what you see? Visit the ' +\n",
              "            '<a target=\"_blank\" href=https://colab.research.google.com/notebooks/data_table.ipynb>data table notebook</a>'\n",
              "            + ' to learn more about interactive tables.';\n",
              "          element.innerHTML = '';\n",
              "          dataTable['output_type'] = 'display_data';\n",
              "          await google.colab.output.renderOutput(dataTable, element);\n",
              "          const docLink = document.createElement('div');\n",
              "          docLink.innerHTML = docLinkHtml;\n",
              "          element.appendChild(docLink);\n",
              "        }\n",
              "      </script>\n",
              "    </div>\n",
              "  </div>\n",
              "  "
            ]
          },
          "metadata": {}
        }
      ]
    },
    {
      "cell_type": "markdown",
      "source": [
        "## **Removing whitespace**\n",
        "\n",
        "There can be extra whitespaces (space and tab characters) in the text, specifically after the above preprocessing steps such as removing numbers and stopwords.\n",
        "These should be removed for consistency and process/memory efficiency. "
      ],
      "metadata": {
        "id": "-6pdNbnF6F9K"
      }
    },
    {
      "cell_type": "code",
      "source": [
        "text = \"The orders 31144, 22111, and 31235 contained faulty products\"\n",
        "#removing punctuations\n",
        "text = re.sub(r\"[^\\w\\s]\",'',text)\n",
        "#removing digits\n",
        "text = re.sub('\\d+', '', text)\n",
        "print(text)"
      ],
      "metadata": {
        "id": "iAjbrJbv9M3F",
        "colab": {
          "base_uri": "https://localhost:8080/"
        },
        "outputId": "20ab9433-cf0a-46c9-fa2a-2efc38b9cff6"
      },
      "execution_count": null,
      "outputs": [
        {
          "output_type": "stream",
          "name": "stdout",
          "text": [
            "The orders   and  contained faulty products\n"
          ]
        }
      ]
    },
    {
      "cell_type": "markdown",
      "source": [
        "We use regex to remove extra whitespaces. In regex notation we use \\s for spaces between words. Here the logic is any single space followed by one or more additional spaces should be removed."
      ],
      "metadata": {
        "id": "ePCTfwgAxfKk"
      }
    },
    {
      "cell_type": "markdown",
      "source": [
        "### **Removing extra whitespaces using regex.**"
      ],
      "metadata": {
        "id": "jBU1seRRwkix"
      }
    },
    {
      "cell_type": "code",
      "source": [
        "spaces_removed_text = re.sub(r\"\\s+\", \" \", str(text))\n",
        "print(spaces_removed_text)"
      ],
      "metadata": {
        "colab": {
          "base_uri": "https://localhost:8080/"
        },
        "id": "9-Im2sVfZgVu",
        "outputId": "c058f046-2166-41dd-b250-1372e70d1ea5"
      },
      "execution_count": null,
      "outputs": [
        {
          "output_type": "stream",
          "name": "stdout",
          "text": [
            "The orders and contained faulty products\n"
          ]
        }
      ]
    },
    {
      "cell_type": "markdown",
      "source": [
        "### **Removing extra whitespaces using split and join.**"
      ],
      "metadata": {
        "id": "fULMelt2wpR5"
      }
    },
    {
      "cell_type": "code",
      "source": [
        "# Without regex but much faster \n",
        "spaces_removed_text = (' ').join(text.split())\n",
        "print(spaces_removed_text)\n"
      ],
      "metadata": {
        "colab": {
          "base_uri": "https://localhost:8080/"
        },
        "id": "zTzxofsTCrTd",
        "outputId": "ba717633-b93a-4033-c4e4-e37d995bbf3a"
      },
      "execution_count": null,
      "outputs": [
        {
          "output_type": "stream",
          "name": "stdout",
          "text": [
            "The orders and contained faulty products\n"
          ]
        }
      ]
    },
    {
      "cell_type": "markdown",
      "source": [
        "## **Removing emojis.**\n",
        "\n",
        "Emojis are used extensively in text. Depending on the use case, we have to remove or convert emojis to text. \n",
        "\n",
        "Working with emojis is not straightforward as we have to work with Unicode. Instead of Unicode, let's use the Python emoji package, which provides function calls for working with emojis.\n",
        "\n"
      ],
      "metadata": {
        "id": "eYL1smEqEEBx"
      }
    },
    {
      "cell_type": "code",
      "source": [
        "!pip install emoji"
      ],
      "metadata": {
        "colab": {
          "base_uri": "https://localhost:8080/"
        },
        "id": "8_IfFHWXE1fw",
        "outputId": "019dd70e-6a21-4987-d474-447116fb38b8"
      },
      "execution_count": null,
      "outputs": [
        {
          "output_type": "stream",
          "name": "stdout",
          "text": [
            "Looking in indexes: https://pypi.org/simple, https://us-python.pkg.dev/colab-wheels/public/simple/\n",
            "Collecting emoji\n",
            "  Downloading emoji-2.1.0.tar.gz (216 kB)\n",
            "\u001b[K     |████████████████████████████████| 216 kB 5.3 MB/s \n",
            "\u001b[?25hBuilding wheels for collected packages: emoji\n",
            "  Building wheel for emoji (setup.py) ... \u001b[?25l\u001b[?25hdone\n",
            "  Created wheel for emoji: filename=emoji-2.1.0-py3-none-any.whl size=212392 sha256=e1c32880cffea4f966ef5eaaef4d916b231d13105214bdceb75d5e5cb512b88a\n",
            "  Stored in directory: /root/.cache/pip/wheels/77/75/99/51c2a119f4cfd3af7b49cc57e4f737bed7e40b348a85d82804\n",
            "Successfully built emoji\n",
            "Installing collected packages: emoji\n",
            "Successfully installed emoji-2.1.0\n"
          ]
        }
      ]
    },
    {
      "cell_type": "code",
      "source": [
        "import emoji\n",
        "\n",
        "#provide string with emojis\n",
        "text = \"This sample text contains laughing emojis 😀 😃 😄 😁 😆 😅 😂 🤣\"\n",
        "\n",
        "#print text after removing the emojis from it\n",
        "print(emoji.replace_emoji(text, replace=\"\"))"
      ],
      "metadata": {
        "colab": {
          "base_uri": "https://localhost:8080/"
        },
        "id": "cJV952OsE83H",
        "outputId": "65151b17-345c-4659-b491-a3436ffe9bca"
      },
      "execution_count": null,
      "outputs": [
        {
          "output_type": "stream",
          "name": "stdout",
          "text": [
            "This sample text contains laughing emojis        \n"
          ]
        }
      ]
    },
    {
      "cell_type": "markdown",
      "source": [
        "### **Replacing emojis with words.**"
      ],
      "metadata": {
        "id": "_SsjtEw7w0KN"
      }
    },
    {
      "cell_type": "markdown",
      "source": [
        "Instead of removing, we can preserve the informational value of emojis by converting them to their text representation, using the demojize() function.\n"
      ],
      "metadata": {
        "id": "w9zcUTdGOdVY"
      }
    },
    {
      "cell_type": "code",
      "source": [
        "text = \"Python is 👍 😀\"\n",
        "text = emoji.demojize(text)\n",
        "\n",
        "print(text)"
      ],
      "metadata": {
        "colab": {
          "base_uri": "https://localhost:8080/"
        },
        "id": "ikTtBWcqOwW4",
        "outputId": "e20a5797-5868-4c8e-8474-3a7381bb3207"
      },
      "execution_count": null,
      "outputs": [
        {
          "output_type": "stream",
          "name": "stdout",
          "text": [
            "Python is :thumbs_up: :grinning_face:\n"
          ]
        }
      ]
    },
    {
      "cell_type": "markdown",
      "source": [
        "**What else should we do here?**"
      ],
      "metadata": {
        "id": "kC67rO1n78U1"
      }
    },
    {
      "cell_type": "markdown",
      "source": [
        "## **Fixing contractions**\n",
        "\n",
        "Contractions combine two or more words to form a shortened version of the text. We must expand contractions to preserve semantics.\n",
        "\n",
        "When we use steps such as punctuation removal, contractions can lose their meaning. In such cases, we have to fix contractions prior to punctuation removal. e.g. you're -> youre cannot be used for fixing contractions.\n",
        "\n",
        "Let's use the Python contractions library."
      ],
      "metadata": {
        "id": "v3JceNtjG-Gl"
      }
    },
    {
      "cell_type": "code",
      "source": [
        "!pip install contractions"
      ],
      "metadata": {
        "colab": {
          "base_uri": "https://localhost:8080/"
        },
        "id": "hrwuOizbQua6",
        "outputId": "dfb4c7c7-b055-4938-82d4-cacb3152365b"
      },
      "execution_count": null,
      "outputs": [
        {
          "output_type": "stream",
          "name": "stdout",
          "text": [
            "Looking in indexes: https://pypi.org/simple, https://us-python.pkg.dev/colab-wheels/public/simple/\n",
            "Requirement already satisfied: contractions in /usr/local/lib/python3.7/dist-packages (0.1.72)\n",
            "Requirement already satisfied: textsearch>=0.0.21 in /usr/local/lib/python3.7/dist-packages (from contractions) (0.0.24)\n",
            "Requirement already satisfied: pyahocorasick in /usr/local/lib/python3.7/dist-packages (from textsearch>=0.0.21->contractions) (1.4.4)\n",
            "Requirement already satisfied: anyascii in /usr/local/lib/python3.7/dist-packages (from textsearch>=0.0.21->contractions) (0.3.1)\n"
          ]
        }
      ]
    },
    {
      "cell_type": "code",
      "source": [
        "import contractions\n",
        "text = \"We'd like to know what are the new features you're planning to release in the new version!\"\n",
        "contractions.fix(text)\n"
      ],
      "metadata": {
        "colab": {
          "base_uri": "https://localhost:8080/",
          "height": 36
        },
        "id": "6F_NfJCWNUhn",
        "outputId": "ca0826e8-e3fd-472e-c400-31d0022d0a95"
      },
      "execution_count": null,
      "outputs": [
        {
          "output_type": "execute_result",
          "data": {
            "text/plain": [
              "'We would like to know what are the new features you are planning to release in new version!'"
            ],
            "application/vnd.google.colaboratory.intrinsic+json": {
              "type": "string"
            }
          },
          "metadata": {},
          "execution_count": 110
        }
      ]
    },
    {
      "cell_type": "markdown",
      "source": [
        "**What would be the result if we did this after the removal of punctuation?** "
      ],
      "metadata": {
        "id": "vvTvyHV48T1d"
      }
    },
    {
      "cell_type": "markdown",
      "source": [
        "## **Spell check**"
      ],
      "metadata": {
        "id": "FwuxKe-SjWwF"
      }
    },
    {
      "cell_type": "markdown",
      "source": [
        "\n",
        "\n",
        "### **Method 1 - Textblob spell checker**\n",
        "\n",
        "Here wie usee the txtbllob pckge for speill chcek. "
      ],
      "metadata": {
        "id": "3A0R0cIJf8A9"
      }
    },
    {
      "cell_type": "code",
      "source": [
        "!pip install textblob\n",
        "#installing libraries"
      ],
      "metadata": {
        "colab": {
          "base_uri": "https://localhost:8080/"
        },
        "id": "oEFFED0yiEdk",
        "outputId": "477f0e4d-1e91-485a-f722-9a907b971204"
      },
      "execution_count": null,
      "outputs": [
        {
          "output_type": "stream",
          "name": "stdout",
          "text": [
            "Looking in indexes: https://pypi.org/simple, https://us-python.pkg.dev/colab-wheels/public/simple/\n",
            "Requirement already satisfied: textblob in /usr/local/lib/python3.7/dist-packages (0.15.3)\n",
            "Requirement already satisfied: nltk>=3.1 in /usr/local/lib/python3.7/dist-packages (from textblob) (3.7)\n",
            "Requirement already satisfied: regex>=2021.8.3 in /usr/local/lib/python3.7/dist-packages (from nltk>=3.1->textblob) (2022.6.2)\n",
            "Requirement already satisfied: click in /usr/local/lib/python3.7/dist-packages (from nltk>=3.1->textblob) (7.1.2)\n",
            "Requirement already satisfied: joblib in /usr/local/lib/python3.7/dist-packages (from nltk>=3.1->textblob) (1.2.0)\n",
            "Requirement already satisfied: tqdm in /usr/local/lib/python3.7/dist-packages (from nltk>=3.1->textblob) (4.64.1)\n"
          ]
        }
      ]
    },
    {
      "cell_type": "code",
      "source": [
        "from textblob import TextBlob\n",
        "\n",
        "sentence = TextBlob('Here wie usee the txtbllob pckge for speill chcek.')\n",
        "\n",
        "result = sentence.correct()\n",
        "print(result)"
      ],
      "metadata": {
        "colab": {
          "base_uri": "https://localhost:8080/"
        },
        "id": "rg_3cWtkgJ8x",
        "outputId": "970f55f6-91f4-40f2-8424-881bceac448e"
      },
      "execution_count": null,
      "outputs": [
        {
          "output_type": "stream",
          "name": "stdout",
          "text": [
            "Were wie see the txtbllob page for spell cheek.\n"
          ]
        }
      ]
    },
    {
      "cell_type": "markdown",
      "source": [
        "### **Method 2 - Spacy contextualSpellCheck spell checker**\n",
        "\n",
        "The Spacy contextualSpellCheck takes into account \"context\" of all the terms when resolving spelling errors. Let's see if it works. "
      ],
      "metadata": {
        "id": "IuutowE8i_zk"
      }
    },
    {
      "cell_type": "code",
      "source": [
        "!pip install contextualSpellCheck\n",
        "import spacy\n",
        "import contextualSpellCheck"
      ],
      "metadata": {
        "colab": {
          "base_uri": "https://localhost:8080/"
        },
        "id": "E0SwpE2aPLlG",
        "outputId": "7d431de3-cfcf-49ae-ed06-892242c9da69"
      },
      "execution_count": null,
      "outputs": [
        {
          "output_type": "stream",
          "name": "stdout",
          "text": [
            "Looking in indexes: https://pypi.org/simple, https://us-python.pkg.dev/colab-wheels/public/simple/\n",
            "Requirement already satisfied: contextualSpellCheck in /usr/local/lib/python3.7/dist-packages (0.4.3)\n",
            "Requirement already satisfied: editdistance==0.6.0 in /usr/local/lib/python3.7/dist-packages (from contextualSpellCheck) (0.6.0)\n",
            "Requirement already satisfied: torch>=1.4 in /usr/local/lib/python3.7/dist-packages (from contextualSpellCheck) (1.12.1+cu113)\n",
            "Requirement already satisfied: transformers>=4.0.0 in /usr/local/lib/python3.7/dist-packages (from contextualSpellCheck) (4.23.1)\n",
            "Requirement already satisfied: spacy>=3.0.0 in /usr/local/lib/python3.7/dist-packages (from contextualSpellCheck) (3.4.2)\n",
            "Requirement already satisfied: pydantic!=1.8,!=1.8.1,<1.11.0,>=1.7.4 in /usr/local/lib/python3.7/dist-packages (from spacy>=3.0.0->contextualSpellCheck) (1.10.2)\n",
            "Requirement already satisfied: requests<3.0.0,>=2.13.0 in /usr/local/lib/python3.7/dist-packages (from spacy>=3.0.0->contextualSpellCheck) (2.23.0)\n",
            "Requirement already satisfied: cymem<2.1.0,>=2.0.2 in /usr/local/lib/python3.7/dist-packages (from spacy>=3.0.0->contextualSpellCheck) (2.0.7)\n",
            "Requirement already satisfied: pathy>=0.3.5 in /usr/local/lib/python3.7/dist-packages (from spacy>=3.0.0->contextualSpellCheck) (0.6.2)\n",
            "Requirement already satisfied: wasabi<1.1.0,>=0.9.1 in /usr/local/lib/python3.7/dist-packages (from spacy>=3.0.0->contextualSpellCheck) (0.10.1)\n",
            "Requirement already satisfied: numpy>=1.15.0 in /usr/local/lib/python3.7/dist-packages (from spacy>=3.0.0->contextualSpellCheck) (1.21.6)\n",
            "Requirement already satisfied: spacy-loggers<2.0.0,>=1.0.0 in /usr/local/lib/python3.7/dist-packages (from spacy>=3.0.0->contextualSpellCheck) (1.0.3)\n",
            "Requirement already satisfied: tqdm<5.0.0,>=4.38.0 in /usr/local/lib/python3.7/dist-packages (from spacy>=3.0.0->contextualSpellCheck) (4.64.1)\n",
            "Requirement already satisfied: typing-extensions<4.2.0,>=3.7.4 in /usr/local/lib/python3.7/dist-packages (from spacy>=3.0.0->contextualSpellCheck) (4.1.1)\n",
            "Requirement already satisfied: langcodes<4.0.0,>=3.2.0 in /usr/local/lib/python3.7/dist-packages (from spacy>=3.0.0->contextualSpellCheck) (3.3.0)\n",
            "Requirement already satisfied: spacy-legacy<3.1.0,>=3.0.10 in /usr/local/lib/python3.7/dist-packages (from spacy>=3.0.0->contextualSpellCheck) (3.0.10)\n",
            "Requirement already satisfied: jinja2 in /usr/local/lib/python3.7/dist-packages (from spacy>=3.0.0->contextualSpellCheck) (2.11.3)\n",
            "Requirement already satisfied: thinc<8.2.0,>=8.1.0 in /usr/local/lib/python3.7/dist-packages (from spacy>=3.0.0->contextualSpellCheck) (8.1.5)\n",
            "Requirement already satisfied: murmurhash<1.1.0,>=0.28.0 in /usr/local/lib/python3.7/dist-packages (from spacy>=3.0.0->contextualSpellCheck) (1.0.9)\n",
            "Requirement already satisfied: preshed<3.1.0,>=3.0.2 in /usr/local/lib/python3.7/dist-packages (from spacy>=3.0.0->contextualSpellCheck) (3.0.8)\n",
            "Requirement already satisfied: packaging>=20.0 in /usr/local/lib/python3.7/dist-packages (from spacy>=3.0.0->contextualSpellCheck) (21.3)\n",
            "Requirement already satisfied: catalogue<2.1.0,>=2.0.6 in /usr/local/lib/python3.7/dist-packages (from spacy>=3.0.0->contextualSpellCheck) (2.0.8)\n",
            "Requirement already satisfied: typer<0.5.0,>=0.3.0 in /usr/local/lib/python3.7/dist-packages (from spacy>=3.0.0->contextualSpellCheck) (0.4.2)\n",
            "Requirement already satisfied: srsly<3.0.0,>=2.4.3 in /usr/local/lib/python3.7/dist-packages (from spacy>=3.0.0->contextualSpellCheck) (2.4.5)\n",
            "Requirement already satisfied: setuptools in /usr/local/lib/python3.7/dist-packages (from spacy>=3.0.0->contextualSpellCheck) (57.4.0)\n",
            "Requirement already satisfied: zipp>=0.5 in /usr/local/lib/python3.7/dist-packages (from catalogue<2.1.0,>=2.0.6->spacy>=3.0.0->contextualSpellCheck) (3.9.0)\n",
            "Requirement already satisfied: pyparsing!=3.0.5,>=2.0.2 in /usr/local/lib/python3.7/dist-packages (from packaging>=20.0->spacy>=3.0.0->contextualSpellCheck) (3.0.9)\n",
            "Requirement already satisfied: smart-open<6.0.0,>=5.2.1 in /usr/local/lib/python3.7/dist-packages (from pathy>=0.3.5->spacy>=3.0.0->contextualSpellCheck) (5.2.1)\n",
            "Requirement already satisfied: certifi>=2017.4.17 in /usr/local/lib/python3.7/dist-packages (from requests<3.0.0,>=2.13.0->spacy>=3.0.0->contextualSpellCheck) (2022.9.24)\n",
            "Requirement already satisfied: idna<3,>=2.5 in /usr/local/lib/python3.7/dist-packages (from requests<3.0.0,>=2.13.0->spacy>=3.0.0->contextualSpellCheck) (2.10)\n",
            "Requirement already satisfied: urllib3!=1.25.0,!=1.25.1,<1.26,>=1.21.1 in /usr/local/lib/python3.7/dist-packages (from requests<3.0.0,>=2.13.0->spacy>=3.0.0->contextualSpellCheck) (1.24.3)\n",
            "Requirement already satisfied: chardet<4,>=3.0.2 in /usr/local/lib/python3.7/dist-packages (from requests<3.0.0,>=2.13.0->spacy>=3.0.0->contextualSpellCheck) (3.0.4)\n",
            "Requirement already satisfied: confection<1.0.0,>=0.0.1 in /usr/local/lib/python3.7/dist-packages (from thinc<8.2.0,>=8.1.0->spacy>=3.0.0->contextualSpellCheck) (0.0.3)\n",
            "Requirement already satisfied: blis<0.8.0,>=0.7.8 in /usr/local/lib/python3.7/dist-packages (from thinc<8.2.0,>=8.1.0->spacy>=3.0.0->contextualSpellCheck) (0.7.9)\n",
            "Requirement already satisfied: importlib-metadata in /usr/local/lib/python3.7/dist-packages (from transformers>=4.0.0->contextualSpellCheck) (4.13.0)\n",
            "Requirement already satisfied: regex!=2019.12.17 in /usr/local/lib/python3.7/dist-packages (from transformers>=4.0.0->contextualSpellCheck) (2022.6.2)\n",
            "Requirement already satisfied: pyyaml>=5.1 in /usr/local/lib/python3.7/dist-packages (from transformers>=4.0.0->contextualSpellCheck) (6.0)\n",
            "Requirement already satisfied: tokenizers!=0.11.3,<0.14,>=0.11.1 in /usr/local/lib/python3.7/dist-packages (from transformers>=4.0.0->contextualSpellCheck) (0.13.1)\n",
            "Requirement already satisfied: filelock in /usr/local/lib/python3.7/dist-packages (from transformers>=4.0.0->contextualSpellCheck) (3.8.0)\n",
            "Requirement already satisfied: huggingface-hub<1.0,>=0.10.0 in /usr/local/lib/python3.7/dist-packages (from transformers>=4.0.0->contextualSpellCheck) (0.10.1)\n",
            "Requirement already satisfied: click<9.0.0,>=7.1.1 in /usr/local/lib/python3.7/dist-packages (from typer<0.5.0,>=0.3.0->spacy>=3.0.0->contextualSpellCheck) (7.1.2)\n",
            "Requirement already satisfied: MarkupSafe>=0.23 in /usr/local/lib/python3.7/dist-packages (from jinja2->spacy>=3.0.0->contextualSpellCheck) (2.0.1)\n"
          ]
        }
      ]
    },
    {
      "cell_type": "code",
      "source": [
        "nlp = spacy.load('en_core_web_sm')\n",
        "contextualSpellCheck.add_to_pipe(nlp)\n",
        "doc = nlp('Here wie usee the txtbllob pckge for speill chcek.')\n",
        "\n",
        "print(doc._.outcome_spellCheck)"
      ],
      "metadata": {
        "colab": {
          "base_uri": "https://localhost:8080/"
        },
        "id": "k_uVQqUaitEe",
        "outputId": "f6998ae7-9101-4e55-c261-f755e9f603bb"
      },
      "execution_count": null,
      "outputs": [
        {
          "output_type": "stream",
          "name": "stdout",
          "text": [
            "Here we me the littlek for theie.\n"
          ]
        }
      ]
    },
    {
      "cell_type": "code",
      "source": [
        "nlp = spacy.load('en_core_web_sm')\n",
        "contextualSpellCheck.add_to_pipe(nlp)\n",
        "\n",
        "\n",
        "\n",
        "doc = nlp('I wnt to be a data scientist')\n",
        "print(doc._.outcome_spellCheck)\n",
        "\n",
        "doc = nlp('I wnt to the university yesterday')\n",
        "print(doc._.outcome_spellCheck)"
      ],
      "metadata": {
        "colab": {
          "base_uri": "https://localhost:8080/"
        },
        "id": "05hrLnMBijXs",
        "outputId": "34847809-580f-4ac2-c075-eae90c5aa7b7"
      },
      "execution_count": null,
      "outputs": [
        {
          "output_type": "stream",
          "name": "stdout",
          "text": [
            "I want to be a data scientist\n",
            "I went to the university yesterday\n"
          ]
        }
      ]
    },
    {
      "cell_type": "markdown",
      "source": [
        "### **Method 3 - pyspellchecker**\n",
        "\n",
        "The pyspellchecker follows a more practical approach of shared decision-making with a human expert."
      ],
      "metadata": {
        "id": "hxmXkgMlkISb"
      }
    },
    {
      "cell_type": "code",
      "source": [
        "!pip install pyspellchecker\n",
        "\n",
        "from spellchecker import SpellChecker\n",
        "\n",
        "spell = SpellChecker()\n",
        "\n",
        "# find words that may be misspelled\n",
        "misspelled = spell.unknown((\"Here wie usee the txtbllob pckge for speill chcek.\").split())\n",
        "\n",
        "for word in misspelled:\n",
        "    print(\"1) misspelled word:\",word, end='; ')\n",
        "    # `most likely` answer\n",
        "    print(\"2) most likely word:\", spell.correction(word), end='; ')\n",
        "    # list of `likely` options\n",
        "    print(\"3) list of likely words:\", spell.candidates(word))"
      ],
      "metadata": {
        "colab": {
          "base_uri": "https://localhost:8080/"
        },
        "id": "n4CKIxX0j0EN",
        "outputId": "d0f363bb-e864-42f6-a023-b429b38056f2"
      },
      "execution_count": null,
      "outputs": [
        {
          "output_type": "stream",
          "name": "stdout",
          "text": [
            "Looking in indexes: https://pypi.org/simple, https://us-python.pkg.dev/colab-wheels/public/simple/\n",
            "Collecting pyspellchecker\n",
            "  Downloading pyspellchecker-0.7.0-py3-none-any.whl (2.5 MB)\n",
            "\u001b[K     |████████████████████████████████| 2.5 MB 6.6 MB/s \n",
            "\u001b[?25hInstalling collected packages: pyspellchecker\n",
            "Successfully installed pyspellchecker-0.7.0\n",
            "1) misspelled word: usee; 2) most likely word: see; 3) list of likely words: {'unsee', 'see', 'lsee', 'uses', 'use', 'used', 'user'}\n",
            "1) misspelled word: speill; 2) most likely word: spell; 3) list of likely words: {'spell', 'spill'}\n",
            "1) misspelled word: txtbllob; 2) most likely word: None; 3) list of likely words: None\n",
            "1) misspelled word: chcek.; 2) most likely word: check; 3) list of likely words: {'cheek', 'cheeks', 'cheeky', 'checks', 'check'}\n",
            "1) misspelled word: pckge; 2) most likely word: page; 3) list of likely words: {'pudge', 'pickle', 'cage', 'poke', 'pekoe', 'paige', 'page', 'pike', 'phage', 'pocke', 'package', 'purge', 'puke'}\n"
          ]
        }
      ]
    },
    {
      "cell_type": "markdown",
      "source": [
        "## **Tokenization**\n",
        "\n",
        "Tokenization is the process of splitting a given text into constituent sentences and words. "
      ],
      "metadata": {
        "id": "v49c5l8QeJqi"
      }
    },
    {
      "cell_type": "code",
      "source": [
        "nltk.download('punkt') #download punkt within nltk"
      ],
      "metadata": {
        "colab": {
          "base_uri": "https://localhost:8080/"
        },
        "id": "h3oWRVCp1yB3",
        "outputId": "fd8f55f6-b5d7-49cf-ac49-fca7f2a0a813"
      },
      "execution_count": null,
      "outputs": [
        {
          "output_type": "stream",
          "name": "stderr",
          "text": [
            "[nltk_data] Downloading package punkt to /root/nltk_data...\n",
            "[nltk_data]   Unzipping tokenizers/punkt.zip.\n"
          ]
        },
        {
          "output_type": "execute_result",
          "data": {
            "text/plain": [
              "True"
            ]
          },
          "metadata": {},
          "execution_count": 115
        }
      ]
    },
    {
      "cell_type": "markdown",
      "source": [
        "### **Paragraphs to sentences**\n"
      ],
      "metadata": {
        "id": "7uxBDgLc6c_-"
      }
    },
    {
      "cell_type": "code",
      "source": [
        "from nltk.tokenize import sent_tokenize\n",
        "# e.g., SpaceX wiki https://en.wikipedia.org/wiki/SpaceX\n",
        "\n",
        "# \"\"\"Space Exploration Technologies is an American aerospace manufacturer, \n",
        "# a provider of space transportation services, and a communications corporation \n",
        "# headquartered in Hawthorne, California. SpaceX was founded in 2002 by Elon Musk \n",
        "# with the goal of reducing space transportation costs to enable the colonization \n",
        "# of Mars. SpaceX manufactures the Falcon 9 and Falcon Heavy launch vehicles, \n",
        "# several rocket engines, Cargo Dragon, crew spacecraft, and Starlink communications \n",
        "# satellites.\"\"\"\n",
        "\n",
        "text = \"\"\"Space Exploration Technologies is an American aerospace manufacturer, a provider of space transportation services, and a communications corporation headquartered in Hawthorne, California. SpaceX was founded in 2002 by Elon Musk with the goal of reducing space transportation costs to enable the colonization of Mars. SpaceX manufactures the Falcon 9 and Falcon Heavy launch vehicles, several rocket engines, Cargo Dragon, crew spacecraft, and Starlink communications satellites.\"\"\"\n",
        "sentences = sent_tokenize(text)\n",
        "\n",
        "for sentence in sentences:\n",
        "  print(sentence)"
      ],
      "metadata": {
        "colab": {
          "base_uri": "https://localhost:8080/"
        },
        "id": "qK3HRqlv1tah",
        "outputId": "86980864-7feb-461d-81b6-6635627df2d0"
      },
      "execution_count": null,
      "outputs": [
        {
          "output_type": "stream",
          "name": "stdout",
          "text": [
            "Space Exploration Technologies is an American aerospace manufacturer, a provider of space transportation services, and a communications corporation headquartered in Hawthorne, California.\n",
            "SpaceX was founded in 2002 by Elon Musk with the goal of reducing space transportation costs to enable the colonization of Mars.\n",
            "SpaceX manufactures the Falcon 9 and Falcon Heavy launch vehicles, several rocket engines, Cargo Dragon, crew spacecraft, and Starlink communications satellites.\n"
          ]
        }
      ]
    },
    {
      "cell_type": "markdown",
      "source": [
        " ### **Sentences to words**\n",
        "\n"
      ],
      "metadata": {
        "id": "DiCTEUg96hEm"
      }
    },
    {
      "cell_type": "code",
      "source": [
        "from nltk.tokenize import word_tokenize\n",
        "import nltk\n",
        "# e.g., SpaceX wiki https://en.wikipedia.org/wiki/SpaceX\n",
        "\n",
        "# \"\"\"Space Exploration Technologies is an American aerospace manufacturer, \n",
        "# a provider of space transportation services, and a communications corporation \n",
        "# headquartered in Hawthorne, California. SpaceX was founded in 2002 by Elon Musk \n",
        "# with the goal of reducing space transportation costs to enable the colonization \n",
        "# of Mars. SpaceX manufactures the Falcon 9 and Falcon Heavy launch vehicles, \n",
        "# several rocket engines, Cargo Dragon, crew spacecraft, and Starlink communications \n",
        "# satellites.\"\"\"\n",
        "\n",
        "text = \"\"\"Space Exploration Technologies is an American aerospace manufacturer, a provider of space transportation services, and a communications corporation headquartered in Hawthorne, California. SpaceX was founded in 2002 by Elon Musk with the goal of reducing space transportation costs to enable the colonization of Mars. SpaceX manufactures the Falcon 9 and Falcon Heavy launch vehicles, several rocket engines, Cargo Dragon, crew spacecraft, and Starlink communications satellites.\"\"\"\n",
        "\n",
        "word_tokenize(text)"
      ],
      "metadata": {
        "colab": {
          "base_uri": "https://localhost:8080/"
        },
        "id": "0sI5jPXQ04kH",
        "outputId": "c8b3e869-f12f-4684-a02d-fada54436a96"
      },
      "execution_count": null,
      "outputs": [
        {
          "output_type": "execute_result",
          "data": {
            "text/plain": [
              "['Space',\n",
              " 'Exploration',\n",
              " 'Technologies',\n",
              " 'is',\n",
              " 'an',\n",
              " 'American',\n",
              " 'aerospace',\n",
              " 'manufacturer',\n",
              " ',',\n",
              " 'a',\n",
              " 'provider',\n",
              " 'of',\n",
              " 'space',\n",
              " 'transportation',\n",
              " 'services',\n",
              " ',',\n",
              " 'and',\n",
              " 'a',\n",
              " 'communications',\n",
              " 'corporation',\n",
              " 'headquartered',\n",
              " 'in',\n",
              " 'Hawthorne',\n",
              " ',',\n",
              " 'California',\n",
              " '.',\n",
              " 'SpaceX',\n",
              " 'was',\n",
              " 'founded',\n",
              " 'in',\n",
              " '2002',\n",
              " 'by',\n",
              " 'Elon',\n",
              " 'Musk',\n",
              " 'with',\n",
              " 'the',\n",
              " 'goal',\n",
              " 'of',\n",
              " 'reducing',\n",
              " 'space',\n",
              " 'transportation',\n",
              " 'costs',\n",
              " 'to',\n",
              " 'enable',\n",
              " 'the',\n",
              " 'colonization',\n",
              " 'of',\n",
              " 'Mars',\n",
              " '.',\n",
              " 'SpaceX',\n",
              " 'manufactures',\n",
              " 'the',\n",
              " 'Falcon',\n",
              " '9',\n",
              " 'and',\n",
              " 'Falcon',\n",
              " 'Heavy',\n",
              " 'launch',\n",
              " 'vehicles',\n",
              " ',',\n",
              " 'several',\n",
              " 'rocket',\n",
              " 'engines',\n",
              " ',',\n",
              " 'Cargo',\n",
              " 'Dragon',\n",
              " ',',\n",
              " 'crew',\n",
              " 'spacecraft',\n",
              " ',',\n",
              " 'and',\n",
              " 'Starlink',\n",
              " 'communications',\n",
              " 'satellites',\n",
              " '.']"
            ]
          },
          "metadata": {},
          "execution_count": 117
        }
      ]
    },
    {
      "cell_type": "markdown",
      "source": [
        "## **Stemming**\n",
        "\n",
        "Stemming is the process of reducing inflected (or sometimes derived) words to their word stem, base or root form. This primarily removes the final few characters with \"form different\" variations of the word.\n",
        "\n",
        "Stemming should be used with care as it can sometimes be incorrect like stemming \"Optus\" to \"Optu\".\n",
        "\n",
        "Overstemming and understemming can also be a challenge. \n",
        "\n",
        "Overstemming occurs when two words are stemmed from the same root that are of different stems (university and universe). \n",
        "Understemming is when two or more words are incorrectly reduced to more than one root word (Programmers program)\n",
        "\n",
        "We use NLTK for this task."
      ],
      "metadata": {
        "id": "8mtK5T7e7vNc"
      }
    },
    {
      "cell_type": "code",
      "source": [
        "from nltk.stem import PorterStemmer\n",
        "\n",
        "def stemming_function(text):\n",
        "  stemmer = PorterStemmer()\n",
        "  word_list = text.split()\n",
        "  stemmed_word_list = [stemmer.stem(word) for word in word_list]\n",
        "  stemmed_sentence = \" \".join(stemmed_word_list)\n",
        "  return stemmed_sentence\n",
        "\n",
        "text = \"Python programmers across the universe and in universities program with the Python programming language for Optus University\"\n",
        "stemming_function(text)"
      ],
      "metadata": {
        "id": "YjdoJqE5_sCS",
        "colab": {
          "base_uri": "https://localhost:8080/",
          "height": 36
        },
        "outputId": "81553670-414c-4ac1-ad7e-255dfda47e37"
      },
      "execution_count": null,
      "outputs": [
        {
          "output_type": "execute_result",
          "data": {
            "text/plain": [
              "'python programm across the univers and in univers program with the python program languag for optu univers'"
            ],
            "application/vnd.google.colaboratory.intrinsic+json": {
              "type": "string"
            }
          },
          "metadata": {},
          "execution_count": 118
        }
      ]
    },
    {
      "cell_type": "markdown",
      "source": [
        "## **Lemmatization**\n",
        "\n",
        "Lemmatization preserves more meaning than stemming as it accounts for context. This is known as the lemma in morphology, forms of the same lexeme.  \n",
        "\n",
        "But here we have to specify the POS - Part of speech tag. Ex: verb, noun etc.\n",
        "\n",
        "e.g. Stemming the word ‘Studies‘ would return ‘Studi‘.\n",
        "Lemmatizing the word ‘Studies‘ would return ‘Study‘.\n",
        "\n"
      ],
      "metadata": {
        "id": "zWbSci7V8hsK"
      }
    },
    {
      "cell_type": "code",
      "source": [
        "from nltk.stem import WordNetLemmatizer\n",
        "from nltk.corpus import wordnet \n",
        "nltk.download('wordnet')\n",
        "nltk.download('omw-1.4')\n",
        "nltk.download('averaged_perceptron_tagger')\n",
        "lemmatizer = WordNetLemmatizer()\n",
        " \n",
        "print(\"study :\", lemmatizer.lemmatize(\"study\", wordnet.VERB))\n",
        "print(\"studying :\", lemmatizer.lemmatize(\"studying\", wordnet.VERB))\n",
        "print(\"studies :\", lemmatizer.lemmatize(\"studies\", wordnet.VERB))"
      ],
      "metadata": {
        "colab": {
          "base_uri": "https://localhost:8080/"
        },
        "id": "EVEwSyE_8hQn",
        "outputId": "45aefac2-1f60-4958-fc3a-61a6023e504d"
      },
      "execution_count": null,
      "outputs": [
        {
          "output_type": "stream",
          "name": "stdout",
          "text": [
            "study : study\n",
            "studying : study\n",
            "studies : study\n"
          ]
        },
        {
          "output_type": "stream",
          "name": "stderr",
          "text": [
            "[nltk_data] Downloading package wordnet to /root/nltk_data...\n",
            "[nltk_data]   Package wordnet is already up-to-date!\n",
            "[nltk_data] Downloading package omw-1.4 to /root/nltk_data...\n",
            "[nltk_data]   Package omw-1.4 is already up-to-date!\n",
            "[nltk_data] Downloading package averaged_perceptron_tagger to\n",
            "[nltk_data]     /root/nltk_data...\n",
            "[nltk_data]   Package averaged_perceptron_tagger is already up-to-\n",
            "[nltk_data]       date!\n"
          ]
        }
      ]
    },
    {
      "cell_type": "code",
      "source": [
        "stemmer = PorterStemmer()\n",
        "print(\"study :\", stemmer.stem(\"study\"))\n",
        "print(\"studying :\", stemmer.stem(\"studying\"))\n",
        "print(\"studies :\", stemmer.stem(\"studies\"))"
      ],
      "metadata": {
        "colab": {
          "base_uri": "https://localhost:8080/"
        },
        "id": "XvgMnwulDGKF",
        "outputId": "0095cbb5-5e15-4477-86d0-79699b32366f"
      },
      "execution_count": null,
      "outputs": [
        {
          "output_type": "stream",
          "name": "stdout",
          "text": [
            "study : studi\n",
            "studying : studi\n",
            "studies : studi\n"
          ]
        }
      ]
    },
    {
      "cell_type": "code",
      "source": [
        "wordnet_map = {\"N\":wordnet.NOUN, \"V\":wordnet.VERB, \"J\":wordnet.ADJ, \"R\":wordnet.ADV}\n",
        "def lemmatization_function(text):\n",
        "    pos_tagged_text = nltk.pos_tag(text.split())\n",
        "    return \" \".join([lemmatizer.lemmatize(word, wordnet_map.get(pos[0], wordnet.NOUN)) for word, pos in pos_tagged_text])\n",
        "\n",
        "text = \"She studies Python programming in the library and walks home.\"\n",
        "lemmatization_function(text)"
      ],
      "metadata": {
        "colab": {
          "base_uri": "https://localhost:8080/",
          "height": 36
        },
        "id": "o8cKqdoxQaBf",
        "outputId": "b76db9d0-73a0-4c21-ab53-da445b731b01"
      },
      "execution_count": null,
      "outputs": [
        {
          "output_type": "execute_result",
          "data": {
            "text/plain": [
              "'She study Python programming in the library and walk home.'"
            ],
            "application/vnd.google.colaboratory.intrinsic+json": {
              "type": "string"
            }
          },
          "metadata": {},
          "execution_count": 124
        }
      ]
    },
    {
      "cell_type": "markdown",
      "source": [
        "## **Vectorization**\n",
        "\n",
        "Vectorisation is the process of converting preprocessed text into numerical vectors (arrays or matrices). As most AI algorithms work on numerical data, all text data must be converted to a suitable numerical representation for the application of such AI algorithms. Many such vectorisation methods are available, ranging from simple to complex,\n",
        "\n",
        "*  One-hot Encoding (OHE)\n",
        "*  Bag-of-Words (BOW)\n",
        "*  Term Frequency-Inverse Document Frequency (TF-IDF)\n",
        "*  Word Embeddings"
      ],
      "metadata": {
        "id": "eXJjZyVfjPOl"
      }
    },
    {
      "cell_type": "markdown",
      "source": [
        "Terminology used in vectorisation: \n",
        "\n",
        "**Document**\n",
        "Document is a single text vector, a single tweet or one review posted by a user.\n",
        "\n",
        "**Corpus**\n",
        "Corpus is the collection of all text vectors, that is all documents in the dataset\n",
        "\n",
        "**Vocabulary**\n",
        "The vocabulary of a corpus contains every unique word.\n",
        "\n",
        "Let's work through a manual example to understand the terminology and what it represents.\n",
        "\n",
        "*Document 1*: Python is an interesting programming language.\n",
        "\n",
        "*Document 2*: We learn Python programming language in this course.\n",
        "\n",
        "*Corpus* = [[\"Python is an interesting programming language\"], [\"We learn Python programming language in this course\"]]\n",
        "\n",
        "*Vocabulary* = [Python, is, an, interesting, programming, language, We, learn, in, this, course]\n"
      ],
      "metadata": {
        "id": "5xFuoXLvWdti"
      }
    },
    {
      "cell_type": "markdown",
      "source": [
        "### **One-hot Encoding (OHE)**\n",
        "\n",
        "The corpus vocabulary is V, which contains all the unique terms in the given set of documents. Each term t in V is given a unique ID i that is between 1 and V. Each word is represented by a V dimensional binary vector of ‘0’s with a ‘1’ where the index = i. A sentence is then represented using the combination of those binary vectors for each word. \n",
        "\n",
        "\n",
        "**Example**                                                                      \n",
        "Document1: \"Python is an interesting programming language.\" \n",
        "\n",
        "Vocabulary = [*Python, is, an, interesting, programming, language, We, learn, in, this, course*]\n",
        "\n",
        "One-hot encoding: \n",
        "\n",
        "Python = [1, 0, 0, 0, 0, 0, 0, 0, 0, 0, 0]                                       \n",
        "is = [0, 1, 0, 0, 0, 0, 0, 0, 0, 0, 0]                                           \n",
        "an = [0, 0, 1, 0, 0, 0, 0, 0, 0, 0, 0]                                           \n",
        "interesting = [0, 0, 0, 1, 0, 0, 0, 0, 0, 0, 0]                                  \n",
        "programming = [0, 0, 0, 0, 1, 0, 0, 0, 0, 0, 0]                                  \n",
        "language = [0, 0, 0, 0, 0, 0, 1, 0, 0, 0, 0]\n",
        "\n",
        "Document1: [[1, 0, 0, 0, 0, 0, 0, 0, 0, 0, 0], [0, 1, 0, 0, 0, 0, 0, 0, 0, 0, 0], [0, 0, 1, 0, 0, 0, 0, 0, 0, 0, 0], [0, 0, 0, 1, 0, 0, 0, 0, 0, 0, 0], [0, 0, 0, 0, 1, 0, 0, 0, 0, 0, 0], [0, 0, 0, 0, 0, 0, 1, 0, 0, 0, 0]]"
      ],
      "metadata": {
        "id": "QtK89K7HsCaR"
      }
    },
    {
      "cell_type": "code",
      "source": [
        "from numpy import array\n",
        "from numpy import argmax\n",
        "from sklearn.preprocessing import LabelEncoder\n",
        "from sklearn.preprocessing import OneHotEncoder\n",
        "\n",
        "\n",
        "document_1 = \"Python is an interesting programming language.\"\n",
        "document_2 = \"We learn Python programming language in this course.\"\n",
        "\n",
        "\n",
        "documents = [document_1, document_2]\n",
        "processed_documents = [doc.lower().replace(\".\",\"\") for doc in documents]\n",
        "\n",
        "#Build the vocabulary\n",
        "vocab = {}\n",
        "count = 0\n",
        "for document in processed_documents:\n",
        "    for word in document.split():\n",
        "        if word not in vocab:\n",
        "            count = count +1\n",
        "            vocab[word] = count\n",
        "print(vocab)\n",
        "\n",
        "def get_onehot_vector(document):\n",
        "    onehot_encoded = []\n",
        "    document = document.lower().replace(\".\",\"\")\n",
        "    for word in document.split():\n",
        "        temp = [0]*len(vocab)\n",
        "        if word in vocab:\n",
        "            temp[vocab[word]-1] = 1 # -1 is to take care of the fact indexing in array starts from 0 and not 1\n",
        "        onehot_encoded.append(temp)\n",
        "    return onehot_encoded"
      ],
      "metadata": {
        "id": "3ovV13MtsBl5",
        "colab": {
          "base_uri": "https://localhost:8080/"
        },
        "outputId": "bfa9d62e-426b-41d7-fde7-9b4da48d1b48"
      },
      "execution_count": null,
      "outputs": [
        {
          "output_type": "stream",
          "name": "stdout",
          "text": [
            "{'python': 1, 'is': 2, 'an': 3, 'interesting': 4, 'programming': 5, 'language': 6, 'we': 7, 'learn': 8, 'in': 9, 'this': 10, 'course': 11}\n"
          ]
        }
      ]
    },
    {
      "cell_type": "code",
      "source": [
        "get_onehot_vector(document_1) "
      ],
      "metadata": {
        "colab": {
          "base_uri": "https://localhost:8080/"
        },
        "id": "bXwQ6LlSsuZp",
        "outputId": "b6d54b7f-ea6b-44d2-db52-3f2d4c566783"
      },
      "execution_count": null,
      "outputs": [
        {
          "output_type": "execute_result",
          "data": {
            "text/plain": [
              "[[1, 0, 0, 0, 0, 0, 0, 0, 0, 0, 0],\n",
              " [0, 1, 0, 0, 0, 0, 0, 0, 0, 0, 0],\n",
              " [0, 0, 1, 0, 0, 0, 0, 0, 0, 0, 0],\n",
              " [0, 0, 0, 1, 0, 0, 0, 0, 0, 0, 0],\n",
              " [0, 0, 0, 0, 1, 0, 0, 0, 0, 0, 0],\n",
              " [0, 0, 0, 0, 0, 1, 0, 0, 0, 0, 0]]"
            ]
          },
          "metadata": {},
          "execution_count": 19
        }
      ]
    },
    {
      "cell_type": "markdown",
      "source": [
        "### **Bag-of-Words (BOW)**\n",
        "\n",
        "Treats the document as a “bag” of words – disregarding the sequence of words and context. The corpus vocabulary is V, which contains all the unique terms in the given set of documents. Each term t in V is given a unique ID i that is between 1 and V. Each document is then converted into a vector of V dimensions where each value at index = i , is the number of times the term t occurs in the document. \n",
        "\n",
        "\n",
        "\n",
        "![image.png](data:image/png;base64,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)"
      ],
      "metadata": {
        "id": "tO-MELTSsVH6"
      }
    },
    {
      "cell_type": "markdown",
      "source": [
        "Let's convert our documents to Bag of Words using CountVectorizer in Python. "
      ],
      "metadata": {
        "id": "E7CWWXauv6oI"
      }
    },
    {
      "cell_type": "code",
      "source": [
        "import numpy as np\n",
        "import pandas as pd\n",
        "import os\n",
        "from sklearn.feature_extraction.text import CountVectorizer\n",
        "\n",
        "document_1 = \"Python is an interesting programming language.\"\n",
        "document_2 = \"We learn Python programming language in this course.\"\n",
        "\n",
        "documents = [document_1, document_2]\n",
        "\n",
        "# Instantiate count vectorizer\n",
        "countvec = CountVectorizer()\n",
        "cdf = countvec.fit_transform(documents)\n",
        "bow = pd.DataFrame(cdf.toarray(), columns = countvec.get_feature_names())\n",
        "bow"
      ],
      "metadata": {
        "id": "8VpFtJEBsUnm",
        "colab": {
          "base_uri": "https://localhost:8080/",
          "height": 147
        },
        "outputId": "b408c48c-d5d6-489c-df26-f3e626d0b3d5"
      },
      "execution_count": null,
      "outputs": [
        {
          "output_type": "stream",
          "name": "stderr",
          "text": [
            "/usr/local/lib/python3.7/dist-packages/sklearn/utils/deprecation.py:87: FutureWarning: Function get_feature_names is deprecated; get_feature_names is deprecated in 1.0 and will be removed in 1.2. Please use get_feature_names_out instead.\n",
            "  warnings.warn(msg, category=FutureWarning)\n"
          ]
        },
        {
          "output_type": "execute_result",
          "data": {
            "text/plain": [
              "   an  course  in  interesting  is  language  learn  programming  python  \\\n",
              "0   1       0   0            1   1         1      0            1       1   \n",
              "1   0       1   1            0   0         1      1            1       1   \n",
              "\n",
              "   this  we  \n",
              "0     0   0  \n",
              "1     1   1  "
            ],
            "text/html": [
              "\n",
              "  <div id=\"df-deebe3cb-52fb-4226-a9dd-fea23a8ac1e1\">\n",
              "    <div class=\"colab-df-container\">\n",
              "      <div>\n",
              "<style scoped>\n",
              "    .dataframe tbody tr th:only-of-type {\n",
              "        vertical-align: middle;\n",
              "    }\n",
              "\n",
              "    .dataframe tbody tr th {\n",
              "        vertical-align: top;\n",
              "    }\n",
              "\n",
              "    .dataframe thead th {\n",
              "        text-align: right;\n",
              "    }\n",
              "</style>\n",
              "<table border=\"1\" class=\"dataframe\">\n",
              "  <thead>\n",
              "    <tr style=\"text-align: right;\">\n",
              "      <th></th>\n",
              "      <th>an</th>\n",
              "      <th>course</th>\n",
              "      <th>in</th>\n",
              "      <th>interesting</th>\n",
              "      <th>is</th>\n",
              "      <th>language</th>\n",
              "      <th>learn</th>\n",
              "      <th>programming</th>\n",
              "      <th>python</th>\n",
              "      <th>this</th>\n",
              "      <th>we</th>\n",
              "    </tr>\n",
              "  </thead>\n",
              "  <tbody>\n",
              "    <tr>\n",
              "      <th>0</th>\n",
              "      <td>1</td>\n",
              "      <td>0</td>\n",
              "      <td>0</td>\n",
              "      <td>1</td>\n",
              "      <td>1</td>\n",
              "      <td>1</td>\n",
              "      <td>0</td>\n",
              "      <td>1</td>\n",
              "      <td>1</td>\n",
              "      <td>0</td>\n",
              "      <td>0</td>\n",
              "    </tr>\n",
              "    <tr>\n",
              "      <th>1</th>\n",
              "      <td>0</td>\n",
              "      <td>1</td>\n",
              "      <td>1</td>\n",
              "      <td>0</td>\n",
              "      <td>0</td>\n",
              "      <td>1</td>\n",
              "      <td>1</td>\n",
              "      <td>1</td>\n",
              "      <td>1</td>\n",
              "      <td>1</td>\n",
              "      <td>1</td>\n",
              "    </tr>\n",
              "  </tbody>\n",
              "</table>\n",
              "</div>\n",
              "      <button class=\"colab-df-convert\" onclick=\"convertToInteractive('df-deebe3cb-52fb-4226-a9dd-fea23a8ac1e1')\"\n",
              "              title=\"Convert this dataframe to an interactive table.\"\n",
              "              style=\"display:none;\">\n",
              "        \n",
              "  <svg xmlns=\"http://www.w3.org/2000/svg\" height=\"24px\"viewBox=\"0 0 24 24\"\n",
              "       width=\"24px\">\n",
              "    <path d=\"M0 0h24v24H0V0z\" fill=\"none\"/>\n",
              "    <path d=\"M18.56 5.44l.94 2.06.94-2.06 2.06-.94-2.06-.94-.94-2.06-.94 2.06-2.06.94zm-11 1L8.5 8.5l.94-2.06 2.06-.94-2.06-.94L8.5 2.5l-.94 2.06-2.06.94zm10 10l.94 2.06.94-2.06 2.06-.94-2.06-.94-.94-2.06-.94 2.06-2.06.94z\"/><path d=\"M17.41 7.96l-1.37-1.37c-.4-.4-.92-.59-1.43-.59-.52 0-1.04.2-1.43.59L10.3 9.45l-7.72 7.72c-.78.78-.78 2.05 0 2.83L4 21.41c.39.39.9.59 1.41.59.51 0 1.02-.2 1.41-.59l7.78-7.78 2.81-2.81c.8-.78.8-2.07 0-2.86zM5.41 20L4 18.59l7.72-7.72 1.47 1.35L5.41 20z\"/>\n",
              "  </svg>\n",
              "      </button>\n",
              "      \n",
              "  <style>\n",
              "    .colab-df-container {\n",
              "      display:flex;\n",
              "      flex-wrap:wrap;\n",
              "      gap: 12px;\n",
              "    }\n",
              "\n",
              "    .colab-df-convert {\n",
              "      background-color: #E8F0FE;\n",
              "      border: none;\n",
              "      border-radius: 50%;\n",
              "      cursor: pointer;\n",
              "      display: none;\n",
              "      fill: #1967D2;\n",
              "      height: 32px;\n",
              "      padding: 0 0 0 0;\n",
              "      width: 32px;\n",
              "    }\n",
              "\n",
              "    .colab-df-convert:hover {\n",
              "      background-color: #E2EBFA;\n",
              "      box-shadow: 0px 1px 2px rgba(60, 64, 67, 0.3), 0px 1px 3px 1px rgba(60, 64, 67, 0.15);\n",
              "      fill: #174EA6;\n",
              "    }\n",
              "\n",
              "    [theme=dark] .colab-df-convert {\n",
              "      background-color: #3B4455;\n",
              "      fill: #D2E3FC;\n",
              "    }\n",
              "\n",
              "    [theme=dark] .colab-df-convert:hover {\n",
              "      background-color: #434B5C;\n",
              "      box-shadow: 0px 1px 3px 1px rgba(0, 0, 0, 0.15);\n",
              "      filter: drop-shadow(0px 1px 2px rgba(0, 0, 0, 0.3));\n",
              "      fill: #FFFFFF;\n",
              "    }\n",
              "  </style>\n",
              "\n",
              "      <script>\n",
              "        const buttonEl =\n",
              "          document.querySelector('#df-deebe3cb-52fb-4226-a9dd-fea23a8ac1e1 button.colab-df-convert');\n",
              "        buttonEl.style.display =\n",
              "          google.colab.kernel.accessAllowed ? 'block' : 'none';\n",
              "\n",
              "        async function convertToInteractive(key) {\n",
              "          const element = document.querySelector('#df-deebe3cb-52fb-4226-a9dd-fea23a8ac1e1');\n",
              "          const dataTable =\n",
              "            await google.colab.kernel.invokeFunction('convertToInteractive',\n",
              "                                                     [key], {});\n",
              "          if (!dataTable) return;\n",
              "\n",
              "          const docLinkHtml = 'Like what you see? Visit the ' +\n",
              "            '<a target=\"_blank\" href=https://colab.research.google.com/notebooks/data_table.ipynb>data table notebook</a>'\n",
              "            + ' to learn more about interactive tables.';\n",
              "          element.innerHTML = '';\n",
              "          dataTable['output_type'] = 'display_data';\n",
              "          await google.colab.output.renderOutput(dataTable, element);\n",
              "          const docLink = document.createElement('div');\n",
              "          docLink.innerHTML = docLinkHtml;\n",
              "          element.appendChild(docLink);\n",
              "        }\n",
              "      </script>\n",
              "    </div>\n",
              "  </div>\n",
              "  "
            ]
          },
          "metadata": {},
          "execution_count": 20
        }
      ]
    },
    {
      "cell_type": "markdown",
      "source": [
        "### **Term Frequency-Inverse Document Frequency (TF-IDF)**\n",
        "\n",
        "Term frequency–inverse document frequency (TF-IDF) quantifies the importance of a word relative to all others in the corpus. \n",
        "\n",
        "TF: \"how often does the term occur in a given document\"\n",
        "\n",
        "TF = (count of term t/count of all terms)\n",
        "\n",
        "IDF: \"how important is the term for the entire corpus (is it common or rare)\"\n",
        "\n",
        "IDF =  log-scale (total number of documents in the corpus/ number of documents containing the term)\n",
        "\n"
      ],
      "metadata": {
        "id": "SLXpSyeasYXB"
      }
    },
    {
      "cell_type": "markdown",
      "source": [
        "document_1 = \"Python is an interesting programming language.\"\n",
        "\n",
        "document_2 = \"We learn Python programming language during this course.\"\n",
        "\n",
        "|  | an | course| during| interesting| is | language | learn| programming| python | this| we |\n",
        "|---|---|---|---|---|---|---|---|---|---|---|---|\n",
        "|Document 1 (TF)|1/6|0/6|0/6|1/6|1/6|1/6|0/6|1/6|1/6|0/6|0/6|\n",
        "|Document 2 (TF)|0/8|1/8|1/8|0/8|0/8|1/8|1/8|1/8|1/8|1/8|1/8|\n",
        "|IDF|log(2/1)=0.3|log(2/1) = 0.3|log(2/1)=0.3|log(2/1)=0.3|log(2/1)=0.3|log(2/2)=0|log(1/2)=0.3|log(2/2)=0|log(2/2)=0|log(2/1)=0.3|log(2/1)=0.3|\n",
        "\n",
        "TF-IDF \n",
        "\n",
        "|  | an | course| during| interesting| is | language | learn| programming| python | this| we |\n",
        "|---|---|---|---|---|---|---|---|---|---|---|---|\n",
        "|Document 1|0.05|0|0|0.05|0.05|0|0.05|0|0|0|0|\n",
        "|Document 2|0|0.03|0.03|0|0|0|0.03|0|0|0.03|0.03|\n",
        "\n",
        "\n"
      ],
      "metadata": {
        "id": "7SqkVtxM2O1s"
      }
    },
    {
      "cell_type": "markdown",
      "source": [
        "Please note that, sklearn uses a modified TF-IDF with normalization, so the values from sklearn will not be same as the values manually calculated above. See [link](https://scikit-learn.org/stable/modules/generated/sklearn.feature_extraction.text.TfidfTransformer.html#:~:text=The%20formula%20that%20is%20used,document%20frequency%20of%20t%3B%20the)."
      ],
      "metadata": {
        "id": "JKxXV7vxUL5j"
      }
    },
    {
      "cell_type": "code",
      "source": [
        "from nltk.stem.porter import PorterStemmer\n",
        "from sklearn.feature_extraction.text import TfidfVectorizer\n",
        "\n",
        "document_1 = \"Python is an interesting programming language.\"\n",
        "document_2 = \"We learn Python programming language during this course.\"\n",
        "\n",
        "documents = [document_1, document_2]\n",
        "\n",
        "def tokenize(text):\n",
        "  return text.lower().replace(\".\",\"\").split()\n",
        "\n",
        "tfidf = TfidfVectorizer(tokenizer=tokenize)\n",
        "tfs = tfidf.fit_transform(documents)\n",
        "df_tfidfvect = pd.DataFrame(data = tfs.toarray(), index = ['Document 1','Document 2'],columns = tfidf.get_feature_names_out())\n",
        "print(\"\\nTD-IDF Vectorizer\\n\")\n",
        "print(df_tfidfvect)"
      ],
      "metadata": {
        "id": "ltw26P1EsbFr",
        "colab": {
          "base_uri": "https://localhost:8080/"
        },
        "outputId": "986b253b-869b-4c86-e2ca-96bac153264a"
      },
      "execution_count": null,
      "outputs": [
        {
          "output_type": "stream",
          "name": "stdout",
          "text": [
            "\n",
            "TD-IDF Vectorizer\n",
            "\n",
            "                  an    course    during  interesting        is  language  \\\n",
            "Document 1  0.470426  0.000000  0.000000     0.470426  0.470426  0.334712   \n",
            "Document 2  0.000000  0.391668  0.391668     0.000000  0.000000  0.278675   \n",
            "\n",
            "               learn  programming    python      this        we  \n",
            "Document 1  0.000000     0.334712  0.334712  0.000000  0.000000  \n",
            "Document 2  0.391668     0.278675  0.278675  0.391668  0.391668  \n"
          ]
        }
      ]
    },
    {
      "cell_type": "markdown",
      "source": [
        "### **Word Embeddings**"
      ],
      "metadata": {
        "id": "wE6h1SlCsbWp"
      }
    },
    {
      "cell_type": "markdown",
      "source": [
        "Word embeddings are a learned representation of a vocabulary where words are assigned weight vectors based on their contextual meaning, such that similar words have a similar weights. \n",
        "\n",
        "Word embeddings group vectors of similar words together in vector space, by creating vectors that are distributed numerical representations.\n"
      ],
      "metadata": {
        "id": "nuyCLhM1V6un"
      }
    },
    {
      "cell_type": "markdown",
      "source": [
        "![image.png](data:image/png;base64,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)"
      ],
      "metadata": {
        "id": "ZwE3esLrp1I9"
      }
    },
    {
      "cell_type": "markdown",
      "source": [
        "#### **Word2Vec** \n",
        "\n",
        "The Word2vec algorithm uses a neural network approach to learn a word embedding from a text corpus. It has two main learning methods, continuous bag of words (CBOW) and skip grams, both of which learn from a window of words for each target word to provide context and in turn meaning for words. \n",
        "\n",
        "Gensim provides the Word2Vec class for a Word2Vec model learned off tweets."
      ],
      "metadata": {
        "id": "r9hW4U3MZBr_"
      }
    },
    {
      "cell_type": "code",
      "source": [
        "import gensim.downloader as api\n",
        "model_glove_twitter = api.load(\"glove-wiki-gigaword-50\")"
      ],
      "metadata": {
        "colab": {
          "base_uri": "https://localhost:8080/"
        },
        "id": "eSjR-hrrZIAJ",
        "outputId": "05f137ef-140e-43bd-ff3a-2643b38c9c48"
      },
      "execution_count": null,
      "outputs": [
        {
          "output_type": "stream",
          "name": "stdout",
          "text": [
            "[==================================================] 100.0% 66.0/66.0MB downloaded\n"
          ]
        }
      ]
    },
    {
      "cell_type": "markdown",
      "source": [
        "Retrieve the word embedding (or weight vector) of a given word:"
      ],
      "metadata": {
        "id": "uzjQlLbFlnof"
      }
    },
    {
      "cell_type": "code",
      "source": [
        "model_glove_twitter['cool']"
      ],
      "metadata": {
        "colab": {
          "base_uri": "https://localhost:8080/"
        },
        "id": "gcSGdNgClQTI",
        "outputId": "1746f602-a7ef-4fdc-b50c-6f960b451360"
      },
      "execution_count": null,
      "outputs": [
        {
          "output_type": "execute_result",
          "data": {
            "text/plain": [
              "array([-0.65575 ,  0.45659 , -0.16748 , -0.58345 , -0.23073 , -0.78348 ,\n",
              "       -0.23166 , -0.022452, -0.57968 ,  0.526   , -0.2214  ,  0.17614 ,\n",
              "        0.46513 ,  0.79142 ,  0.017403,  1.0879  ,  0.24418 ,  0.27523 ,\n",
              "       -0.26452 , -1.0389  ,  0.014045,  0.68459 ,  0.98151 ,  0.21561 ,\n",
              "        0.36278 , -0.51819 , -0.40552 ,  1.349   ,  1.5399  ,  0.60541 ,\n",
              "        2.6604  ,  0.074535, -0.076292,  0.12501 , -0.026268,  0.16843 ,\n",
              "       -0.41844 ,  0.44505 ,  0.25033 , -1.1557  ,  0.24575 ,  0.41847 ,\n",
              "       -0.10633 , -0.28433 ,  0.51215 ,  0.51371 ,  0.53004 , -0.889   ,\n",
              "        0.054744,  0.78793 ], dtype=float32)"
            ]
          },
          "metadata": {},
          "execution_count": 24
        }
      ]
    },
    {
      "cell_type": "markdown",
      "source": [
        "Since word embedding captures contextual similarities, let's find similar words:"
      ],
      "metadata": {
        "id": "Cu6KIkUaltsn"
      }
    },
    {
      "cell_type": "code",
      "source": [
        "model_glove_twitter.most_similar('cool')"
      ],
      "metadata": {
        "colab": {
          "base_uri": "https://localhost:8080/"
        },
        "id": "k8rWKN6zdRBe",
        "outputId": "68f8b604-cb99-4d37-c9db-5cd683767c8e"
      },
      "execution_count": null,
      "outputs": [
        {
          "output_type": "execute_result",
          "data": {
            "text/plain": [
              "[('hot', 0.860502302646637),\n",
              " ('warm', 0.8107472658157349),\n",
              " ('cold', 0.8103548884391785),\n",
              " ('bit', 0.7934333682060242),\n",
              " ('dry', 0.7665708065032959),\n",
              " ('cooler', 0.7619422674179077),\n",
              " ('little', 0.7598215341567993),\n",
              " ('mix', 0.7533074021339417),\n",
              " ('soft', 0.745375394821167),\n",
              " ('bright', 0.7423365712165833)]"
            ]
          },
          "metadata": {},
          "execution_count": 25
        }
      ]
    },
    {
      "cell_type": "markdown",
      "source": [
        "Let's calculate the distance between these two words:  "
      ],
      "metadata": {
        "id": "upvLXZ-epbSA"
      }
    },
    {
      "cell_type": "code",
      "source": [
        "model_glove_twitter.similarity('cool', 'cold') "
      ],
      "metadata": {
        "colab": {
          "base_uri": "https://localhost:8080/"
        },
        "id": "BXRWnwjmoyOj",
        "outputId": "61a4eb6e-e1af-492e-c7a8-dab667e65a5a"
      },
      "execution_count": null,
      "outputs": [
        {
          "output_type": "execute_result",
          "data": {
            "text/plain": [
              "0.8103549"
            ]
          },
          "metadata": {},
          "execution_count": 10
        }
      ]
    },
    {
      "cell_type": "markdown",
      "source": [
        "#### **Word2Vec word algebra** \n",
        "\n",
        "This is an interesting example that demonstrates the power of word embeddings. \n",
        "\n",
        "Consider the following \"word algebra\": \n",
        "\n",
        "`queen = (king - man) + woman`\n",
        "\n",
        "How  can we use Word2Vec to find the answer to the following\n",
        "\n",
        "  `(king – man) + woman = ?`\n",
        "\n"
      ],
      "metadata": {
        "id": "DVGDUUBBrIDl"
      }
    },
    {
      "cell_type": "code",
      "source": [
        "result = model_glove_twitter.most_similar(positive=['woman', 'king'], negative=['man'], topn=1)\n",
        "print(result)"
      ],
      "metadata": {
        "colab": {
          "base_uri": "https://localhost:8080/"
        },
        "id": "4cTl-EbCbaqu",
        "outputId": "0656b8e5-af05-48e7-e61c-f1e464ea9f8e"
      },
      "execution_count": null,
      "outputs": [
        {
          "output_type": "stream",
          "name": "stdout",
          "text": [
            "[('queen', 0.8523603677749634)]\n"
          ]
        }
      ]
    },
    {
      "cell_type": "markdown",
      "source": [
        "\n",
        "\n",
        "----------------------------------------\n",
        "\n",
        "End of OptusU_AIN_Text_Wrangling.ipynb."
      ],
      "metadata": {
        "id": "pi1-2bj9_78h"
      }
    }
  ]
}