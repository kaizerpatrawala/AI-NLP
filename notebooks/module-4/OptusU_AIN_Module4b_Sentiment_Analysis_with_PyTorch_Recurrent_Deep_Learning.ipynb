{
  "cells": [
    {
      "cell_type": "markdown",
      "source": [
        "# **Module4b - Sentiment Analysis with PyTorch Deep Learning**\n",
        "\n",
        "In this notebook, let's use a labelled dataset to build a deep learning model (from scratch) for sentiment analysis, using PyTorch and TorchText. We use the same IMDb dataset of movie reviews.\n",
        "\n",
        "[PyTorch](https://pytorch.org/) is an open source machine learning framework for agile AI model building. It was originally developed by Meta AI and now part of the Linux Foundation. The [torchtext](https://pytorch.org/text/stable/index.html) package in PyTorch consists of data processing and NLP/NLU functions."
      ],
      "metadata": {
        "id": "ccnk8levEWTQ"
      }
    },
    {
      "cell_type": "markdown",
      "source": [
        "## **Installing Python Libraries**\n",
        "\n",
        "This code block will install the required Python libraries into the Colab environment. Dismiss the warning about 'high RAM', we should be fine with the free allocation. "
      ],
      "metadata": {
        "id": "9SB6bh9nIQ8q"
      }
    },
    {
      "cell_type": "code",
      "source": [
        "!pip install datasets"
      ],
      "metadata": {
        "colab": {
          "base_uri": "https://localhost:8080/"
        },
        "id": "hgY6eZUZ1Pca",
        "outputId": "ead81cbf-f0cf-44d6-841f-79557e7a79bd"
      },
      "execution_count": null,
      "outputs": [
        {
          "output_type": "stream",
          "name": "stdout",
          "text": [
            "Looking in indexes: https://pypi.org/simple, https://us-python.pkg.dev/colab-wheels/public/simple/\n",
            "Requirement already satisfied: datasets in /usr/local/lib/python3.7/dist-packages (2.6.1)\n",
            "Requirement already satisfied: huggingface-hub<1.0.0,>=0.2.0 in /usr/local/lib/python3.7/dist-packages (from datasets) (0.10.1)\n",
            "Requirement already satisfied: responses<0.19 in /usr/local/lib/python3.7/dist-packages (from datasets) (0.18.0)\n",
            "Requirement already satisfied: xxhash in /usr/local/lib/python3.7/dist-packages (from datasets) (3.1.0)\n",
            "Requirement already satisfied: dill<0.3.6 in /usr/local/lib/python3.7/dist-packages (from datasets) (0.3.5.1)\n",
            "Requirement already satisfied: importlib-metadata in /usr/local/lib/python3.7/dist-packages (from datasets) (4.13.0)\n",
            "Requirement already satisfied: packaging in /usr/local/lib/python3.7/dist-packages (from datasets) (21.3)\n",
            "Requirement already satisfied: numpy>=1.17 in /usr/local/lib/python3.7/dist-packages (from datasets) (1.21.6)\n",
            "Requirement already satisfied: requests>=2.19.0 in /usr/local/lib/python3.7/dist-packages (from datasets) (2.23.0)\n",
            "Requirement already satisfied: pandas in /usr/local/lib/python3.7/dist-packages (from datasets) (1.3.5)\n",
            "Requirement already satisfied: pyyaml>=5.1 in /usr/local/lib/python3.7/dist-packages (from datasets) (6.0)\n",
            "Requirement already satisfied: pyarrow>=6.0.0 in /usr/local/lib/python3.7/dist-packages (from datasets) (6.0.1)\n",
            "Requirement already satisfied: tqdm>=4.62.1 in /usr/local/lib/python3.7/dist-packages (from datasets) (4.64.1)\n",
            "Requirement already satisfied: multiprocess in /usr/local/lib/python3.7/dist-packages (from datasets) (0.70.13)\n",
            "Requirement already satisfied: aiohttp in /usr/local/lib/python3.7/dist-packages (from datasets) (3.8.3)\n",
            "Requirement already satisfied: fsspec[http]>=2021.11.1 in /usr/local/lib/python3.7/dist-packages (from datasets) (2022.10.0)\n",
            "Requirement already satisfied: attrs>=17.3.0 in /usr/local/lib/python3.7/dist-packages (from aiohttp->datasets) (22.1.0)\n",
            "Requirement already satisfied: asynctest==0.13.0 in /usr/local/lib/python3.7/dist-packages (from aiohttp->datasets) (0.13.0)\n",
            "Requirement already satisfied: async-timeout<5.0,>=4.0.0a3 in /usr/local/lib/python3.7/dist-packages (from aiohttp->datasets) (4.0.2)\n",
            "Requirement already satisfied: charset-normalizer<3.0,>=2.0 in /usr/local/lib/python3.7/dist-packages (from aiohttp->datasets) (2.1.1)\n",
            "Requirement already satisfied: multidict<7.0,>=4.5 in /usr/local/lib/python3.7/dist-packages (from aiohttp->datasets) (6.0.2)\n",
            "Requirement already satisfied: aiosignal>=1.1.2 in /usr/local/lib/python3.7/dist-packages (from aiohttp->datasets) (1.3.1)\n",
            "Requirement already satisfied: typing-extensions>=3.7.4 in /usr/local/lib/python3.7/dist-packages (from aiohttp->datasets) (4.1.1)\n",
            "Requirement already satisfied: frozenlist>=1.1.1 in /usr/local/lib/python3.7/dist-packages (from aiohttp->datasets) (1.3.3)\n",
            "Requirement already satisfied: yarl<2.0,>=1.0 in /usr/local/lib/python3.7/dist-packages (from aiohttp->datasets) (1.8.1)\n",
            "Requirement already satisfied: filelock in /usr/local/lib/python3.7/dist-packages (from huggingface-hub<1.0.0,>=0.2.0->datasets) (3.8.0)\n",
            "Requirement already satisfied: pyparsing!=3.0.5,>=2.0.2 in /usr/local/lib/python3.7/dist-packages (from packaging->datasets) (3.0.9)\n",
            "Requirement already satisfied: certifi>=2017.4.17 in /usr/local/lib/python3.7/dist-packages (from requests>=2.19.0->datasets) (2022.9.24)\n",
            "Requirement already satisfied: idna<3,>=2.5 in /usr/local/lib/python3.7/dist-packages (from requests>=2.19.0->datasets) (2.10)\n",
            "Requirement already satisfied: chardet<4,>=3.0.2 in /usr/local/lib/python3.7/dist-packages (from requests>=2.19.0->datasets) (3.0.4)\n",
            "Requirement already satisfied: urllib3!=1.25.0,!=1.25.1,<1.26,>=1.21.1 in /usr/local/lib/python3.7/dist-packages (from requests>=2.19.0->datasets) (1.25.11)\n",
            "Requirement already satisfied: zipp>=0.5 in /usr/local/lib/python3.7/dist-packages (from importlib-metadata->datasets) (3.10.0)\n",
            "Requirement already satisfied: pytz>=2017.3 in /usr/local/lib/python3.7/dist-packages (from pandas->datasets) (2022.6)\n",
            "Requirement already satisfied: python-dateutil>=2.7.3 in /usr/local/lib/python3.7/dist-packages (from pandas->datasets) (2.8.2)\n",
            "Requirement already satisfied: six>=1.5 in /usr/local/lib/python3.7/dist-packages (from python-dateutil>=2.7.3->pandas->datasets) (1.15.0)\n"
          ]
        }
      ]
    },
    {
      "cell_type": "markdown",
      "source": [
        "## **Importing Python Libraries**\n"
      ],
      "metadata": {
        "id": "fyUNEkoOI0VI"
      }
    },
    {
      "cell_type": "code",
      "source": [
        "import datasets\n",
        "import functools\n",
        "import sys\n",
        "\n",
        "import datasets\n",
        "import matplotlib.pyplot as plt\n",
        "import numpy as np\n",
        "import torch\n",
        "import torch.nn as nn\n",
        "import torch.optim as optim\n",
        "import torchtext\n",
        "import tqdm\n",
        "import random\n",
        "\n",
        "SEED = 1234\n",
        "torch.manual_seed(SEED)"
      ],
      "metadata": {
        "colab": {
          "base_uri": "https://localhost:8080/"
        },
        "id": "Q9jO36GDH8dE",
        "outputId": "52c275df-a466-4df6-a574-ccd0f041b391"
      },
      "execution_count": null,
      "outputs": [
        {
          "output_type": "execute_result",
          "data": {
            "text/plain": [
              "<torch._C.Generator at 0x7f15a1049c30>"
            ]
          },
          "metadata": {},
          "execution_count": 15
        }
      ]
    },
    {
      "cell_type": "markdown",
      "source": [
        "## **Loading data**\n",
        "\n",
        "The imdb dataset can be extracted from the dataset package, which is more convenient than upload or Google Drive access. "
      ],
      "metadata": {
        "id": "IBeLyfjrJI9H"
      }
    },
    {
      "cell_type": "code",
      "source": [
        "imdb = datasets.load_dataset('imdb')"
      ],
      "metadata": {
        "colab": {
          "base_uri": "https://localhost:8080/",
          "height": 66,
          "referenced_widgets": [
            "c1ea6d888f4041008af70ef18ef298e5",
            "67c471cf4f9b43ab992a75095ea6ad67",
            "ec889feb255849968ae0a2932198df17",
            "9e2f678286c94fea8a7cdc3c789c0539",
            "d5be076689cc4ceb93077385dec03f2b",
            "a930b2d15e88464191597311597d1be4",
            "a13e54532636411ea0c4544eaca79b94",
            "e0cda635e52b48f2b4bea256b7ab2dcf",
            "6ef84f8612a44606b0eba5c352d100df",
            "dbe8642625954fbc9742878361383626",
            "1b0062d834ad4a02bf4da6b870fc0762"
          ]
        },
        "id": "T4NIkclL0zvo",
        "outputId": "a3826042-f366-464e-b050-4033b9685f10"
      },
      "execution_count": null,
      "outputs": [
        {
          "output_type": "stream",
          "name": "stderr",
          "text": [
            "WARNING:datasets.builder:Found cached dataset imdb (/root/.cache/huggingface/datasets/imdb/plain_text/1.0.0/2fdd8b9bcadd6e7055e742a706876ba43f19faee861df134affd7a3f60fc38a1)\n"
          ]
        },
        {
          "output_type": "display_data",
          "data": {
            "text/plain": [
              "  0%|          | 0/3 [00:00<?, ?it/s]"
            ],
            "application/vnd.jupyter.widget-view+json": {
              "version_major": 2,
              "version_minor": 0,
              "model_id": "c1ea6d888f4041008af70ef18ef298e5"
            }
          },
          "metadata": {}
        }
      ]
    },
    {
      "cell_type": "markdown",
      "source": [
        "## **Training, validation and testing datasets**"
      ],
      "metadata": {
        "id": "_x9mDcyyBgQo"
      }
    },
    {
      "cell_type": "markdown",
      "source": [
        "\n",
        "The IMDb dataset consists of 50,000 movie reviews, each marked as being a positive or negative review. The following code splits into equal train/test of 25,000 reviews. "
      ],
      "metadata": {
        "id": "B9R_TaHRLL8J"
      }
    },
    {
      "cell_type": "code",
      "execution_count": null,
      "metadata": {
        "id": "yAA_9gUd0Ipo"
      },
      "outputs": [],
      "source": [
        "train_data = imdb['train']\n",
        "test_data = imdb['test']"
      ]
    },
    {
      "cell_type": "markdown",
      "source": [
        "The IMDb dataset only has train/test splits, so we need to create a validation set. We can do this with the .train_validation_data = imdb[\"train\"].train_test_split(test_size=0.2)\n",
        "() method.\n",
        "\n",
        "By default this splits 70/30, however by passing a split_ratio argument, we can change the ratio of the split, i.e. a train_size of 0.8 would mean 80% of the examples make up the training set and 20% make up the validation set.\n",
        "\n",
        "We also pass our random seed to the random_state argument, ensuring that we get the same train/validation split each time."
      ],
      "metadata": {
        "id": "JKkzfdmnMX0N"
      }
    },
    {
      "cell_type": "code",
      "source": [
        "train_validation_data = imdb[\"train\"].train_test_split(train_size=0.8, shuffle=True, seed=SEED)\n",
        "train_validation_data"
      ],
      "metadata": {
        "colab": {
          "base_uri": "https://localhost:8080/"
        },
        "id": "jrHA-XR9MVWt",
        "outputId": "b47ac5d8-1e0c-4103-a547-69ec2b28a682"
      },
      "execution_count": null,
      "outputs": [
        {
          "output_type": "execute_result",
          "data": {
            "text/plain": [
              "DatasetDict({\n",
              "    train: Dataset({\n",
              "        features: ['text', 'label'],\n",
              "        num_rows: 20000\n",
              "    })\n",
              "    test: Dataset({\n",
              "        features: ['text', 'label'],\n",
              "        num_rows: 5000\n",
              "    })\n",
              "})"
            ]
          },
          "metadata": {},
          "execution_count": 5
        }
      ]
    },
    {
      "cell_type": "markdown",
      "source": [
        "Let's check the sizes of our training, validation and test dataset sizes"
      ],
      "metadata": {
        "id": "ejkraFvp2QI8"
      }
    },
    {
      "cell_type": "code",
      "source": [
        "train_data = train_validation_data['train']\n",
        "val_data = train_validation_data['test']\n",
        "\n",
        "print(\"Size of training dataset  %s\" %len(train_data))\n",
        "print(\"Size of validation dataset  %s\" %len(val_data))\n",
        "print(\"Size of test dataset  %s\" %len(test_data))"
      ],
      "metadata": {
        "colab": {
          "base_uri": "https://localhost:8080/"
        },
        "id": "0Cya0MDm1khd",
        "outputId": "d7e55b4f-967a-4a14-affb-f0f2028f51f1"
      },
      "execution_count": null,
      "outputs": [
        {
          "output_type": "stream",
          "name": "stdout",
          "text": [
            "Size of training dataset  20000\n",
            "Size of validation dataset  5000\n",
            "Size of test dataset  25000\n"
          ]
        }
      ]
    },
    {
      "cell_type": "markdown",
      "source": [
        "## **Tokenization**"
      ],
      "metadata": {
        "id": "cdQ8UAxwBrT5"
      }
    },
    {
      "cell_type": "markdown",
      "source": [
        "Torchtext contains several tokenizers. Let's use the the basic english tokenizer, which normalises the text first and then tokenizes by space. We also shrink the text into maximum length of 256."
      ],
      "metadata": {
        "id": "S5Kfe1sCBWrL"
      }
    },
    {
      "cell_type": "code",
      "source": [
        "max_length = 256"
      ],
      "metadata": {
        "id": "lLOCSzQdFwWE"
      },
      "execution_count": null,
      "outputs": []
    },
    {
      "cell_type": "code",
      "source": [
        "tokenizer = torchtext.data.utils.get_tokenizer('basic_english')"
      ],
      "metadata": {
        "id": "glTyVn63Ca_B"
      },
      "execution_count": null,
      "outputs": []
    },
    {
      "cell_type": "code",
      "source": [
        "def tokenize_data(example, tokenizer, max_length):\n",
        "    tokens = tokenizer(example['text'].lower())[:max_length]\n",
        "    return {'tokens': tokens}"
      ],
      "metadata": {
        "id": "_i_3GDOiELRF"
      },
      "execution_count": null,
      "outputs": []
    },
    {
      "cell_type": "code",
      "source": [
        "test_example = {\"text\" : \"This is an example of tokenizing !\"}\n",
        "tokenize_data(test_example, tokenizer, max_length)"
      ],
      "metadata": {
        "colab": {
          "base_uri": "https://localhost:8080/"
        },
        "id": "sMM7ZSGKC4F1",
        "outputId": "de23fe13-25db-48ed-9acc-e018b2628520"
      },
      "execution_count": null,
      "outputs": [
        {
          "output_type": "execute_result",
          "data": {
            "text/plain": [
              "{'tokens': ['this', 'is', 'an', 'example', 'of', 'tokenizing', '!']}"
            ]
          },
          "metadata": {},
          "execution_count": 12
        }
      ]
    },
    {
      "cell_type": "code",
      "execution_count": null,
      "metadata": {
        "colab": {
          "base_uri": "https://localhost:8080/",
          "height": 113,
          "referenced_widgets": [
            "3ea8c05bf6424ae3a71dc1aac2c9a88d",
            "8c61557f3bcd41e6a65f98ef05b6644e",
            "c0fc1aea146645d5a28767258125bb7a",
            "27c840bf8afb4e87ad22b8cce7489daf",
            "1934777757284a309c577c03b48f9df9",
            "1cc9def53a24423bb3b151aa3a0c3740",
            "006d4ee484b344ae9277a15809110ce7",
            "1bc1a73fe5ad4c6d9156098710b80716",
            "3f6d8ca030494530ab0fad24f4a8a2dd",
            "ae16684582564a2688eb47f4cf5cd6c3",
            "deba35c548d2487cb28713eb1aaf7303",
            "88abb33968d64e6cbaa090761b56986f",
            "b29d4d28c5a2486981a65506c3fedac5",
            "4868f8d38c524666a0d987cb57a99045",
            "7a68f39efb3949719a6501161a16aa14",
            "a0f61df9abdf4f76974837de3304b796",
            "85fcca4f271442febd9d7cf22cb373b7",
            "360f34aafc2e4444835f20f7698fa4f4",
            "cb33c99b93db4306a53685a8007ec330",
            "8e8a404f45a7463eb502cae472ed00ae",
            "4ecef8a24f8843baa71a5d93f62e5e58",
            "38f079b2228143bcad1956cd01ed1f56",
            "3bbad805a5904cc1851da6d364d1f090",
            "123c56055f1941cb834ec412dcb30825",
            "2af9ce1522b04acaa1c61133a6ed25e0",
            "e7480a27125245e5891373da8b5f667b",
            "70a128de5bd74698aa048f0a41ef071f",
            "2c9cf79f87ea42a19f2d836c50f7b1d0",
            "96638470ef174929b4a54d74f898e717",
            "ae08a25e06674b47967266c029c4507b",
            "9d8348bd5c854e58a505500fe20dbf24",
            "dd42f5575ec14d40b8b72c3f516e2c71",
            "d9bf54604bc6479f9ef409ff2c3731d3"
          ]
        },
        "id": "FBVvqsOJ0Ipo",
        "outputId": "69d06e5c-5598-4f5e-8738-15fdfcc7a6c7"
      },
      "outputs": [
        {
          "output_type": "display_data",
          "data": {
            "text/plain": [
              "  0%|          | 0/20000 [00:00<?, ?ex/s]"
            ],
            "application/vnd.jupyter.widget-view+json": {
              "version_major": 2,
              "version_minor": 0,
              "model_id": "3ea8c05bf6424ae3a71dc1aac2c9a88d"
            }
          },
          "metadata": {}
        },
        {
          "output_type": "display_data",
          "data": {
            "text/plain": [
              "  0%|          | 0/25000 [00:00<?, ?ex/s]"
            ],
            "application/vnd.jupyter.widget-view+json": {
              "version_major": 2,
              "version_minor": 0,
              "model_id": "88abb33968d64e6cbaa090761b56986f"
            }
          },
          "metadata": {}
        },
        {
          "output_type": "display_data",
          "data": {
            "text/plain": [
              "  0%|          | 0/5000 [00:00<?, ?ex/s]"
            ],
            "application/vnd.jupyter.widget-view+json": {
              "version_major": 2,
              "version_minor": 0,
              "model_id": "3bbad805a5904cc1851da6d364d1f090"
            }
          },
          "metadata": {}
        }
      ],
      "source": [
        "train_data = train_data.map(tokenize_data, fn_kwargs={'tokenizer': tokenizer, 'max_length': max_length})\n",
        "test_data = test_data.map(tokenize_data, fn_kwargs={'tokenizer': tokenizer, 'max_length': max_length})\n",
        "val_data = val_data.map(tokenize_data, fn_kwargs={'tokenizer': tokenizer, 'max_length': max_length})"
      ]
    },
    {
      "cell_type": "markdown",
      "source": [
        "## **Building the vocabulary**"
      ],
      "metadata": {
        "id": "FEYgGa_OJiH7"
      }
    },
    {
      "cell_type": "markdown",
      "source": [
        "To build the vocabulary, we use one of the most foundational encoding techniques, one hot encoding. A one-hot vector is a vector where all of the elements are 0, except one, which is 1, and dimensionality is the total number of unique words in your vocabulary, commonly denoted by $V$.\n",
        "\n",
        "Each _index_ is used to construct a _one-hot_ vector for each word. \n",
        "\n",
        "\n"
      ],
      "metadata": {
        "id": "Qg-xobWA2xbY"
      }
    },
    {
      "cell_type": "markdown",
      "source": [
        "![image.png](data:image/png;base64,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)"
      ],
      "metadata": {
        "id": "wHd5xs_KGC60"
      }
    },
    {
      "cell_type": "markdown",
      "source": [
        "\n",
        "The number of unique words in our training set is over 100,000, this will slow down the training process. There are two means of downsizing the vocabulary, 1) take the top $n$ most common words or 2) ignore words that appear less than $m$ times. We'll do 1) and only keepi the top 50,000 words.\n",
        "\n",
        "What do we do with words that appear in examples but we have cut from the vocabulary? We replace them with a special _unknown_ or `<unk>` token. For example, if the sentence was \"This film is great and I love it\" but the word \"love\" was not in the vocabulary, it would become \"This film is great and I `<unk>` it\".\n",
        "\n",
        "The following code rebuilds the vocabulary, only keeping the most common `max_vocab_size` tokens."
      ],
      "metadata": {
        "id": "Sp3JN3QqGBr3"
      }
    },
    {
      "cell_type": "code",
      "source": [
        "max_vocab_size = 50000\n",
        "special_tokens = ['<unk>', '<pad>']\n",
        "vocab = torchtext.vocab.build_vocab_from_iterator(train_data['tokens'],\n",
        "                                                  max_tokens=max_vocab_size,\n",
        "                                                  specials=special_tokens)\n",
        "\n",
        "\n",
        "unk_index = vocab['<unk>']\n",
        "pad_index = vocab['<pad>']\n",
        "vocab.set_default_index(unk_index)"
      ],
      "metadata": {
        "id": "3_VnnnoPuq3j"
      },
      "execution_count": null,
      "outputs": []
    },
    {
      "cell_type": "markdown",
      "source": [
        "We do not build a vocabulary for the validation or test sets because we want them to be unbiased evaluators of the model. "
      ],
      "metadata": {
        "id": "RhzHUkLhGdNc"
      }
    },
    {
      "cell_type": "code",
      "source": [
        "print(f\"Unique tokens in the vocabulary: {len(vocab)}\")"
      ],
      "metadata": {
        "colab": {
          "base_uri": "https://localhost:8080/"
        },
        "id": "JZShoAc-G4xm",
        "outputId": "056e9265-16ff-48fe-f6f5-b413c1ba417f"
      },
      "execution_count": null,
      "outputs": [
        {
          "output_type": "stream",
          "name": "stdout",
          "text": [
            "Unique tokens in the vocabulary: 50000\n"
          ]
        }
      ]
    },
    {
      "cell_type": "markdown",
      "source": [
        "When we feed sentences into our model, we feed a batch of them at a time, i.e. more than one at a time, and all sentences in the batch need to be the same size. Thus, to ensure each sentence in the batch is the same size, any shorter than the longest within the batch are padded."
      ],
      "metadata": {
        "id": "ZiqmKOzcHSM_"
      }
    },
    {
      "cell_type": "markdown",
      "source": [
        "![image.png](data:image/png;base64,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)"
      ],
      "metadata": {
        "id": "cU4XQ-loHVy7"
      }
    },
    {
      "cell_type": "code",
      "source": [
        "print(f\"Index of the word 'review' : {vocab['review']}\")"
      ],
      "metadata": {
        "colab": {
          "base_uri": "https://localhost:8080/"
        },
        "id": "0I1mVUCHHXkc",
        "outputId": "79f2f972-b79d-4b0d-8fce-9a9d2f8ce1f3"
      },
      "execution_count": null,
      "outputs": [
        {
          "output_type": "stream",
          "name": "stdout",
          "text": [
            "Index of the word 'review' : 664\n"
          ]
        }
      ]
    },
    {
      "cell_type": "code",
      "source": [
        "vocab.get_itos()"
      ],
      "metadata": {
        "colab": {
          "base_uri": "https://localhost:8080/"
        },
        "id": "lm-O3LUqIhyk",
        "outputId": "11440e57-8dde-4592-f6a8-3a5d186f90ed"
      },
      "execution_count": null,
      "outputs": [
        {
          "output_type": "execute_result",
          "data": {
            "text/plain": [
              "['<unk>',\n",
              " '<pad>',\n",
              " 'the',\n",
              " '.',\n",
              " ',',\n",
              " 'a',\n",
              " 'and',\n",
              " 'of',\n",
              " 'to',\n",
              " \"'\",\n",
              " 'is',\n",
              " 'it',\n",
              " 'i',\n",
              " 'in',\n",
              " 'this',\n",
              " 'that',\n",
              " 's',\n",
              " 'was',\n",
              " 'movie',\n",
              " 'as',\n",
              " 'with',\n",
              " 'for',\n",
              " 'but',\n",
              " 'film',\n",
              " ')',\n",
              " '(',\n",
              " 'you',\n",
              " 't',\n",
              " 'on',\n",
              " 'not',\n",
              " 'are',\n",
              " 'have',\n",
              " 'his',\n",
              " 'he',\n",
              " 'one',\n",
              " 'be',\n",
              " '!',\n",
              " 'all',\n",
              " 'at',\n",
              " 'by',\n",
              " 'they',\n",
              " 'an',\n",
              " 'who',\n",
              " 'so',\n",
              " 'from',\n",
              " 'like',\n",
              " 'there',\n",
              " 'about',\n",
              " 'just',\n",
              " 'or',\n",
              " 'her',\n",
              " 'has',\n",
              " 'if',\n",
              " 'out',\n",
              " 'what',\n",
              " 'some',\n",
              " '?',\n",
              " 'good',\n",
              " 'very',\n",
              " 'can',\n",
              " 'when',\n",
              " 'my',\n",
              " 'more',\n",
              " 'she',\n",
              " 'story',\n",
              " 'time',\n",
              " 'no',\n",
              " 'even',\n",
              " 'would',\n",
              " 'really',\n",
              " 'up',\n",
              " 'only',\n",
              " 'had',\n",
              " 'which',\n",
              " 'see',\n",
              " 'me',\n",
              " 'were',\n",
              " 'their',\n",
              " 'we',\n",
              " 'bad',\n",
              " 'first',\n",
              " 'well',\n",
              " 'people',\n",
              " '-',\n",
              " 'great',\n",
              " 'much',\n",
              " 'than',\n",
              " 'get',\n",
              " 'been',\n",
              " 'other',\n",
              " 'because',\n",
              " 'don',\n",
              " 'do',\n",
              " 'how',\n",
              " 'most',\n",
              " 'will',\n",
              " 'into',\n",
              " 'movies',\n",
              " 'also',\n",
              " 'made',\n",
              " 'its',\n",
              " 'could',\n",
              " 'way',\n",
              " 'after',\n",
              " 'then',\n",
              " 'make',\n",
              " 'think',\n",
              " 'him',\n",
              " 'them',\n",
              " 'too',\n",
              " 'any',\n",
              " 'seen',\n",
              " 'watch',\n",
              " 'characters',\n",
              " 'plot',\n",
              " 'films',\n",
              " 'many',\n",
              " 'acting',\n",
              " 'two',\n",
              " 'love',\n",
              " 'show',\n",
              " 'best',\n",
              " 'character',\n",
              " 'being',\n",
              " 'did',\n",
              " 'little',\n",
              " 'ever',\n",
              " 'never',\n",
              " 'life',\n",
              " 'where',\n",
              " 'know',\n",
              " 'better',\n",
              " 'over',\n",
              " 'does',\n",
              " 'your',\n",
              " 'say',\n",
              " 'here',\n",
              " 'man',\n",
              " 'off',\n",
              " 've',\n",
              " 'still',\n",
              " 'why',\n",
              " 'watching',\n",
              " 'these',\n",
              " 'end',\n",
              " 'while',\n",
              " 'such',\n",
              " 'm',\n",
              " 'scenes',\n",
              " 'should',\n",
              " 'go',\n",
              " 'through',\n",
              " 'years',\n",
              " 'actors',\n",
              " 'funny',\n",
              " 'something',\n",
              " 'scene',\n",
              " 'back',\n",
              " 'those',\n",
              " 'now',\n",
              " 'real',\n",
              " 'thing',\n",
              " 'didn',\n",
              " 'new',\n",
              " 'though',\n",
              " 'actually',\n",
              " 'nothing',\n",
              " 'old',\n",
              " 'before',\n",
              " 'doesn',\n",
              " 'work',\n",
              " 'every',\n",
              " 'another',\n",
              " 'makes',\n",
              " 'director',\n",
              " 'few',\n",
              " 'find',\n",
              " 'going',\n",
              " 'lot',\n",
              " 'same',\n",
              " 'look',\n",
              " 'cast',\n",
              " 'got',\n",
              " 'young',\n",
              " 'part',\n",
              " 'world',\n",
              " 'pretty',\n",
              " 'thought',\n",
              " 'again',\n",
              " 'saw',\n",
              " 'quite',\n",
              " 'however',\n",
              " 'original',\n",
              " 'want',\n",
              " 'around',\n",
              " 'things',\n",
              " 'seems',\n",
              " 'series',\n",
              " 'big',\n",
              " 'us',\n",
              " 're',\n",
              " 'comedy',\n",
              " 'horror',\n",
              " 'fact',\n",
              " 'take',\n",
              " 'family',\n",
              " 'times',\n",
              " 'down',\n",
              " 'interesting',\n",
              " 'give',\n",
              " 'long',\n",
              " 'both',\n",
              " 'must',\n",
              " 'between',\n",
              " 'enough',\n",
              " 'always',\n",
              " 'without',\n",
              " 'am',\n",
              " 'come',\n",
              " 'gets',\n",
              " 'own',\n",
              " 'worst',\n",
              " 'script',\n",
              " 'almost',\n",
              " 'right',\n",
              " 'since',\n",
              " 'guy',\n",
              " 'action',\n",
              " 'minutes',\n",
              " 'music',\n",
              " 'whole',\n",
              " 'role',\n",
              " 'may',\n",
              " 'bit',\n",
              " 'isn',\n",
              " '&',\n",
              " 'anything',\n",
              " 'done',\n",
              " 'least',\n",
              " 'point',\n",
              " 'last',\n",
              " 'girl',\n",
              " 'tv',\n",
              " 'far',\n",
              " 'performance',\n",
              " 'probably',\n",
              " 'feel',\n",
              " 'll',\n",
              " 'found',\n",
              " 'd',\n",
              " 'woman',\n",
              " 'might',\n",
              " 'kind',\n",
              " 'fun',\n",
              " 'anyone',\n",
              " 'watched',\n",
              " 'sure',\n",
              " 'away',\n",
              " 'making',\n",
              " 'day',\n",
              " 'especially',\n",
              " 'believe',\n",
              " 'yet',\n",
              " 'rather',\n",
              " 'book',\n",
              " '2',\n",
              " 'played',\n",
              " 'each',\n",
              " 'hard',\n",
              " 'although',\n",
              " 'different',\n",
              " 'having',\n",
              " 'wasn',\n",
              " 'trying',\n",
              " 'set',\n",
              " 'dvd',\n",
              " 'our',\n",
              " 'put',\n",
              " 'let',\n",
              " 'reason',\n",
              " 'main',\n",
              " 'comes',\n",
              " 'money',\n",
              " 'goes',\n",
              " 'three',\n",
              " 'someone',\n",
              " 'course',\n",
              " 'job',\n",
              " 'looking',\n",
              " 'looks',\n",
              " 'shows',\n",
              " 'actor',\n",
              " 'everyone',\n",
              " 'once',\n",
              " 'true',\n",
              " 'john',\n",
              " 'everything',\n",
              " 'maybe',\n",
              " 'together',\n",
              " 'place',\n",
              " 'read',\n",
              " 'excellent',\n",
              " 'beautiful',\n",
              " 'seeing',\n",
              " 'plays',\n",
              " 'effects',\n",
              " 'night',\n",
              " 'play',\n",
              " 'worth',\n",
              " '10',\n",
              " 'said',\n",
              " 'screen',\n",
              " 'sense',\n",
              " 'special',\n",
              " 'instead',\n",
              " 'idea',\n",
              " 'high',\n",
              " 'takes',\n",
              " 'fan',\n",
              " 'version',\n",
              " 'seem',\n",
              " 'american',\n",
              " 'wife',\n",
              " 'during',\n",
              " 'ending',\n",
              " 'later',\n",
              " 'year',\n",
              " 'house',\n",
              " 'father',\n",
              " 'left',\n",
              " 'audience',\n",
              " 'war',\n",
              " 'completely',\n",
              " 'wrong',\n",
              " 'black',\n",
              " 'kids',\n",
              " 'nice',\n",
              " 'poor',\n",
              " 'simply',\n",
              " 'hollywood',\n",
              " 'star',\n",
              " 'boring',\n",
              " 'remember',\n",
              " 'second',\n",
              " 'else',\n",
              " 'friends',\n",
              " 'classic',\n",
              " 'awful',\n",
              " 'himself',\n",
              " 'enjoy',\n",
              " 'home',\n",
              " 'shot',\n",
              " 'short',\n",
              " 'start',\n",
              " 'used',\n",
              " 'women',\n",
              " 'came',\n",
              " 'wonderful',\n",
              " 'try',\n",
              " 'line',\n",
              " 'school',\n",
              " 'men',\n",
              " 'video',\n",
              " 'production',\n",
              " 'given',\n",
              " 'need',\n",
              " 'stupid',\n",
              " 'until',\n",
              " 'episode',\n",
              " 'along',\n",
              " 'half',\n",
              " 'mind',\n",
              " 'less',\n",
              " 'performances',\n",
              " 'death',\n",
              " 'dead',\n",
              " 'help',\n",
              " 'terrible',\n",
              " 'either',\n",
              " 'use',\n",
              " 'rest',\n",
              " 'couple',\n",
              " 'truly',\n",
              " 'understand',\n",
              " 'tell',\n",
              " 'liked',\n",
              " 'loved',\n",
              " 'mean',\n",
              " 'next',\n",
              " 'name',\n",
              " 'recommend',\n",
              " 'early',\n",
              " 'playing',\n",
              " 'small',\n",
              " 'absolutely',\n",
              " 'full',\n",
              " 'lines',\n",
              " 'perfect',\n",
              " 'stars',\n",
              " 'waste',\n",
              " 'getting',\n",
              " 'children',\n",
              " 'written',\n",
              " 'couldn',\n",
              " 'camera',\n",
              " 'went',\n",
              " 'definitely',\n",
              " 'won',\n",
              " 'felt',\n",
              " 'title',\n",
              " 'yes',\n",
              " 'keep',\n",
              " 'boy',\n",
              " 'budget',\n",
              " 'others',\n",
              " 'person',\n",
              " 'moments',\n",
              " 'based',\n",
              " 'piece',\n",
              " '1',\n",
              " 'dialogue',\n",
              " 'worse',\n",
              " '--',\n",
              " 'case',\n",
              " 'often',\n",
              " 'top',\n",
              " 'sex',\n",
              " 'doing',\n",
              " 'itself',\n",
              " 'live',\n",
              " 'become',\n",
              " '3',\n",
              " 'entertaining',\n",
              " 'picture',\n",
              " 'lives',\n",
              " 'lost',\n",
              " 'perhaps',\n",
              " 'supposed',\n",
              " 'enjoyed',\n",
              " 'several',\n",
              " 'cinema',\n",
              " 'gives',\n",
              " 'unfortunately',\n",
              " 'drama',\n",
              " 'against',\n",
              " 'mother',\n",
              " 'entire',\n",
              " 'beginning',\n",
              " 'problem',\n",
              " 'writing',\n",
              " 'friend',\n",
              " 'style',\n",
              " 'called',\n",
              " 'human',\n",
              " 'head',\n",
              " 'laugh',\n",
              " 'direction',\n",
              " 'seemed',\n",
              " 'finally',\n",
              " 'humor',\n",
              " 'wanted',\n",
              " 'face',\n",
              " 'hope',\n",
              " 'sort',\n",
              " 'killer',\n",
              " 'already',\n",
              " 'low',\n",
              " 'amazing',\n",
              " 'lead',\n",
              " 'oh',\n",
              " 'son',\n",
              " 'mr',\n",
              " 'favorite',\n",
              " 'white',\n",
              " 'starts',\n",
              " 'flick',\n",
              " 'care',\n",
              " 'certainly',\n",
              " 'evil',\n",
              " 'dark',\n",
              " 'horrible',\n",
              " 'totally',\n",
              " 'history',\n",
              " 'michael',\n",
              " 'example',\n",
              " 'etc',\n",
              " 'past',\n",
              " 'throughout',\n",
              " 'gave',\n",
              " 'town',\n",
              " 'quality',\n",
              " 'brilliant',\n",
              " 'child',\n",
              " 'despite',\n",
              " 'myself',\n",
              " 'days',\n",
              " 'guess',\n",
              " 'today',\n",
              " 'viewer',\n",
              " 'parts',\n",
              " 'fine',\n",
              " 'wants',\n",
              " 'guys',\n",
              " 'directed',\n",
              " 'heard',\n",
              " 'kid',\n",
              " 'turn',\n",
              " 'fans',\n",
              " 'act',\n",
              " 'becomes',\n",
              " 'game',\n",
              " 'tries',\n",
              " 'sound',\n",
              " 'overall',\n",
              " 'late',\n",
              " 'works',\n",
              " 'city',\n",
              " 'soon',\n",
              " 'thinking',\n",
              " 'able',\n",
              " 'under',\n",
              " 'expect',\n",
              " 'eyes',\n",
              " 'genre',\n",
              " 'stories',\n",
              " 'behind',\n",
              " 'stuff',\n",
              " 'actress',\n",
              " 'girls',\n",
              " 'ok',\n",
              " 'car',\n",
              " 'run',\n",
              " 'art',\n",
              " 'ago',\n",
              " 'turns',\n",
              " 'cannot',\n",
              " 'close',\n",
              " 'daughter',\n",
              " 'side',\n",
              " 'heart',\n",
              " 'took',\n",
              " 'feeling',\n",
              " 'sometimes',\n",
              " 'group',\n",
              " 'decent',\n",
              " 'kill',\n",
              " '5',\n",
              " 'involved',\n",
              " 'usually',\n",
              " 'looked',\n",
              " 'age',\n",
              " 'anyway',\n",
              " 'crap',\n",
              " 'hour',\n",
              " 'roles',\n",
              " 'started',\n",
              " 'please',\n",
              " 'except',\n",
              " 'highly',\n",
              " 'god',\n",
              " 'brother',\n",
              " 'final',\n",
              " 'james',\n",
              " 'attempt',\n",
              " 'happens',\n",
              " 'murder',\n",
              " 'disappointed',\n",
              " 'obviously',\n",
              " 'simple',\n",
              " 'killed',\n",
              " 'themselves',\n",
              " 'complete',\n",
              " 'blood',\n",
              " 'fight',\n",
              " 'matter',\n",
              " 'extremely',\n",
              " 'wouldn',\n",
              " 'opinion',\n",
              " 'episodes',\n",
              " 'happen',\n",
              " 'released',\n",
              " 'jokes',\n",
              " 'hand',\n",
              " '4',\n",
              " 'chance',\n",
              " 'obvious',\n",
              " 'robert',\n",
              " 'novel',\n",
              " 'wonder',\n",
              " 'strange',\n",
              " 'told',\n",
              " 'type',\n",
              " 'hilarious',\n",
              " 'seriously',\n",
              " 'strong',\n",
              " 'cool',\n",
              " 'experience',\n",
              " 'happened',\n",
              " 'slow',\n",
              " 'annoying',\n",
              " 'stop',\n",
              " 'ridiculous',\n",
              " 'documentary',\n",
              " 'living',\n",
              " 'david',\n",
              " 'leave',\n",
              " 'coming',\n",
              " 'lack',\n",
              " 'husband',\n",
              " 'violence',\n",
              " 'yourself',\n",
              " 'scary',\n",
              " 'sad',\n",
              " 'known',\n",
              " 'serious',\n",
              " 'including',\n",
              " 'none',\n",
              " 'voice',\n",
              " 'local',\n",
              " 'musical',\n",
              " 'taken',\n",
              " 'usual',\n",
              " 'view',\n",
              " 'police',\n",
              " 'television',\n",
              " '\\x96',\n",
              " 'exactly',\n",
              " 'wish',\n",
              " 'hours',\n",
              " 'king',\n",
              " 'particularly',\n",
              " 'possible',\n",
              " 'shown',\n",
              " 'save',\n",
              " 'number',\n",
              " 'word',\n",
              " 'hell',\n",
              " 'predictable',\n",
              " 'alone',\n",
              " 'cinematography',\n",
              " 'gore',\n",
              " 'opening',\n",
              " 'across',\n",
              " 'richard',\n",
              " 'storyline',\n",
              " 'knew',\n",
              " 'george',\n",
              " 'order',\n",
              " 'huge',\n",
              " 'basically',\n",
              " 'english',\n",
              " 'interest',\n",
              " 'reality',\n",
              " 'turned',\n",
              " 'whose',\n",
              " 'country',\n",
              " 'hit',\n",
              " 'somewhat',\n",
              " 'female',\n",
              " 'running',\n",
              " 'british',\n",
              " 'earth',\n",
              " 'career',\n",
              " 'haven',\n",
              " 'review',\n",
              " 'ones',\n",
              " 'relationship',\n",
              " 'falls',\n",
              " 'mostly',\n",
              " 'comments',\n",
              " 'song',\n",
              " 'talent',\n",
              " 'call',\n",
              " 'happy',\n",
              " 'supporting',\n",
              " 'surprised',\n",
              " 'saying',\n",
              " 'silly',\n",
              " 'says',\n",
              " 'major',\n",
              " 'modern',\n",
              " 'paul',\n",
              " 'talking',\n",
              " 'moment',\n",
              " 'finds',\n",
              " 'apparently',\n",
              " 'five',\n",
              " 'problems',\n",
              " 'attention',\n",
              " 'romantic',\n",
              " 'thriller',\n",
              " 'body',\n",
              " 'due',\n",
              " 'events',\n",
              " 'taking',\n",
              " 'beyond',\n",
              " 'change',\n",
              " 'score',\n",
              " 'words',\n",
              " 'songs',\n",
              " 'hero',\n",
              " 'ends',\n",
              " 'shots',\n",
              " 'aren',\n",
              " 'writer',\n",
              " 'cut',\n",
              " 'jack',\n",
              " 'entertainment',\n",
              " 'four',\n",
              " 'future',\n",
              " 'theater',\n",
              " 'typical',\n",
              " 'bunch',\n",
              " 'light',\n",
              " 'upon',\n",
              " 'power',\n",
              " 'reviews',\n",
              " 'animation',\n",
              " 'important',\n",
              " 'sets',\n",
              " 'rating',\n",
              " 'single',\n",
              " 'york',\n",
              " 'miss',\n",
              " 'premise',\n",
              " 'needs',\n",
              " 'bring',\n",
              " 'fantastic',\n",
              " 'clearly',\n",
              " 'sequel',\n",
              " 'level',\n",
              " 'similar',\n",
              " 'cheap',\n",
              " 'rock',\n",
              " 'dull',\n",
              " 'enjoyable',\n",
              " 'middle',\n",
              " 'decided',\n",
              " 'famous',\n",
              " 'named',\n",
              " 'dialog',\n",
              " 'lady',\n",
              " 'lots',\n",
              " 'add',\n",
              " 'easily',\n",
              " 'theme',\n",
              " 'tried',\n",
              " 'begins',\n",
              " 'tale',\n",
              " 'buy',\n",
              " 'nearly',\n",
              " 'using',\n",
              " 'ways',\n",
              " 'disney',\n",
              " 'sister',\n",
              " 'french',\n",
              " 'parents',\n",
              " 'kept',\n",
              " 'comic',\n",
              " 'knows',\n",
              " 'weak',\n",
              " 'effort',\n",
              " 'fast',\n",
              " 'ten',\n",
              " 'filmed',\n",
              " 'season',\n",
              " 'tom',\n",
              " 'peter',\n",
              " 'tells',\n",
              " 'lee',\n",
              " 'sorry',\n",
              " 'expected',\n",
              " 'class',\n",
              " 'message',\n",
              " 'talk',\n",
              " 'avoid',\n",
              " 'within',\n",
              " 'elements',\n",
              " 'reading',\n",
              " 'gone',\n",
              " 'mystery',\n",
              " 'o',\n",
              " 'oscar',\n",
              " 'room',\n",
              " 'team',\n",
              " 'actual',\n",
              " 'imdb',\n",
              " 'sit',\n",
              " 'giving',\n",
              " 'mention',\n",
              " 'rent',\n",
              " 'greatest',\n",
              " 'editing',\n",
              " 'points',\n",
              " 'b',\n",
              " 'showing',\n",
              " 'lame',\n",
              " 'follow',\n",
              " 'easy',\n",
              " 'okay',\n",
              " 'hate',\n",
              " 'above',\n",
              " 'moving',\n",
              " 'realistic',\n",
              " 'became',\n",
              " 'feature',\n",
              " 'poorly',\n",
              " 'release',\n",
              " 'superb',\n",
              " 'viewers',\n",
              " 'fall',\n",
              " 'imagine',\n",
              " 'whether',\n",
              " 'average',\n",
              " 'viewing',\n",
              " 'period',\n",
              " 'soundtrack',\n",
              " 'believable',\n",
              " 'dance',\n",
              " 'general',\n",
              " 'leads',\n",
              " 'near',\n",
              " 'surprise',\n",
              " 'material',\n",
              " 'america',\n",
              " 'comment',\n",
              " 'stay',\n",
              " 'appears',\n",
              " 'among',\n",
              " 'straight',\n",
              " 'doubt',\n",
              " 'eye',\n",
              " 'screenplay',\n",
              " 'space',\n",
              " 'suspense',\n",
              " 'certain',\n",
              " 'check',\n",
              " 'de',\n",
              " 'possibly',\n",
              " 'difficult',\n",
              " 'move',\n",
              " 'red',\n",
              " 'dr',\n",
              " 'form',\n",
              " 'figure',\n",
              " 'somehow',\n",
              " 'herself',\n",
              " 'atmosphere',\n",
              " 'wait',\n",
              " 'brought',\n",
              " 'crime',\n",
              " 'subject',\n",
              " 'clear',\n",
              " 'sequence',\n",
              " 'working',\n",
              " 'admit',\n",
              " 'feels',\n",
              " 'third',\n",
              " 'begin',\n",
              " 'meets',\n",
              " 'remake',\n",
              " 'hear',\n",
              " 'directors',\n",
              " 'nor',\n",
              " 'street',\n",
              " 'weird',\n",
              " 'meet',\n",
              " 'romance',\n",
              " 'unless',\n",
              " 'bill',\n",
              " 'cheesy',\n",
              " 'directing',\n",
              " 'learn',\n",
              " 'means',\n",
              " 'laughs',\n",
              " 'realize',\n",
              " 'sexual',\n",
              " 'boys',\n",
              " 'badly',\n",
              " 'deal',\n",
              " 'write',\n",
              " 'particular',\n",
              " 'development',\n",
              " 'footage',\n",
              " 'recently',\n",
              " 'zombie',\n",
              " 'forward',\n",
              " 'minute',\n",
              " 'previous',\n",
              " 'truth',\n",
              " 'sounds',\n",
              " 'stand',\n",
              " 'killing',\n",
              " 'mess',\n",
              " 'die',\n",
              " 'expecting',\n",
              " 'joe',\n",
              " 'acted',\n",
              " 'question',\n",
              " 'result',\n",
              " 'society',\n",
              " 'christmas',\n",
              " 'dog',\n",
              " 'plus',\n",
              " 'shame',\n",
              " 'baby',\n",
              " 'forced',\n",
              " 'hot',\n",
              " 'sequences',\n",
              " 'keeps',\n",
              " 'leaves',\n",
              " 'unique',\n",
              " 'whatever',\n",
              " 'apart',\n",
              " 'joke',\n",
              " 'nature',\n",
              " 'total',\n",
              " 'japanese',\n",
              " 'stage',\n",
              " 'william',\n",
              " 'eventually',\n",
              " 'casting',\n",
              " 'older',\n",
              " 'crazy',\n",
              " 'cute',\n",
              " 'interested',\n",
              " 'masterpiece',\n",
              " 'talented',\n",
              " 'male',\n",
              " 'potential',\n",
              " 'ask',\n",
              " 'copy',\n",
              " 'indeed',\n",
              " 'portrayed',\n",
              " '20',\n",
              " 'forget',\n",
              " 'whom',\n",
              " 'business',\n",
              " 'reasons',\n",
              " 'writers',\n",
              " 'credits',\n",
              " 'quickly',\n",
              " 'scott',\n",
              " 'monster',\n",
              " 'beauty',\n",
              " 'box',\n",
              " 'personal',\n",
              " 'girlfriend',\n",
              " 'success',\n",
              " 'ben',\n",
              " 'emotional',\n",
              " 'incredibly',\n",
              " 'married',\n",
              " 'plenty',\n",
              " 'free',\n",
              " 'laughing',\n",
              " 'otherwise',\n",
              " 'agree',\n",
              " 'doctor',\n",
              " 'fails',\n",
              " 'brings',\n",
              " 'era',\n",
              " 'setting',\n",
              " 'perfectly',\n",
              " 'situation',\n",
              " '30',\n",
              " 'dumb',\n",
              " 'hardly',\n",
              " 'popular',\n",
              " 'needed',\n",
              " 'nudity',\n",
              " 'secret',\n",
              " 'flat',\n",
              " 'note',\n",
              " 'following',\n",
              " 'pay',\n",
              " 'deep',\n",
              " 'dramatic',\n",
              " 'fantasy',\n",
              " 'missing',\n",
              " 'plain',\n",
              " 'worked',\n",
              " 'earlier',\n",
              " 'gay',\n",
              " 'mark',\n",
              " 'unlike',\n",
              " 'caught',\n",
              " 'features',\n",
              " 'ideas',\n",
              " 'return',\n",
              " 'e',\n",
              " 'fairly',\n",
              " 'rich',\n",
              " 'wrote',\n",
              " 'create',\n",
              " 'incredible',\n",
              " 'missed',\n",
              " 'background',\n",
              " 'break',\n",
              " 'creepy',\n",
              " ...]"
            ]
          },
          "metadata": {},
          "execution_count": 15
        }
      ]
    },
    {
      "cell_type": "markdown",
      "source": [
        "No we convert tokens into numerical format using the indexes of these tokens in the vocabulary."
      ],
      "metadata": {
        "id": "yhr3AY7nJH44"
      }
    },
    {
      "cell_type": "code",
      "source": [
        "def vectorise_text(example, vocab):\n",
        "    ids = [vocab[token] for token in example['tokens']]\n",
        "    return {'ids': ids}\n",
        "\n",
        "train_data = train_data.map(vectorise_text, fn_kwargs={'vocab': vocab})\n",
        "valid_data = val_data.map(vectorise_text, fn_kwargs={'vocab': vocab})\n",
        "test_data = test_data.map(vectorise_text, fn_kwargs={'vocab': vocab})"
      ],
      "metadata": {
        "colab": {
          "base_uri": "https://localhost:8080/",
          "height": 113,
          "referenced_widgets": [
            "8818599bffd54f5daf6338d891c211f8",
            "18df2cef4f9e471c901655610b742c48",
            "5b06c958c6854eb2906cc697acf49fd2",
            "e58dc97821824015931143dfc542c151",
            "027badaf2073439d8d55a170631d2db2",
            "bd7fde6e2f514160ba5a5c4bef7417d5",
            "50bf4f47984a40e8b096e0d65f077232",
            "ba488fb024ed4ef48d5214e03606f2cd",
            "666b9b3371d84183ba55859f58a5488b",
            "51aba72901754fdd82d46386e63db936",
            "082d27733c0f4f8b95617f1388e76b95",
            "16a9dfd0341e40af925127af02886efc",
            "7ec39ed6f44b44e8b2beb9dfd65b28d9",
            "4063944287054692b889aa9a4d857703",
            "134f75413e864aef9b974307590aaf72",
            "f8d9073a3db146ffa5a393dee86b2326",
            "5119dd0eac6c4d48960ac7352efad4ec",
            "b7ee9944c0e04786b6ef0dea09e408fb",
            "b310681938544dc78e7d9f87811fa1fa",
            "c83a3dd092bc414a870bdb663f8c63e1",
            "110b272fad764f40916975012a30ebcc",
            "cd838b37130a4ec290c79dccc825596c",
            "e050389563de429ea4df80667a183179",
            "8a6668e2b3984464887d6d39c4bbb686",
            "c0305ec973104d31aba3eb87e16b12c3",
            "9cd993329ac44d31ba82d9030da03309",
            "d7ec6bc7700949638c2ae2c9f4ef890f",
            "f59cb6fabd0a4cdfa4a7e79f6f9073d9",
            "db3b5cca7fc04a5e9f7129456f244d9c",
            "61cd5168daf145d4bf50d8c10ae564da",
            "b7b7e7caab6d41cba171dfe5792e9fc4",
            "81d9b0b8c7af4311a3a06e5b3dcd4d3c",
            "0875b2c5b2184950bfaa6b67c054fbd4"
          ]
        },
        "id": "tWULs6k-uwp6",
        "outputId": "17747fde-662e-4cca-8e21-319b9c085ece"
      },
      "execution_count": null,
      "outputs": [
        {
          "output_type": "display_data",
          "data": {
            "text/plain": [
              "  0%|          | 0/20000 [00:00<?, ?ex/s]"
            ],
            "application/vnd.jupyter.widget-view+json": {
              "version_major": 2,
              "version_minor": 0,
              "model_id": "8818599bffd54f5daf6338d891c211f8"
            }
          },
          "metadata": {}
        },
        {
          "output_type": "display_data",
          "data": {
            "text/plain": [
              "  0%|          | 0/5000 [00:00<?, ?ex/s]"
            ],
            "application/vnd.jupyter.widget-view+json": {
              "version_major": 2,
              "version_minor": 0,
              "model_id": "16a9dfd0341e40af925127af02886efc"
            }
          },
          "metadata": {}
        },
        {
          "output_type": "display_data",
          "data": {
            "text/plain": [
              "  0%|          | 0/25000 [00:00<?, ?ex/s]"
            ],
            "application/vnd.jupyter.widget-view+json": {
              "version_major": 2,
              "version_minor": 0,
              "model_id": "e050389563de429ea4df80667a183179"
            }
          },
          "metadata": {}
        }
      ]
    },
    {
      "cell_type": "markdown",
      "source": [
        "Let's filter only  the ids and the labels from the above data. "
      ],
      "metadata": {
        "id": "Z6T58RmNJpPD"
      }
    },
    {
      "cell_type": "code",
      "source": [
        "train_data = train_data.with_format(type='torch', columns=['ids', 'label'])\n",
        "valid_data = valid_data.with_format(type='torch', columns=['ids', 'label'])\n",
        "test_data = test_data.with_format(type='torch', columns=['ids', 'label'])"
      ],
      "metadata": {
        "id": "NGyObzmqIR1y"
      },
      "execution_count": null,
      "outputs": []
    },
    {
      "cell_type": "markdown",
      "source": [
        "Let's check the first training dataset vector:"
      ],
      "metadata": {
        "id": "QCeOuO7XJXpc"
      }
    },
    {
      "cell_type": "code",
      "source": [
        "train_data[0]"
      ],
      "metadata": {
        "colab": {
          "base_uri": "https://localhost:8080/"
        },
        "id": "tw2MZZE8irMV",
        "outputId": "af38886a-9b7a-40c8-c595-9c3a7028cd91"
      },
      "execution_count": null,
      "outputs": [
        {
          "output_type": "execute_result",
          "data": {
            "text/plain": [
              "{'label': tensor(1),\n",
              " 'ids': tensor([  116,   716,    12,     9,   139,   300,  2861,    15,    94,    82,\n",
              "          2232,     8,    45,   184,    34,   131,    86,   184,   118,     3,\n",
              "            12,   246,   626,     2,  2342,     3,   184,    34,   266,   194,\n",
              "             5,   233,    85,    20,   273,     8,   176,   270,   752,     7,\n",
              "           795,  2477,  8686,     9,    16,  1811,   151,   270,  2004,     7,\n",
              "            23,  1974,     4,   270,  1885,     4,     6,  2724,   157,     6,\n",
              "          2728,   213,    41,  2627,     6,     2,  6491,  2529,     3,    21,\n",
              "             2,    94,   184,    11,    17,  8302, 10853,    22,   657,  4100,\n",
              "             3,    13,   184,   118,     4,  2477,  3778,  8358,     4,     6,\n",
              "           369,    20,  2566, 23495,  1633,     4,     2,  2371,     6,     2,\n",
              "          2503,  1385,     3,   779,    30,     2,     0,  3190,     6,  9842,\n",
              "           213, 21963,     4,     2,   602,  1993,     6,     2,     0,     3,\n",
              "           314,     4,   159,    78,    30,  1230,  3032,    20,  2477,    13,\n",
              "             5, 48523,     4, 48483,  3938,   129,     2,    71,    82,    42,\n",
              "          1794,    30, 18447,   109,   243,    20,    77,   434,    21,   236,\n",
              "            22,  3861,     8,    35,    41,  6276,     3,    12, 36642,    15,\n",
              "            11,     9,    16,     2,   479,   506,     7,  2477,     9,    16,\n",
              "           128,    15,    10,     2,   160,   279,   141,    94,    82,  2838,\n",
              "           184,    34,     8,   184,   118,     3,     2,   696,    13, 16071,\n",
              "          1633,    98, 24891,     4,    21,    75,    38,   238,     4,    15,\n",
              "          2477,   184,    34,     6,  2477,   184,   118,    30,     4,    13,\n",
              "           203,     4,     2,   343,   118,  1422,     7,     5,   284,   508,\n",
              "          2503,  6760,    39,  6550, 11824,     3,  6550, 11824,    10,  2477,\n",
              "             9,    16, 11779,    25,    49,    62,  5422,     4, 46858,    24,\n",
              "            13, 13010,     4,  2477,   184,    34,    10,    32,  1203, 14150,\n",
              "            13,  4095,     4,     6,  2477,   184])}"
            ]
          },
          "metadata": {},
          "execution_count": 24
        }
      ]
    },
    {
      "cell_type": "markdown",
      "source": [
        "## **Building the model**"
      ],
      "metadata": {
        "id": "eeQLJPewJ3Qz"
      }
    },
    {
      "cell_type": "markdown",
      "source": [
        "### **LSTM Architecture**\n",
        "\n",
        "We'll be using Long Short-Term Memory (LSTM), which overcomes the limitations of Standard RNNs - [vanishing gradient problem](https://en.wikipedia.org/wiki/Vanishing_gradient_problem). LSTMs overcome this by having an extra recurrent state called a _cell_, $c$ - which can be thought of as the \"memory\" of the LSTM - and the use of multiple _gates_ which control the flow of information into and out of memory. For more information, [read this article](https://colah.github.io/posts/2015-08-Understanding-LSTMs/). We can simply think of the LSTM as a function of $x_t$, $h_t$ and $c_t$, instead of just $x_t$ and $h_t$.\n",
        "\n",
        "$$(h_t, c_t) = \\text{LSTM}(x_t, h_t, c_t)$$\n",
        "\n",
        "Thus, the model using an LSTM looks something like the following(with the embedding layers omitted):\n"
      ],
      "metadata": {
        "id": "1YvX-e79KJ-m"
      }
    },
    {
      "cell_type": "markdown",
      "source": [
        "![image.png](data:image/png;base64,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)"
      ],
      "metadata": {
        "id": "HriQJ88bKLdc"
      }
    },
    {
      "cell_type": "markdown",
      "source": [
        "The initial cell state, $c_0$, like the initial hidden state is initialized to a tensor of all zeros. The sentiment classification is  made using the final hidden state, not the final cell state, i.e. $\\hat{y}=f(h_T)$.\n",
        "\n",
        "### **Bidirectional RNN**\n",
        "\n",
        "The concept behind a bidirectional RNN is simple. As well as having an RNN processing the words in the sentence from the first to the last (a forward RNN), we have a second RNN processing the words in the sentence from the **last to the first** (a backward RNN). At time step $t$, the forward RNN is processing word $x_t$, and the backward RNN is processing word $x_{T-t+1}$. \n",
        "\n",
        "In PyTorch, the hidden state (and cell state) tensors returned by the forward and backward RNNs are stacked on top of each other in a single tensor. \n",
        "\n",
        "We make our sentiment prediction using a concatenation of the last hidden state from the forward RNN (obtained from final word of the sentence), $h_T^\\rightarrow$, and the last hidden state from the backward RNN (obtained from the first word of the sentence), $h_T^\\leftarrow$, i.e. $\\hat{y}=f(h_T^\\rightarrow, h_T^\\leftarrow)$   \n",
        "\n",
        "The image below shows a bi-directional RNN, with the forward RNN in orange, the backward RNN in green and the linear layer in silver. "
      ],
      "metadata": {
        "id": "C6XYwFQ6KOF8"
      }
    },
    {
      "cell_type": "markdown",
      "source": [
        "![image.png](data:image/png;base64,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)"
      ],
      "metadata": {
        "id": "S8TB5O9DKTJk"
      }
    },
    {
      "cell_type": "markdown",
      "source": [
        "### **Multi-layer RNN**\n",
        "\n",
        "Multi-layer RNNs (also called *deep RNNs*) are another extension, where we  add additional RNNs on top of the initial standard RNN, another *layer*. The hidden state output by the first (bottom) RNN at time-step $t$ will be the input to the RNN above it at time step $t$. The prediction is then made from the final hidden state of the final (highest) layer.\n",
        "\n",
        "The image below shows a multi-layer unidirectional RNN, where the layer number is given as a superscript. Also note that each layer needs their own initial hidden state, $h_0^L$."
      ],
      "metadata": {
        "id": "TClp1paMKdOn"
      }
    },
    {
      "cell_type": "markdown",
      "source": [
        "![image.png](data:image/png;base64,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)"
      ],
      "metadata": {
        "id": "jZTj6tONKh4F"
      }
    },
    {
      "cell_type": "markdown",
      "source": [
        "### **Regularization**\n",
        "\n",
        "More complex models like those based on deep learning are likley to overfit (i.e. memorize the training data, causing  a low training error but high validation/testing error, poor generalization to new data). \n",
        "\n",
        "One method to resolve overfitting is to use regularization. More specifically, we use a method of regularization called *dropout*. Dropout works by randomly *dropping out* (setting to 0) neurons in a layer during a forward pass. The probability that each neuron is dropped out is set by a hyperparameter and each neuron with dropout applied is considered independently. One theory about why dropout works is that a model with parameters dropped out can be seen as a \"weaker\" (less parameters) model. The predictions from all these \"weaker\" models (one for each forward pass) get averaged together withinin the parameters of the model. Thus, your one model can be thought of as an ensemble of weaker models, none of which are over-parameterized and thus should not overfit.\n",
        "\n",
        "### **Implementation Details**\n",
        "\n",
        "Another addition to this model is that we are not going to learn the embedding for the `<pad>` token. This is because we want to  tell our model that padding tokens are irrelevant to the sentiment of a sentence. This means the embedding for the pad token will remain at what it is initialized to (we initialize it to all zeros later). We do this by passing the index of our pad token as the `padding_idx` argument to the `nn.Embedding` layer.\n",
        "\n",
        "To use an LSTM instead of the standard RNN, we use `nn.LSTM` instead of `nn.RNN`. Also, note that the LSTM returns the `output` and a tuple of the final `hidden` state and the final `cell` state, whereas the standard RNN only returned the `output` and final `hidden` state. \n",
        "\n",
        "\n",
        "Dropout is implemented by initializing an `nn.Dropout` layer (the argument is the probability of dropping out each neuron) and using it within the `forward` method after each layer we want to apply dropout to.\n",
        "\n",
        "\n",
        "The final hidden state, `hidden`, has a shape of _**[num layers * num directions, batch size, hid dim]**_. These are ordered: **[forward_layer_0, backward_layer_0, forward_layer_1, backward_layer 1, ..., forward_layer_n, backward_layer n]**. As we want the final (top) layer forward and backward hidden states, we get the top two hidden layers from the first dimension, `hidden[-2,:,:]` and `hidden[-1,:,:]`, and concatenate them together before passing them to the linear layer (after applying dropout). "
      ],
      "metadata": {
        "id": "gmIg2KhLKkre"
      }
    },
    {
      "cell_type": "code",
      "execution_count": null,
      "metadata": {
        "id": "RrDejprl0Ipq"
      },
      "outputs": [],
      "source": [
        "class LSTM(nn.Module):\n",
        "    def __init__(self, vocab_size, embedding_dim, hidden_dim, output_dim, n_layers,\n",
        "                 dropout_rate, pad_index):\n",
        "        super().__init__()\n",
        "        self.embedding = nn.Embedding(vocab_size, embedding_dim, padding_idx=pad_index)\n",
        "        self.lstm = nn.LSTM(embedding_dim, hidden_dim, n_layers,\n",
        "                            dropout=dropout_rate, batch_first=True)\n",
        "        self.fc = nn.Linear(hidden_dim, output_dim)\n",
        "        self.dropout = nn.Dropout(dropout_rate)\n",
        "        \n",
        "    def forward(self, ids):\n",
        "        embeddings = self.embedding(ids)\n",
        "        out, _ = self.lstm(embeddings)\n",
        "        out = torch.mean(out, 1)\n",
        "        out = self.dropout(out)\n",
        "        out = self.fc(out)\n",
        "        return out"
      ]
    },
    {
      "cell_type": "markdown",
      "source": [
        "Like before, we'll create an instance of our LSTM class, with the new parameters and arguments for the number of layers, bidirectionality and dropout probability.\n",
        "\n",
        "The embedding dimension is the size of the dense word vectors. This is usually around 50-250 dimensions, but depends on the size of the vocabulary. To ensure the pre-trained vectors can be loaded into the model, the `EMBEDDING_DIM` must be equal to that of the pre-trained GloVe vectors that going to loaded next.\n",
        "\n",
        "The hidden dimension is the size of the hidden states. This is usually around 100-500 dimensions, but also depends on factors such as on the vocabulary size, the size of the dense vectors and the complexity of the task.\n",
        "\n",
        "We get our pad token index from the vocabulary, getting the actual string representing the pad token from the field's `pad_token` attribute, which is `<pad>` by default.\n",
        "\n",
        "The output dimension is usually the number of classes, however in the case of only 2 classes the output value is between 0 and 1 and thus can be 1-dimensional, i.e. a single scalar real number."
      ],
      "metadata": {
        "id": "NRw3fPHUPsEF"
      }
    },
    {
      "cell_type": "code",
      "execution_count": null,
      "metadata": {
        "id": "jWL5jkP30Ipr"
      },
      "outputs": [],
      "source": [
        "vocab_size = len(vocab)\n",
        "embedding_dim = 300\n",
        "hidden_dim = 256\n",
        "output_dim = 1 # Because this is a binary classification task\n",
        "dropout_rate = 0.3\n",
        "n_layers = 2\n",
        "\n",
        "model = LSTM(vocab_size, embedding_dim, hidden_dim, output_dim, n_layers, dropout_rate, \n",
        "             pad_index)"
      ]
    },
    {
      "cell_type": "markdown",
      "source": [
        "Let's print out the number of parameters in our model. No we have almost twice as many parameters as before. "
      ],
      "metadata": {
        "id": "bT0KkjY-Pyel"
      }
    },
    {
      "cell_type": "code",
      "execution_count": null,
      "metadata": {
        "colab": {
          "base_uri": "https://localhost:8080/"
        },
        "id": "Lp6pELHF0Ipr",
        "outputId": "379117ff-9a97-4710-fc67-dd59675b450a"
      },
      "outputs": [
        {
          "output_type": "stream",
          "name": "stdout",
          "text": [
            "The model has 16,097,985 trainable parameters\n"
          ]
        }
      ],
      "source": [
        "def count_parameters(model):\n",
        "    return sum(p.numel() for p in model.parameters() if p.requires_grad)\n",
        "\n",
        "print(f'The model has {count_parameters(model):,} trainable parameters')"
      ]
    },
    {
      "cell_type": "markdown",
      "source": [
        "The final addition is copying the pre-trained word embeddings.\n",
        "\n",
        "We are going to load glove word emebeddings into the `embedding` layer of our model.\n",
        "\n",
        "We retrieve the embeddings from the field's vocab, and check they're the correct size, _**[vocab size, embedding dim]**_ "
      ],
      "metadata": {
        "id": "TD0H55IaQF4E"
      }
    },
    {
      "cell_type": "code",
      "source": [
        "vectors = torchtext.vocab.GloVe(name='6B', dim=300)\n",
        "pretrained_embedding = vectors.get_vecs_by_tokens(vocab.get_itos())\n",
        "model.embedding.weight.data = pretrained_embedding"
      ],
      "metadata": {
        "id": "2NKy5kOGX8O0",
        "colab": {
          "base_uri": "https://localhost:8080/"
        },
        "outputId": "60876a64-9126-4ea0-d1a9-1de7e69e9e0c"
      },
      "execution_count": null,
      "outputs": [
        {
          "output_type": "stream",
          "name": "stderr",
          "text": [
            ".vector_cache/glove.6B.zip: 862MB [02:40, 5.37MB/s]                           \n",
            "100%|█████████▉| 399999/400000 [00:41<00:00, 9631.57it/s]\n"
          ]
        }
      ]
    },
    {
      "cell_type": "markdown",
      "source": [
        "## **Train the model**"
      ],
      "metadata": {
        "id": "EaiIjeJHQK60"
      }
    },
    {
      "cell_type": "markdown",
      "source": [
        "First step is to build an optimizer, the algorithm we use to update the parameters of the module. Here, we'll use Adam optimizer. The first argument is the parameters will be updated by the optimizer, the second is the learning rate, i.e. how much we'll change the parameters by when we do a parameter update."
      ],
      "metadata": {
        "id": "eDeYfuBURzo3"
      }
    },
    {
      "cell_type": "code",
      "source": [
        "lr = 5e-5\n",
        "optimizer = optim.Adam(model.parameters(), lr=lr)"
      ],
      "metadata": {
        "id": "TUu8nVa0QbKd"
      },
      "execution_count": null,
      "outputs": []
    },
    {
      "cell_type": "markdown",
      "source": [
        "Next, we define our loss function. The loss function here is _binary cross entropy with logits_. \n",
        "\n",
        "Our model currently outputs an unbound real number. As our labels are either 0 or 1, we want to restrict the classification to a number between 0 and 1. We do this using the _sigmoid_ or _logit_ functions. \n",
        "\n",
        "We then use bound scalar to calculate the loss using binary cross entropy. \n",
        "\n",
        "The `BCEWithLogitsLoss` criterion carries out both the sigmoid and the binary cross entropy steps."
      ],
      "metadata": {
        "id": "N6jFFqAnSEVs"
      }
    },
    {
      "cell_type": "code",
      "source": [
        "criterion = nn.BCEWithLogitsLoss()"
      ],
      "metadata": {
        "id": "-rr0wz_aQfx8"
      },
      "execution_count": null,
      "outputs": []
    },
    {
      "cell_type": "code",
      "execution_count": null,
      "metadata": {
        "id": "pLqx3Sxn0Ips"
      },
      "outputs": [],
      "source": [
        "def binary_accuracy(preds, y):\n",
        "    \"\"\"\n",
        "    Returns accuracy per batch, i.e. if you get 8/10 right, this returns 0.8, NOT 8\n",
        "    \"\"\"\n",
        "    # round predictions to the closest integer\n",
        "    rounded_preds = torch.round(torch.sigmoid(preds))\n",
        "    correct = (rounded_preds == y).float() #convert into float for division \n",
        "    acc = correct.sum() / len(correct)\n",
        "    return acc"
      ]
    },
    {
      "cell_type": "markdown",
      "source": [
        "The `train` function iterates over all examples, one batch at a time. \n",
        "\n",
        "`model.train()` is used to put the model in \"training mode\", which turns on _dropout_ and _batch normalization_. \n",
        "\n",
        "For each batch, we first zero the gradients. Each parameter in a model has a `grad` attribute which stores the gradient calculated by the `criterion`. PyTorch does not automatically remove (or \"zero\") the gradients calculated from the last gradient calculation, so they must be manually zeroed.\n",
        "\n",
        "We then feed the batch of tokenized reviews into the model. Note, you do not need to do `model.forward(ids)`, simply calling the model works. The `squeeze` is needed as the predictions are initially size _**[batch size, 1]**_, and we need to remove the dimension of size 1 as PyTorch expects the predictions input to our criterion function to be of size _**[batch size]**_.\n",
        "\n",
        "The loss and accuracy are then calculated using our predictions and the labels, `batch['label']`, with the loss being averaged over all examples in the batch.\n",
        "\n",
        "We calculate the gradient of each parameter with `loss.backward()`, and then update the parameters using the gradients and optimizer algorithm with `optimizer.step()`.\n",
        "\n",
        "The loss and accuracy is accumulated across the epoch, the `.item()` method is used to extract a scalar from a tensor which only contains a single value.\n",
        "\n",
        "Finally, we return the loss and accuracy, averaged across the epoch. The `len` of an iterator is the number of batches in the iterator."
      ],
      "metadata": {
        "id": "G_9Q2PTjkSNc"
      }
    },
    {
      "cell_type": "code",
      "source": [
        "def train(dataloader, model, criterion, optimizer, device):\n",
        "\n",
        "    model.train()\n",
        "    epoch_losses = []\n",
        "    epoch_accs = []\n",
        "\n",
        "    for batch in tqdm.tqdm(dataloader, desc='training...', file=sys.stdout):\n",
        "        ids = batch['ids'].to(device)\n",
        "        label = batch['label'].to(device)\n",
        "        prediction = model(ids).squeeze(1)\n",
        "        loss = criterion(prediction, label.float())\n",
        "        accuracy = binary_accuracy(prediction, label.float())\n",
        "        optimizer.zero_grad()\n",
        "        loss.backward()\n",
        "        optimizer.step()\n",
        "        epoch_losses.append(loss.item())\n",
        "        epoch_accs.append(accuracy.item())\n",
        "\n",
        "    return epoch_losses, epoch_accs"
      ],
      "metadata": {
        "id": "23joQF-LQmnd"
      },
      "execution_count": null,
      "outputs": []
    },
    {
      "cell_type": "markdown",
      "source": [
        "`evaluate` is similar to `train`, with a few modifications as you don't want to update the parameters when evaluating.\n",
        "\n",
        "`model.eval()` puts the model in \"evaluation mode\", this turns off _dropout_ and _batch normalization_.\n",
        "\n",
        "No gradients are calculated on PyTorch operations inside the `with no_grad()` block. This causes less memory to be used and speeds up computation.\n",
        "\n",
        "The rest of the function is the same as `train`, with the removal of `optimizer.zero_grad()`, `loss.backward()` and `optimizer.step()`, as we do not update the model's parameters when evaluating."
      ],
      "metadata": {
        "id": "JYxPZusekbvE"
      }
    },
    {
      "cell_type": "code",
      "source": [
        "def evaluate(dataloader, model, criterion, device):\n",
        "    \n",
        "    model.eval()\n",
        "    epoch_losses = []\n",
        "    epoch_accs = []\n",
        "\n",
        "    with torch.no_grad():\n",
        "        for batch in tqdm.tqdm(dataloader, desc='evaluating...', file=sys.stdout):\n",
        "            ids = batch['ids'].to(device)\n",
        "            label = batch['label'].to(device)\n",
        "            prediction = model(ids).squeeze(1)\n",
        "            loss = criterion(prediction, label.float())\n",
        "            accuracy = binary_accuracy(prediction, label.float())\n",
        "            epoch_losses.append(loss.item())\n",
        "            epoch_accs.append(accuracy.item())\n",
        "\n",
        "    return epoch_losses, epoch_accs"
      ],
      "metadata": {
        "id": "Klar3yTMQo29"
      },
      "execution_count": null,
      "outputs": []
    },
    {
      "cell_type": "markdown",
      "source": [
        "Below code segment is responsible for creating the data loaders to train and evaluate the model. If you recall the review dataset, reviews can be in different lengths. We are training the model using batches of reviews. Hence it's required to pad the text sequences and convert them to equal lengths."
      ],
      "metadata": {
        "id": "Xgm6P09fHkpa"
      }
    },
    {
      "cell_type": "code",
      "source": [
        "device = torch.device('cuda' if torch.cuda.is_available() else 'cpu')\n",
        "model = model.to(device)\n",
        "criterion = criterion.to(device)\n",
        "\n",
        "def collate(batch, pad_index):\n",
        "    batch_ids = [i['ids'] for i in batch]\n",
        "    batch_ids = nn.utils.rnn.pad_sequence(batch_ids, padding_value=pad_index, batch_first=True)\n",
        "    batch_label = [i['label'] for i in batch]\n",
        "    batch_label = torch.stack(batch_label)\n",
        "    batch = {'ids': batch_ids,\n",
        "             'label': batch_label}\n",
        "    return batch\n",
        "\n",
        "batch_size = 64\n",
        "\n",
        "collate = functools.partial(collate, pad_index=pad_index)\n",
        "train_dataloader = torch.utils.data.DataLoader(train_data, \n",
        "                                               batch_size=batch_size, \n",
        "                                               collate_fn=collate, \n",
        "                                               shuffle=True)\n",
        "\n",
        "valid_dataloader = torch.utils.data.DataLoader(valid_data, batch_size=batch_size, collate_fn=collate)\n",
        "test_dataloader = torch.utils.data.DataLoader(test_data, batch_size=batch_size, collate_fn=collate)"
      ],
      "metadata": {
        "id": "podC2tH2Q6gg"
      },
      "execution_count": null,
      "outputs": []
    },
    {
      "cell_type": "markdown",
      "source": [
        "We then train the model through multiple epochs, an epoch being a complete pass through all examples in the training and validation sets.\n",
        "\n",
        "At each epoch, if the validation loss is the best we have seen so far, we'll save the parameters of the model and then after training has finished we'll use that model on the test set."
      ],
      "metadata": {
        "id": "l6dTsNkxki3G"
      }
    },
    {
      "cell_type": "code",
      "execution_count": null,
      "metadata": {
        "colab": {
          "base_uri": "https://localhost:8080/"
        },
        "id": "ftcYwR-h0Ipt",
        "outputId": "d073336b-deff-478d-d5f9-6f6e5e44a092"
      },
      "outputs": [
        {
          "output_type": "stream",
          "name": "stdout",
          "text": [
            "training...: 100%|██████████| 313/313 [09:11<00:00,  1.76s/it]\n",
            "evaluating...: 100%|██████████| 79/79 [00:38<00:00,  2.07it/s]\n",
            "epoch: 1\n",
            "train_loss: 0.631, train_acc: 0.621\n",
            "valid_loss: 0.486, valid_acc: 0.782\n",
            "training...: 100%|██████████| 313/313 [09:01<00:00,  1.73s/it]\n",
            "evaluating...: 100%|██████████| 79/79 [00:38<00:00,  2.04it/s]\n",
            "epoch: 2\n",
            "train_loss: 0.451, train_acc: 0.798\n",
            "valid_loss: 0.445, valid_acc: 0.797\n",
            "training...: 100%|██████████| 313/313 [09:01<00:00,  1.73s/it]\n",
            "evaluating...: 100%|██████████| 79/79 [00:38<00:00,  2.08it/s]\n",
            "epoch: 3\n",
            "train_loss: 0.384, train_acc: 0.832\n",
            "valid_loss: 0.363, valid_acc: 0.844\n",
            "training...: 100%|██████████| 313/313 [08:53<00:00,  1.71s/it]\n",
            "evaluating...: 100%|██████████| 79/79 [00:38<00:00,  2.07it/s]\n",
            "epoch: 4\n",
            "train_loss: 0.345, train_acc: 0.854\n",
            "valid_loss: 0.342, valid_acc: 0.856\n",
            "training...: 100%|██████████| 313/313 [08:42<00:00,  1.67s/it]\n",
            "evaluating...: 100%|██████████| 79/79 [00:38<00:00,  2.06it/s]\n",
            "epoch: 5\n",
            "train_loss: 0.315, train_acc: 0.867\n",
            "valid_loss: 0.335, valid_acc: 0.859\n"
          ]
        }
      ],
      "source": [
        "train_losses = []\n",
        "train_accs = []\n",
        "valid_losses = []\n",
        "valid_accs = []\n",
        "n_epochs = 5\n",
        "best_valid_loss = float('inf')\n",
        "\n",
        "for epoch in range(n_epochs):\n",
        "\n",
        "    train_loss, train_acc = train(train_dataloader, model, criterion, optimizer, device)\n",
        "    valid_loss, valid_acc = evaluate(valid_dataloader, model, criterion, device)\n",
        "\n",
        "    train_losses.extend(train_loss)\n",
        "    train_accs.extend(train_acc)\n",
        "    valid_losses.extend(valid_loss)\n",
        "    valid_accs.extend(valid_acc)\n",
        "    \n",
        "    epoch_train_loss = np.mean(train_loss)\n",
        "    epoch_train_acc = np.mean(train_acc)\n",
        "    epoch_valid_loss = np.mean(valid_loss)\n",
        "    epoch_valid_acc = np.mean(valid_acc)\n",
        "    \n",
        "    if epoch_valid_loss < best_valid_loss:\n",
        "        best_valid_loss = epoch_valid_loss\n",
        "        torch.save(model.state_dict(), 'lstm.pt')\n",
        "    \n",
        "    print(f'epoch: {epoch+1}')\n",
        "    print(f'train_loss: {epoch_train_loss:.3f}, train_acc: {epoch_train_acc:.3f}')\n",
        "    print(f'valid_loss: {epoch_valid_loss:.3f}, valid_acc: {epoch_valid_acc:.3f}')"
      ]
    },
    {
      "cell_type": "code",
      "execution_count": null,
      "metadata": {
        "colab": {
          "base_uri": "https://localhost:8080/",
          "height": 405
        },
        "id": "-UtGPpY-0Ipu",
        "outputId": "e80d5a2e-0b86-4af4-cd97-8bac9cf3e99e"
      },
      "outputs": [
        {
          "output_type": "execute_result",
          "data": {
            "text/plain": [
              "Text(0, 0.5, 'loss')"
            ]
          },
          "metadata": {},
          "execution_count": 39
        },
        {
          "output_type": "display_data",
          "data": {
            "text/plain": [
              "<Figure size 720x432 with 1 Axes>"
            ],
            "image/png": "[encoded data removed]"
          },
          "metadata": {
            "needs_background": "light"
          }
        }
      ],
      "source": [
        "fig = plt.figure(figsize=(10,6))\n",
        "ax = fig.add_subplot(1,1,1)\n",
        "ax.plot(train_losses, label='train loss')\n",
        "ax.plot(valid_losses, label='valid loss')\n",
        "plt.legend()\n",
        "ax.set_xlabel('updates')\n",
        "ax.set_ylabel('loss')"
      ]
    },
    {
      "cell_type": "code",
      "execution_count": null,
      "metadata": {
        "colab": {
          "base_uri": "https://localhost:8080/",
          "height": 388
        },
        "id": "4azVYV-B0Ipu",
        "outputId": "6bc6842a-338b-49fc-866a-acc54c08fb48"
      },
      "outputs": [
        {
          "output_type": "display_data",
          "data": {
            "text/plain": [
              "<Figure size 720x432 with 1 Axes>"
            ],
            "image/png": "[encoded data removed]"
          },
          "metadata": {
            "needs_background": "light"
          }
        }
      ],
      "source": [
        "fig = plt.figure(figsize=(10,6))\n",
        "ax = fig.add_subplot(1,1,1)\n",
        "ax.plot(train_accs, label='train accuracy')\n",
        "ax.plot(valid_accs, label='valid accuracy')\n",
        "plt.legend()\n",
        "ax.set_xlabel('updates')\n",
        "ax.set_ylabel('accuracy');"
      ]
    },
    {
      "cell_type": "markdown",
      "source": [
        "You may have noticed the loss is decreasing and the accuracy is increasing.\n",
        "\n"
      ],
      "metadata": {
        "id": "byY6EUtJknOF"
      }
    },
    {
      "cell_type": "markdown",
      "source": [
        "## **Model Saving and Use**"
      ],
      "metadata": {
        "id": "QEePVh3CV27Q"
      }
    },
    {
      "cell_type": "markdown",
      "source": [
        " Let's save the model and evaluate the accuracy on our entire testing dataset."
      ],
      "metadata": {
        "id": "8NiuJyvyd5Tm"
      }
    },
    {
      "cell_type": "code",
      "execution_count": null,
      "metadata": {
        "colab": {
          "base_uri": "https://localhost:8080/"
        },
        "id": "-BDwEvoA0Ipu",
        "outputId": "723d470e-944d-4c9b-c81a-31d5c90899eb"
      },
      "outputs": [
        {
          "output_type": "stream",
          "name": "stdout",
          "text": [
            "evaluating...: 100%|██████████| 391/391 [03:22<00:00,  1.93it/s]\n",
            "test_loss: 0.348, test_acc: 0.847\n"
          ]
        }
      ],
      "source": [
        "model.load_state_dict(torch.load('lstm.pt'))\n",
        "\n",
        "test_loss, test_acc = evaluate(test_dataloader, model, criterion, device)\n",
        "\n",
        "epoch_test_loss = np.mean(test_loss)\n",
        "epoch_test_acc = np.mean(test_acc)\n",
        "\n",
        "print(f'test_loss: {epoch_test_loss:.3f}, test_acc: {epoch_test_acc:.3f}')"
      ]
    },
    {
      "cell_type": "markdown",
      "source": [
        "Reviews with a negative sentiment to return a value close to 0 and positive reviews to return a value close to 1."
      ],
      "metadata": {
        "id": "nMBpon24eApV"
      }
    },
    {
      "cell_type": "code",
      "source": [
        "def predict_sentiment(model, sentence):\n",
        "    model.eval()\n",
        "    tokenized =  tokenizer(sentence)[:max_length]\n",
        "    indexed = [vocab[token] for token in tokenized]\n",
        "    tensor = torch.LongTensor(indexed).to(device)\n",
        "    tensor = tensor.unsqueeze(0)\n",
        "    prediction = torch.sigmoid(model(tensor))\n",
        "    prediction = prediction.cpu().detach().numpy()\n",
        "    predicted_class = 1 if prediction >= 0.5 else 0\n",
        "    return prediction, predicted_class"
      ],
      "metadata": {
        "id": "Y8AgOqGyqIUY"
      },
      "execution_count": null,
      "outputs": []
    },
    {
      "cell_type": "code",
      "source": [
        "review = \"I must admit that this is one of the worst movies I've ever seen. I thought Dennis Hopper had a little more taste than to appear in this kind of yeeeecchh. If this is supposed to be funny then I gotta look around for a new sense of humor. If you're thinking of buying this movie you'd better think again.\"\n",
        "predict_sentiment(model, review)"
      ],
      "metadata": {
        "id": "_9w0zDefsSbU",
        "colab": {
          "base_uri": "https://localhost:8080/"
        },
        "outputId": "52002eef-e685-4b8b-b50e-9fe20d81099a"
      },
      "execution_count": null,
      "outputs": [
        {
          "output_type": "execute_result",
          "data": {
            "text/plain": [
              "(array([0.11439478], dtype=float32), 0)"
            ]
          },
          "metadata": {},
          "execution_count": 55
        }
      ]
    }
  ],
  "metadata": {
    "kernelspec": {
      "display_name": "Python 3",
      "language": "python",
      "name": "python3"
    },
    "language_info": {
      "codemirror_mode": {
        "name": "ipython",
        "version": 3
      },
      "file_extension": ".py",
      "mimetype": "text/x-python",
      "name": "python",
      "nbconvert_exporter": "python",
      "pygments_lexer": "ipython3",
      "version": "3.7.7"
    },
    "colab": {
      "provenance": [],
      "machine_shape": "hm",
      "toc_visible": true
    },
    "accelerator": "GPU",
    "widgets": {
      "application/vnd.jupyter.widget-state+json": {
        "3ea8c05bf6424ae3a71dc1aac2c9a88d": {
          "model_module": "@jupyter-widgets/controls",
          "model_name": "HBoxModel",
          "model_module_version": "1.5.0",
          "state": {
            "_dom_classes": [],
            "_model_module": "@jupyter-widgets/controls",
            "_model_module_version": "1.5.0",
            "_model_name": "HBoxModel",
            "_view_count": null,
            "_view_module": "@jupyter-widgets/controls",
            "_view_module_version": "1.5.0",
            "_view_name": "HBoxView",
            "box_style": "",
            "children": [
              "IPY_MODEL_8c61557f3bcd41e6a65f98ef05b6644e",
              "IPY_MODEL_c0fc1aea146645d5a28767258125bb7a",
              "IPY_MODEL_27c840bf8afb4e87ad22b8cce7489daf"
            ],
            "layout": "IPY_MODEL_1934777757284a309c577c03b48f9df9"
          }
        },
        "8c61557f3bcd41e6a65f98ef05b6644e": {
          "model_module": "@jupyter-widgets/controls",
          "model_name": "HTMLModel",
          "model_module_version": "1.5.0",
          "state": {
            "_dom_classes": [],
            "_model_module": "@jupyter-widgets/controls",
            "_model_module_version": "1.5.0",
            "_model_name": "HTMLModel",
            "_view_count": null,
            "_view_module": "@jupyter-widgets/controls",
            "_view_module_version": "1.5.0",
            "_view_name": "HTMLView",
            "description": "",
            "description_tooltip": null,
            "layout": "IPY_MODEL_1cc9def53a24423bb3b151aa3a0c3740",
            "placeholder": "​",
            "style": "IPY_MODEL_006d4ee484b344ae9277a15809110ce7",
            "value": "100%"
          }
        },
        "c0fc1aea146645d5a28767258125bb7a": {
          "model_module": "@jupyter-widgets/controls",
          "model_name": "FloatProgressModel",
          "model_module_version": "1.5.0",
          "state": {
            "_dom_classes": [],
            "_model_module": "@jupyter-widgets/controls",
            "_model_module_version": "1.5.0",
            "_model_name": "FloatProgressModel",
            "_view_count": null,
            "_view_module": "@jupyter-widgets/controls",
            "_view_module_version": "1.5.0",
            "_view_name": "ProgressView",
            "bar_style": "success",
            "description": "",
            "description_tooltip": null,
            "layout": "IPY_MODEL_1bc1a73fe5ad4c6d9156098710b80716",
            "max": 20000,
            "min": 0,
            "orientation": "horizontal",
            "style": "IPY_MODEL_3f6d8ca030494530ab0fad24f4a8a2dd",
            "value": 20000
          }
        },
        "27c840bf8afb4e87ad22b8cce7489daf": {
          "model_module": "@jupyter-widgets/controls",
          "model_name": "HTMLModel",
          "model_module_version": "1.5.0",
          "state": {
            "_dom_classes": [],
            "_model_module": "@jupyter-widgets/controls",
            "_model_module_version": "1.5.0",
            "_model_name": "HTMLModel",
            "_view_count": null,
            "_view_module": "@jupyter-widgets/controls",
            "_view_module_version": "1.5.0",
            "_view_name": "HTMLView",
            "description": "",
            "description_tooltip": null,
            "layout": "IPY_MODEL_ae16684582564a2688eb47f4cf5cd6c3",
            "placeholder": "​",
            "style": "IPY_MODEL_deba35c548d2487cb28713eb1aaf7303",
            "value": " 20000/20000 [00:05&lt;00:00, 3749.87ex/s]"
          }
        },
        "1934777757284a309c577c03b48f9df9": {
          "model_module": "@jupyter-widgets/base",
          "model_name": "LayoutModel",
          "model_module_version": "1.2.0",
          "state": {
            "_model_module": "@jupyter-widgets/base",
            "_model_module_version": "1.2.0",
            "_model_name": "LayoutModel",
            "_view_count": null,
            "_view_module": "@jupyter-widgets/base",
            "_view_module_version": "1.2.0",
            "_view_name": "LayoutView",
            "align_content": null,
            "align_items": null,
            "align_self": null,
            "border": null,
            "bottom": null,
            "display": null,
            "flex": null,
            "flex_flow": null,
            "grid_area": null,
            "grid_auto_columns": null,
            "grid_auto_flow": null,
            "grid_auto_rows": null,
            "grid_column": null,
            "grid_gap": null,
            "grid_row": null,
            "grid_template_areas": null,
            "grid_template_columns": null,
            "grid_template_rows": null,
            "height": null,
            "justify_content": null,
            "justify_items": null,
            "left": null,
            "margin": null,
            "max_height": null,
            "max_width": null,
            "min_height": null,
            "min_width": null,
            "object_fit": null,
            "object_position": null,
            "order": null,
            "overflow": null,
            "overflow_x": null,
            "overflow_y": null,
            "padding": null,
            "right": null,
            "top": null,
            "visibility": null,
            "width": null
          }
        },
        "1cc9def53a24423bb3b151aa3a0c3740": {
          "model_module": "@jupyter-widgets/base",
          "model_name": "LayoutModel",
          "model_module_version": "1.2.0",
          "state": {
            "_model_module": "@jupyter-widgets/base",
            "_model_module_version": "1.2.0",
            "_model_name": "LayoutModel",
            "_view_count": null,
            "_view_module": "@jupyter-widgets/base",
            "_view_module_version": "1.2.0",
            "_view_name": "LayoutView",
            "align_content": null,
            "align_items": null,
            "align_self": null,
            "border": null,
            "bottom": null,
            "display": null,
            "flex": null,
            "flex_flow": null,
            "grid_area": null,
            "grid_auto_columns": null,
            "grid_auto_flow": null,
            "grid_auto_rows": null,
            "grid_column": null,
            "grid_gap": null,
            "grid_row": null,
            "grid_template_areas": null,
            "grid_template_columns": null,
            "grid_template_rows": null,
            "height": null,
            "justify_content": null,
            "justify_items": null,
            "left": null,
            "margin": null,
            "max_height": null,
            "max_width": null,
            "min_height": null,
            "min_width": null,
            "object_fit": null,
            "object_position": null,
            "order": null,
            "overflow": null,
            "overflow_x": null,
            "overflow_y": null,
            "padding": null,
            "right": null,
            "top": null,
            "visibility": null,
            "width": null
          }
        },
        "006d4ee484b344ae9277a15809110ce7": {
          "model_module": "@jupyter-widgets/controls",
          "model_name": "DescriptionStyleModel",
          "model_module_version": "1.5.0",
          "state": {
            "_model_module": "@jupyter-widgets/controls",
            "_model_module_version": "1.5.0",
            "_model_name": "DescriptionStyleModel",
            "_view_count": null,
            "_view_module": "@jupyter-widgets/base",
            "_view_module_version": "1.2.0",
            "_view_name": "StyleView",
            "description_width": ""
          }
        },
        "1bc1a73fe5ad4c6d9156098710b80716": {
          "model_module": "@jupyter-widgets/base",
          "model_name": "LayoutModel",
          "model_module_version": "1.2.0",
          "state": {
            "_model_module": "@jupyter-widgets/base",
            "_model_module_version": "1.2.0",
            "_model_name": "LayoutModel",
            "_view_count": null,
            "_view_module": "@jupyter-widgets/base",
            "_view_module_version": "1.2.0",
            "_view_name": "LayoutView",
            "align_content": null,
            "align_items": null,
            "align_self": null,
            "border": null,
            "bottom": null,
            "display": null,
            "flex": null,
            "flex_flow": null,
            "grid_area": null,
            "grid_auto_columns": null,
            "grid_auto_flow": null,
            "grid_auto_rows": null,
            "grid_column": null,
            "grid_gap": null,
            "grid_row": null,
            "grid_template_areas": null,
            "grid_template_columns": null,
            "grid_template_rows": null,
            "height": null,
            "justify_content": null,
            "justify_items": null,
            "left": null,
            "margin": null,
            "max_height": null,
            "max_width": null,
            "min_height": null,
            "min_width": null,
            "object_fit": null,
            "object_position": null,
            "order": null,
            "overflow": null,
            "overflow_x": null,
            "overflow_y": null,
            "padding": null,
            "right": null,
            "top": null,
            "visibility": null,
            "width": null
          }
        },
        "3f6d8ca030494530ab0fad24f4a8a2dd": {
          "model_module": "@jupyter-widgets/controls",
          "model_name": "ProgressStyleModel",
          "model_module_version": "1.5.0",
          "state": {
            "_model_module": "@jupyter-widgets/controls",
            "_model_module_version": "1.5.0",
            "_model_name": "ProgressStyleModel",
            "_view_count": null,
            "_view_module": "@jupyter-widgets/base",
            "_view_module_version": "1.2.0",
            "_view_name": "StyleView",
            "bar_color": null,
            "description_width": ""
          }
        },
        "ae16684582564a2688eb47f4cf5cd6c3": {
          "model_module": "@jupyter-widgets/base",
          "model_name": "LayoutModel",
          "model_module_version": "1.2.0",
          "state": {
            "_model_module": "@jupyter-widgets/base",
            "_model_module_version": "1.2.0",
            "_model_name": "LayoutModel",
            "_view_count": null,
            "_view_module": "@jupyter-widgets/base",
            "_view_module_version": "1.2.0",
            "_view_name": "LayoutView",
            "align_content": null,
            "align_items": null,
            "align_self": null,
            "border": null,
            "bottom": null,
            "display": null,
            "flex": null,
            "flex_flow": null,
            "grid_area": null,
            "grid_auto_columns": null,
            "grid_auto_flow": null,
            "grid_auto_rows": null,
            "grid_column": null,
            "grid_gap": null,
            "grid_row": null,
            "grid_template_areas": null,
            "grid_template_columns": null,
            "grid_template_rows": null,
            "height": null,
            "justify_content": null,
            "justify_items": null,
            "left": null,
            "margin": null,
            "max_height": null,
            "max_width": null,
            "min_height": null,
            "min_width": null,
            "object_fit": null,
            "object_position": null,
            "order": null,
            "overflow": null,
            "overflow_x": null,
            "overflow_y": null,
            "padding": null,
            "right": null,
            "top": null,
            "visibility": null,
            "width": null
          }
        },
        "deba35c548d2487cb28713eb1aaf7303": {
          "model_module": "@jupyter-widgets/controls",
          "model_name": "DescriptionStyleModel",
          "model_module_version": "1.5.0",
          "state": {
            "_model_module": "@jupyter-widgets/controls",
            "_model_module_version": "1.5.0",
            "_model_name": "DescriptionStyleModel",
            "_view_count": null,
            "_view_module": "@jupyter-widgets/base",
            "_view_module_version": "1.2.0",
            "_view_name": "StyleView",
            "description_width": ""
          }
        },
        "88abb33968d64e6cbaa090761b56986f": {
          "model_module": "@jupyter-widgets/controls",
          "model_name": "HBoxModel",
          "model_module_version": "1.5.0",
          "state": {
            "_dom_classes": [],
            "_model_module": "@jupyter-widgets/controls",
            "_model_module_version": "1.5.0",
            "_model_name": "HBoxModel",
            "_view_count": null,
            "_view_module": "@jupyter-widgets/controls",
            "_view_module_version": "1.5.0",
            "_view_name": "HBoxView",
            "box_style": "",
            "children": [
              "IPY_MODEL_b29d4d28c5a2486981a65506c3fedac5",
              "IPY_MODEL_4868f8d38c524666a0d987cb57a99045",
              "IPY_MODEL_7a68f39efb3949719a6501161a16aa14"
            ],
            "layout": "IPY_MODEL_a0f61df9abdf4f76974837de3304b796"
          }
        },
        "b29d4d28c5a2486981a65506c3fedac5": {
          "model_module": "@jupyter-widgets/controls",
          "model_name": "HTMLModel",
          "model_module_version": "1.5.0",
          "state": {
            "_dom_classes": [],
            "_model_module": "@jupyter-widgets/controls",
            "_model_module_version": "1.5.0",
            "_model_name": "HTMLModel",
            "_view_count": null,
            "_view_module": "@jupyter-widgets/controls",
            "_view_module_version": "1.5.0",
            "_view_name": "HTMLView",
            "description": "",
            "description_tooltip": null,
            "layout": "IPY_MODEL_85fcca4f271442febd9d7cf22cb373b7",
            "placeholder": "​",
            "style": "IPY_MODEL_360f34aafc2e4444835f20f7698fa4f4",
            "value": "100%"
          }
        },
        "4868f8d38c524666a0d987cb57a99045": {
          "model_module": "@jupyter-widgets/controls",
          "model_name": "FloatProgressModel",
          "model_module_version": "1.5.0",
          "state": {
            "_dom_classes": [],
            "_model_module": "@jupyter-widgets/controls",
            "_model_module_version": "1.5.0",
            "_model_name": "FloatProgressModel",
            "_view_count": null,
            "_view_module": "@jupyter-widgets/controls",
            "_view_module_version": "1.5.0",
            "_view_name": "ProgressView",
            "bar_style": "success",
            "description": "",
            "description_tooltip": null,
            "layout": "IPY_MODEL_cb33c99b93db4306a53685a8007ec330",
            "max": 25000,
            "min": 0,
            "orientation": "horizontal",
            "style": "IPY_MODEL_8e8a404f45a7463eb502cae472ed00ae",
            "value": 25000
          }
        },
        "7a68f39efb3949719a6501161a16aa14": {
          "model_module": "@jupyter-widgets/controls",
          "model_name": "HTMLModel",
          "model_module_version": "1.5.0",
          "state": {
            "_dom_classes": [],
            "_model_module": "@jupyter-widgets/controls",
            "_model_module_version": "1.5.0",
            "_model_name": "HTMLModel",
            "_view_count": null,
            "_view_module": "@jupyter-widgets/controls",
            "_view_module_version": "1.5.0",
            "_view_name": "HTMLView",
            "description": "",
            "description_tooltip": null,
            "layout": "IPY_MODEL_4ecef8a24f8843baa71a5d93f62e5e58",
            "placeholder": "​",
            "style": "IPY_MODEL_38f079b2228143bcad1956cd01ed1f56",
            "value": " 25000/25000 [00:06&lt;00:00, 4137.68ex/s]"
          }
        },
        "a0f61df9abdf4f76974837de3304b796": {
          "model_module": "@jupyter-widgets/base",
          "model_name": "LayoutModel",
          "model_module_version": "1.2.0",
          "state": {
            "_model_module": "@jupyter-widgets/base",
            "_model_module_version": "1.2.0",
            "_model_name": "LayoutModel",
            "_view_count": null,
            "_view_module": "@jupyter-widgets/base",
            "_view_module_version": "1.2.0",
            "_view_name": "LayoutView",
            "align_content": null,
            "align_items": null,
            "align_self": null,
            "border": null,
            "bottom": null,
            "display": null,
            "flex": null,
            "flex_flow": null,
            "grid_area": null,
            "grid_auto_columns": null,
            "grid_auto_flow": null,
            "grid_auto_rows": null,
            "grid_column": null,
            "grid_gap": null,
            "grid_row": null,
            "grid_template_areas": null,
            "grid_template_columns": null,
            "grid_template_rows": null,
            "height": null,
            "justify_content": null,
            "justify_items": null,
            "left": null,
            "margin": null,
            "max_height": null,
            "max_width": null,
            "min_height": null,
            "min_width": null,
            "object_fit": null,
            "object_position": null,
            "order": null,
            "overflow": null,
            "overflow_x": null,
            "overflow_y": null,
            "padding": null,
            "right": null,
            "top": null,
            "visibility": null,
            "width": null
          }
        },
        "85fcca4f271442febd9d7cf22cb373b7": {
          "model_module": "@jupyter-widgets/base",
          "model_name": "LayoutModel",
          "model_module_version": "1.2.0",
          "state": {
            "_model_module": "@jupyter-widgets/base",
            "_model_module_version": "1.2.0",
            "_model_name": "LayoutModel",
            "_view_count": null,
            "_view_module": "@jupyter-widgets/base",
            "_view_module_version": "1.2.0",
            "_view_name": "LayoutView",
            "align_content": null,
            "align_items": null,
            "align_self": null,
            "border": null,
            "bottom": null,
            "display": null,
            "flex": null,
            "flex_flow": null,
            "grid_area": null,
            "grid_auto_columns": null,
            "grid_auto_flow": null,
            "grid_auto_rows": null,
            "grid_column": null,
            "grid_gap": null,
            "grid_row": null,
            "grid_template_areas": null,
            "grid_template_columns": null,
            "grid_template_rows": null,
            "height": null,
            "justify_content": null,
            "justify_items": null,
            "left": null,
            "margin": null,
            "max_height": null,
            "max_width": null,
            "min_height": null,
            "min_width": null,
            "object_fit": null,
            "object_position": null,
            "order": null,
            "overflow": null,
            "overflow_x": null,
            "overflow_y": null,
            "padding": null,
            "right": null,
            "top": null,
            "visibility": null,
            "width": null
          }
        },
        "360f34aafc2e4444835f20f7698fa4f4": {
          "model_module": "@jupyter-widgets/controls",
          "model_name": "DescriptionStyleModel",
          "model_module_version": "1.5.0",
          "state": {
            "_model_module": "@jupyter-widgets/controls",
            "_model_module_version": "1.5.0",
            "_model_name": "DescriptionStyleModel",
            "_view_count": null,
            "_view_module": "@jupyter-widgets/base",
            "_view_module_version": "1.2.0",
            "_view_name": "StyleView",
            "description_width": ""
          }
        },
        "cb33c99b93db4306a53685a8007ec330": {
          "model_module": "@jupyter-widgets/base",
          "model_name": "LayoutModel",
          "model_module_version": "1.2.0",
          "state": {
            "_model_module": "@jupyter-widgets/base",
            "_model_module_version": "1.2.0",
            "_model_name": "LayoutModel",
            "_view_count": null,
            "_view_module": "@jupyter-widgets/base",
            "_view_module_version": "1.2.0",
            "_view_name": "LayoutView",
            "align_content": null,
            "align_items": null,
            "align_self": null,
            "border": null,
            "bottom": null,
            "display": null,
            "flex": null,
            "flex_flow": null,
            "grid_area": null,
            "grid_auto_columns": null,
            "grid_auto_flow": null,
            "grid_auto_rows": null,
            "grid_column": null,
            "grid_gap": null,
            "grid_row": null,
            "grid_template_areas": null,
            "grid_template_columns": null,
            "grid_template_rows": null,
            "height": null,
            "justify_content": null,
            "justify_items": null,
            "left": null,
            "margin": null,
            "max_height": null,
            "max_width": null,
            "min_height": null,
            "min_width": null,
            "object_fit": null,
            "object_position": null,
            "order": null,
            "overflow": null,
            "overflow_x": null,
            "overflow_y": null,
            "padding": null,
            "right": null,
            "top": null,
            "visibility": null,
            "width": null
          }
        },
        "8e8a404f45a7463eb502cae472ed00ae": {
          "model_module": "@jupyter-widgets/controls",
          "model_name": "ProgressStyleModel",
          "model_module_version": "1.5.0",
          "state": {
            "_model_module": "@jupyter-widgets/controls",
            "_model_module_version": "1.5.0",
            "_model_name": "ProgressStyleModel",
            "_view_count": null,
            "_view_module": "@jupyter-widgets/base",
            "_view_module_version": "1.2.0",
            "_view_name": "StyleView",
            "bar_color": null,
            "description_width": ""
          }
        },
        "4ecef8a24f8843baa71a5d93f62e5e58": {
          "model_module": "@jupyter-widgets/base",
          "model_name": "LayoutModel",
          "model_module_version": "1.2.0",
          "state": {
            "_model_module": "@jupyter-widgets/base",
            "_model_module_version": "1.2.0",
            "_model_name": "LayoutModel",
            "_view_count": null,
            "_view_module": "@jupyter-widgets/base",
            "_view_module_version": "1.2.0",
            "_view_name": "LayoutView",
            "align_content": null,
            "align_items": null,
            "align_self": null,
            "border": null,
            "bottom": null,
            "display": null,
            "flex": null,
            "flex_flow": null,
            "grid_area": null,
            "grid_auto_columns": null,
            "grid_auto_flow": null,
            "grid_auto_rows": null,
            "grid_column": null,
            "grid_gap": null,
            "grid_row": null,
            "grid_template_areas": null,
            "grid_template_columns": null,
            "grid_template_rows": null,
            "height": null,
            "justify_content": null,
            "justify_items": null,
            "left": null,
            "margin": null,
            "max_height": null,
            "max_width": null,
            "min_height": null,
            "min_width": null,
            "object_fit": null,
            "object_position": null,
            "order": null,
            "overflow": null,
            "overflow_x": null,
            "overflow_y": null,
            "padding": null,
            "right": null,
            "top": null,
            "visibility": null,
            "width": null
          }
        },
        "38f079b2228143bcad1956cd01ed1f56": {
          "model_module": "@jupyter-widgets/controls",
          "model_name": "DescriptionStyleModel",
          "model_module_version": "1.5.0",
          "state": {
            "_model_module": "@jupyter-widgets/controls",
            "_model_module_version": "1.5.0",
            "_model_name": "DescriptionStyleModel",
            "_view_count": null,
            "_view_module": "@jupyter-widgets/base",
            "_view_module_version": "1.2.0",
            "_view_name": "StyleView",
            "description_width": ""
          }
        },
        "3bbad805a5904cc1851da6d364d1f090": {
          "model_module": "@jupyter-widgets/controls",
          "model_name": "HBoxModel",
          "model_module_version": "1.5.0",
          "state": {
            "_dom_classes": [],
            "_model_module": "@jupyter-widgets/controls",
            "_model_module_version": "1.5.0",
            "_model_name": "HBoxModel",
            "_view_count": null,
            "_view_module": "@jupyter-widgets/controls",
            "_view_module_version": "1.5.0",
            "_view_name": "HBoxView",
            "box_style": "",
            "children": [
              "IPY_MODEL_123c56055f1941cb834ec412dcb30825",
              "IPY_MODEL_2af9ce1522b04acaa1c61133a6ed25e0",
              "IPY_MODEL_e7480a27125245e5891373da8b5f667b"
            ],
            "layout": "IPY_MODEL_70a128de5bd74698aa048f0a41ef071f"
          }
        },
        "123c56055f1941cb834ec412dcb30825": {
          "model_module": "@jupyter-widgets/controls",
          "model_name": "HTMLModel",
          "model_module_version": "1.5.0",
          "state": {
            "_dom_classes": [],
            "_model_module": "@jupyter-widgets/controls",
            "_model_module_version": "1.5.0",
            "_model_name": "HTMLModel",
            "_view_count": null,
            "_view_module": "@jupyter-widgets/controls",
            "_view_module_version": "1.5.0",
            "_view_name": "HTMLView",
            "description": "",
            "description_tooltip": null,
            "layout": "IPY_MODEL_2c9cf79f87ea42a19f2d836c50f7b1d0",
            "placeholder": "​",
            "style": "IPY_MODEL_96638470ef174929b4a54d74f898e717",
            "value": "100%"
          }
        },
        "2af9ce1522b04acaa1c61133a6ed25e0": {
          "model_module": "@jupyter-widgets/controls",
          "model_name": "FloatProgressModel",
          "model_module_version": "1.5.0",
          "state": {
            "_dom_classes": [],
            "_model_module": "@jupyter-widgets/controls",
            "_model_module_version": "1.5.0",
            "_model_name": "FloatProgressModel",
            "_view_count": null,
            "_view_module": "@jupyter-widgets/controls",
            "_view_module_version": "1.5.0",
            "_view_name": "ProgressView",
            "bar_style": "success",
            "description": "",
            "description_tooltip": null,
            "layout": "IPY_MODEL_ae08a25e06674b47967266c029c4507b",
            "max": 5000,
            "min": 0,
            "orientation": "horizontal",
            "style": "IPY_MODEL_9d8348bd5c854e58a505500fe20dbf24",
            "value": 5000
          }
        },
        "e7480a27125245e5891373da8b5f667b": {
          "model_module": "@jupyter-widgets/controls",
          "model_name": "HTMLModel",
          "model_module_version": "1.5.0",
          "state": {
            "_dom_classes": [],
            "_model_module": "@jupyter-widgets/controls",
            "_model_module_version": "1.5.0",
            "_model_name": "HTMLModel",
            "_view_count": null,
            "_view_module": "@jupyter-widgets/controls",
            "_view_module_version": "1.5.0",
            "_view_name": "HTMLView",
            "description": "",
            "description_tooltip": null,
            "layout": "IPY_MODEL_dd42f5575ec14d40b8b72c3f516e2c71",
            "placeholder": "​",
            "style": "IPY_MODEL_d9bf54604bc6479f9ef409ff2c3731d3",
            "value": " 5000/5000 [00:01&lt;00:00, 3867.93ex/s]"
          }
        },
        "70a128de5bd74698aa048f0a41ef071f": {
          "model_module": "@jupyter-widgets/base",
          "model_name": "LayoutModel",
          "model_module_version": "1.2.0",
          "state": {
            "_model_module": "@jupyter-widgets/base",
            "_model_module_version": "1.2.0",
            "_model_name": "LayoutModel",
            "_view_count": null,
            "_view_module": "@jupyter-widgets/base",
            "_view_module_version": "1.2.0",
            "_view_name": "LayoutView",
            "align_content": null,
            "align_items": null,
            "align_self": null,
            "border": null,
            "bottom": null,
            "display": null,
            "flex": null,
            "flex_flow": null,
            "grid_area": null,
            "grid_auto_columns": null,
            "grid_auto_flow": null,
            "grid_auto_rows": null,
            "grid_column": null,
            "grid_gap": null,
            "grid_row": null,
            "grid_template_areas": null,
            "grid_template_columns": null,
            "grid_template_rows": null,
            "height": null,
            "justify_content": null,
            "justify_items": null,
            "left": null,
            "margin": null,
            "max_height": null,
            "max_width": null,
            "min_height": null,
            "min_width": null,
            "object_fit": null,
            "object_position": null,
            "order": null,
            "overflow": null,
            "overflow_x": null,
            "overflow_y": null,
            "padding": null,
            "right": null,
            "top": null,
            "visibility": null,
            "width": null
          }
        },
        "2c9cf79f87ea42a19f2d836c50f7b1d0": {
          "model_module": "@jupyter-widgets/base",
          "model_name": "LayoutModel",
          "model_module_version": "1.2.0",
          "state": {
            "_model_module": "@jupyter-widgets/base",
            "_model_module_version": "1.2.0",
            "_model_name": "LayoutModel",
            "_view_count": null,
            "_view_module": "@jupyter-widgets/base",
            "_view_module_version": "1.2.0",
            "_view_name": "LayoutView",
            "align_content": null,
            "align_items": null,
            "align_self": null,
            "border": null,
            "bottom": null,
            "display": null,
            "flex": null,
            "flex_flow": null,
            "grid_area": null,
            "grid_auto_columns": null,
            "grid_auto_flow": null,
            "grid_auto_rows": null,
            "grid_column": null,
            "grid_gap": null,
            "grid_row": null,
            "grid_template_areas": null,
            "grid_template_columns": null,
            "grid_template_rows": null,
            "height": null,
            "justify_content": null,
            "justify_items": null,
            "left": null,
            "margin": null,
            "max_height": null,
            "max_width": null,
            "min_height": null,
            "min_width": null,
            "object_fit": null,
            "object_position": null,
            "order": null,
            "overflow": null,
            "overflow_x": null,
            "overflow_y": null,
            "padding": null,
            "right": null,
            "top": null,
            "visibility": null,
            "width": null
          }
        },
        "96638470ef174929b4a54d74f898e717": {
          "model_module": "@jupyter-widgets/controls",
          "model_name": "DescriptionStyleModel",
          "model_module_version": "1.5.0",
          "state": {
            "_model_module": "@jupyter-widgets/controls",
            "_model_module_version": "1.5.0",
            "_model_name": "DescriptionStyleModel",
            "_view_count": null,
            "_view_module": "@jupyter-widgets/base",
            "_view_module_version": "1.2.0",
            "_view_name": "StyleView",
            "description_width": ""
          }
        },
        "ae08a25e06674b47967266c029c4507b": {
          "model_module": "@jupyter-widgets/base",
          "model_name": "LayoutModel",
          "model_module_version": "1.2.0",
          "state": {
            "_model_module": "@jupyter-widgets/base",
            "_model_module_version": "1.2.0",
            "_model_name": "LayoutModel",
            "_view_count": null,
            "_view_module": "@jupyter-widgets/base",
            "_view_module_version": "1.2.0",
            "_view_name": "LayoutView",
            "align_content": null,
            "align_items": null,
            "align_self": null,
            "border": null,
            "bottom": null,
            "display": null,
            "flex": null,
            "flex_flow": null,
            "grid_area": null,
            "grid_auto_columns": null,
            "grid_auto_flow": null,
            "grid_auto_rows": null,
            "grid_column": null,
            "grid_gap": null,
            "grid_row": null,
            "grid_template_areas": null,
            "grid_template_columns": null,
            "grid_template_rows": null,
            "height": null,
            "justify_content": null,
            "justify_items": null,
            "left": null,
            "margin": null,
            "max_height": null,
            "max_width": null,
            "min_height": null,
            "min_width": null,
            "object_fit": null,
            "object_position": null,
            "order": null,
            "overflow": null,
            "overflow_x": null,
            "overflow_y": null,
            "padding": null,
            "right": null,
            "top": null,
            "visibility": null,
            "width": null
          }
        },
        "9d8348bd5c854e58a505500fe20dbf24": {
          "model_module": "@jupyter-widgets/controls",
          "model_name": "ProgressStyleModel",
          "model_module_version": "1.5.0",
          "state": {
            "_model_module": "@jupyter-widgets/controls",
            "_model_module_version": "1.5.0",
            "_model_name": "ProgressStyleModel",
            "_view_count": null,
            "_view_module": "@jupyter-widgets/base",
            "_view_module_version": "1.2.0",
            "_view_name": "StyleView",
            "bar_color": null,
            "description_width": ""
          }
        },
        "dd42f5575ec14d40b8b72c3f516e2c71": {
          "model_module": "@jupyter-widgets/base",
          "model_name": "LayoutModel",
          "model_module_version": "1.2.0",
          "state": {
            "_model_module": "@jupyter-widgets/base",
            "_model_module_version": "1.2.0",
            "_model_name": "LayoutModel",
            "_view_count": null,
            "_view_module": "@jupyter-widgets/base",
            "_view_module_version": "1.2.0",
            "_view_name": "LayoutView",
            "align_content": null,
            "align_items": null,
            "align_self": null,
            "border": null,
            "bottom": null,
            "display": null,
            "flex": null,
            "flex_flow": null,
            "grid_area": null,
            "grid_auto_columns": null,
            "grid_auto_flow": null,
            "grid_auto_rows": null,
            "grid_column": null,
            "grid_gap": null,
            "grid_row": null,
            "grid_template_areas": null,
            "grid_template_columns": null,
            "grid_template_rows": null,
            "height": null,
            "justify_content": null,
            "justify_items": null,
            "left": null,
            "margin": null,
            "max_height": null,
            "max_width": null,
            "min_height": null,
            "min_width": null,
            "object_fit": null,
            "object_position": null,
            "order": null,
            "overflow": null,
            "overflow_x": null,
            "overflow_y": null,
            "padding": null,
            "right": null,
            "top": null,
            "visibility": null,
            "width": null
          }
        },
        "d9bf54604bc6479f9ef409ff2c3731d3": {
          "model_module": "@jupyter-widgets/controls",
          "model_name": "DescriptionStyleModel",
          "model_module_version": "1.5.0",
          "state": {
            "_model_module": "@jupyter-widgets/controls",
            "_model_module_version": "1.5.0",
            "_model_name": "DescriptionStyleModel",
            "_view_count": null,
            "_view_module": "@jupyter-widgets/base",
            "_view_module_version": "1.2.0",
            "_view_name": "StyleView",
            "description_width": ""
          }
        },
        "c1ea6d888f4041008af70ef18ef298e5": {
          "model_module": "@jupyter-widgets/controls",
          "model_name": "HBoxModel",
          "model_module_version": "1.5.0",
          "state": {
            "_dom_classes": [],
            "_model_module": "@jupyter-widgets/controls",
            "_model_module_version": "1.5.0",
            "_model_name": "HBoxModel",
            "_view_count": null,
            "_view_module": "@jupyter-widgets/controls",
            "_view_module_version": "1.5.0",
            "_view_name": "HBoxView",
            "box_style": "",
            "children": [
              "IPY_MODEL_67c471cf4f9b43ab992a75095ea6ad67",
              "IPY_MODEL_ec889feb255849968ae0a2932198df17",
              "IPY_MODEL_9e2f678286c94fea8a7cdc3c789c0539"
            ],
            "layout": "IPY_MODEL_d5be076689cc4ceb93077385dec03f2b"
          }
        },
        "67c471cf4f9b43ab992a75095ea6ad67": {
          "model_module": "@jupyter-widgets/controls",
          "model_name": "HTMLModel",
          "model_module_version": "1.5.0",
          "state": {
            "_dom_classes": [],
            "_model_module": "@jupyter-widgets/controls",
            "_model_module_version": "1.5.0",
            "_model_name": "HTMLModel",
            "_view_count": null,
            "_view_module": "@jupyter-widgets/controls",
            "_view_module_version": "1.5.0",
            "_view_name": "HTMLView",
            "description": "",
            "description_tooltip": null,
            "layout": "IPY_MODEL_a930b2d15e88464191597311597d1be4",
            "placeholder": "​",
            "style": "IPY_MODEL_a13e54532636411ea0c4544eaca79b94",
            "value": "100%"
          }
        },
        "ec889feb255849968ae0a2932198df17": {
          "model_module": "@jupyter-widgets/controls",
          "model_name": "FloatProgressModel",
          "model_module_version": "1.5.0",
          "state": {
            "_dom_classes": [],
            "_model_module": "@jupyter-widgets/controls",
            "_model_module_version": "1.5.0",
            "_model_name": "FloatProgressModel",
            "_view_count": null,
            "_view_module": "@jupyter-widgets/controls",
            "_view_module_version": "1.5.0",
            "_view_name": "ProgressView",
            "bar_style": "success",
            "description": "",
            "description_tooltip": null,
            "layout": "IPY_MODEL_e0cda635e52b48f2b4bea256b7ab2dcf",
            "max": 3,
            "min": 0,
            "orientation": "horizontal",
            "style": "IPY_MODEL_6ef84f8612a44606b0eba5c352d100df",
            "value": 3
          }
        },
        "9e2f678286c94fea8a7cdc3c789c0539": {
          "model_module": "@jupyter-widgets/controls",
          "model_name": "HTMLModel",
          "model_module_version": "1.5.0",
          "state": {
            "_dom_classes": [],
            "_model_module": "@jupyter-widgets/controls",
            "_model_module_version": "1.5.0",
            "_model_name": "HTMLModel",
            "_view_count": null,
            "_view_module": "@jupyter-widgets/controls",
            "_view_module_version": "1.5.0",
            "_view_name": "HTMLView",
            "description": "",
            "description_tooltip": null,
            "layout": "IPY_MODEL_dbe8642625954fbc9742878361383626",
            "placeholder": "​",
            "style": "IPY_MODEL_1b0062d834ad4a02bf4da6b870fc0762",
            "value": " 3/3 [00:00&lt;00:00, 48.17it/s]"
          }
        },
        "d5be076689cc4ceb93077385dec03f2b": {
          "model_module": "@jupyter-widgets/base",
          "model_name": "LayoutModel",
          "model_module_version": "1.2.0",
          "state": {
            "_model_module": "@jupyter-widgets/base",
            "_model_module_version": "1.2.0",
            "_model_name": "LayoutModel",
            "_view_count": null,
            "_view_module": "@jupyter-widgets/base",
            "_view_module_version": "1.2.0",
            "_view_name": "LayoutView",
            "align_content": null,
            "align_items": null,
            "align_self": null,
            "border": null,
            "bottom": null,
            "display": null,
            "flex": null,
            "flex_flow": null,
            "grid_area": null,
            "grid_auto_columns": null,
            "grid_auto_flow": null,
            "grid_auto_rows": null,
            "grid_column": null,
            "grid_gap": null,
            "grid_row": null,
            "grid_template_areas": null,
            "grid_template_columns": null,
            "grid_template_rows": null,
            "height": null,
            "justify_content": null,
            "justify_items": null,
            "left": null,
            "margin": null,
            "max_height": null,
            "max_width": null,
            "min_height": null,
            "min_width": null,
            "object_fit": null,
            "object_position": null,
            "order": null,
            "overflow": null,
            "overflow_x": null,
            "overflow_y": null,
            "padding": null,
            "right": null,
            "top": null,
            "visibility": null,
            "width": null
          }
        },
        "a930b2d15e88464191597311597d1be4": {
          "model_module": "@jupyter-widgets/base",
          "model_name": "LayoutModel",
          "model_module_version": "1.2.0",
          "state": {
            "_model_module": "@jupyter-widgets/base",
            "_model_module_version": "1.2.0",
            "_model_name": "LayoutModel",
            "_view_count": null,
            "_view_module": "@jupyter-widgets/base",
            "_view_module_version": "1.2.0",
            "_view_name": "LayoutView",
            "align_content": null,
            "align_items": null,
            "align_self": null,
            "border": null,
            "bottom": null,
            "display": null,
            "flex": null,
            "flex_flow": null,
            "grid_area": null,
            "grid_auto_columns": null,
            "grid_auto_flow": null,
            "grid_auto_rows": null,
            "grid_column": null,
            "grid_gap": null,
            "grid_row": null,
            "grid_template_areas": null,
            "grid_template_columns": null,
            "grid_template_rows": null,
            "height": null,
            "justify_content": null,
            "justify_items": null,
            "left": null,
            "margin": null,
            "max_height": null,
            "max_width": null,
            "min_height": null,
            "min_width": null,
            "object_fit": null,
            "object_position": null,
            "order": null,
            "overflow": null,
            "overflow_x": null,
            "overflow_y": null,
            "padding": null,
            "right": null,
            "top": null,
            "visibility": null,
            "width": null
          }
        },
        "a13e54532636411ea0c4544eaca79b94": {
          "model_module": "@jupyter-widgets/controls",
          "model_name": "DescriptionStyleModel",
          "model_module_version": "1.5.0",
          "state": {
            "_model_module": "@jupyter-widgets/controls",
            "_model_module_version": "1.5.0",
            "_model_name": "DescriptionStyleModel",
            "_view_count": null,
            "_view_module": "@jupyter-widgets/base",
            "_view_module_version": "1.2.0",
            "_view_name": "StyleView",
            "description_width": ""
          }
        },
        "e0cda635e52b48f2b4bea256b7ab2dcf": {
          "model_module": "@jupyter-widgets/base",
          "model_name": "LayoutModel",
          "model_module_version": "1.2.0",
          "state": {
            "_model_module": "@jupyter-widgets/base",
            "_model_module_version": "1.2.0",
            "_model_name": "LayoutModel",
            "_view_count": null,
            "_view_module": "@jupyter-widgets/base",
            "_view_module_version": "1.2.0",
            "_view_name": "LayoutView",
            "align_content": null,
            "align_items": null,
            "align_self": null,
            "border": null,
            "bottom": null,
            "display": null,
            "flex": null,
            "flex_flow": null,
            "grid_area": null,
            "grid_auto_columns": null,
            "grid_auto_flow": null,
            "grid_auto_rows": null,
            "grid_column": null,
            "grid_gap": null,
            "grid_row": null,
            "grid_template_areas": null,
            "grid_template_columns": null,
            "grid_template_rows": null,
            "height": null,
            "justify_content": null,
            "justify_items": null,
            "left": null,
            "margin": null,
            "max_height": null,
            "max_width": null,
            "min_height": null,
            "min_width": null,
            "object_fit": null,
            "object_position": null,
            "order": null,
            "overflow": null,
            "overflow_x": null,
            "overflow_y": null,
            "padding": null,
            "right": null,
            "top": null,
            "visibility": null,
            "width": null
          }
        },
        "6ef84f8612a44606b0eba5c352d100df": {
          "model_module": "@jupyter-widgets/controls",
          "model_name": "ProgressStyleModel",
          "model_module_version": "1.5.0",
          "state": {
            "_model_module": "@jupyter-widgets/controls",
            "_model_module_version": "1.5.0",
            "_model_name": "ProgressStyleModel",
            "_view_count": null,
            "_view_module": "@jupyter-widgets/base",
            "_view_module_version": "1.2.0",
            "_view_name": "StyleView",
            "bar_color": null,
            "description_width": ""
          }
        },
        "dbe8642625954fbc9742878361383626": {
          "model_module": "@jupyter-widgets/base",
          "model_name": "LayoutModel",
          "model_module_version": "1.2.0",
          "state": {
            "_model_module": "@jupyter-widgets/base",
            "_model_module_version": "1.2.0",
            "_model_name": "LayoutModel",
            "_view_count": null,
            "_view_module": "@jupyter-widgets/base",
            "_view_module_version": "1.2.0",
            "_view_name": "LayoutView",
            "align_content": null,
            "align_items": null,
            "align_self": null,
            "border": null,
            "bottom": null,
            "display": null,
            "flex": null,
            "flex_flow": null,
            "grid_area": null,
            "grid_auto_columns": null,
            "grid_auto_flow": null,
            "grid_auto_rows": null,
            "grid_column": null,
            "grid_gap": null,
            "grid_row": null,
            "grid_template_areas": null,
            "grid_template_columns": null,
            "grid_template_rows": null,
            "height": null,
            "justify_content": null,
            "justify_items": null,
            "left": null,
            "margin": null,
            "max_height": null,
            "max_width": null,
            "min_height": null,
            "min_width": null,
            "object_fit": null,
            "object_position": null,
            "order": null,
            "overflow": null,
            "overflow_x": null,
            "overflow_y": null,
            "padding": null,
            "right": null,
            "top": null,
            "visibility": null,
            "width": null
          }
        },
        "1b0062d834ad4a02bf4da6b870fc0762": {
          "model_module": "@jupyter-widgets/controls",
          "model_name": "DescriptionStyleModel",
          "model_module_version": "1.5.0",
          "state": {
            "_model_module": "@jupyter-widgets/controls",
            "_model_module_version": "1.5.0",
            "_model_name": "DescriptionStyleModel",
            "_view_count": null,
            "_view_module": "@jupyter-widgets/base",
            "_view_module_version": "1.2.0",
            "_view_name": "StyleView",
            "description_width": ""
          }
        },
        "8818599bffd54f5daf6338d891c211f8": {
          "model_module": "@jupyter-widgets/controls",
          "model_name": "HBoxModel",
          "model_module_version": "1.5.0",
          "state": {
            "_dom_classes": [],
            "_model_module": "@jupyter-widgets/controls",
            "_model_module_version": "1.5.0",
            "_model_name": "HBoxModel",
            "_view_count": null,
            "_view_module": "@jupyter-widgets/controls",
            "_view_module_version": "1.5.0",
            "_view_name": "HBoxView",
            "box_style": "",
            "children": [
              "IPY_MODEL_18df2cef4f9e471c901655610b742c48",
              "IPY_MODEL_5b06c958c6854eb2906cc697acf49fd2",
              "IPY_MODEL_e58dc97821824015931143dfc542c151"
            ],
            "layout": "IPY_MODEL_027badaf2073439d8d55a170631d2db2"
          }
        },
        "18df2cef4f9e471c901655610b742c48": {
          "model_module": "@jupyter-widgets/controls",
          "model_name": "HTMLModel",
          "model_module_version": "1.5.0",
          "state": {
            "_dom_classes": [],
            "_model_module": "@jupyter-widgets/controls",
            "_model_module_version": "1.5.0",
            "_model_name": "HTMLModel",
            "_view_count": null,
            "_view_module": "@jupyter-widgets/controls",
            "_view_module_version": "1.5.0",
            "_view_name": "HTMLView",
            "description": "",
            "description_tooltip": null,
            "layout": "IPY_MODEL_bd7fde6e2f514160ba5a5c4bef7417d5",
            "placeholder": "​",
            "style": "IPY_MODEL_50bf4f47984a40e8b096e0d65f077232",
            "value": "100%"
          }
        },
        "5b06c958c6854eb2906cc697acf49fd2": {
          "model_module": "@jupyter-widgets/controls",
          "model_name": "FloatProgressModel",
          "model_module_version": "1.5.0",
          "state": {
            "_dom_classes": [],
            "_model_module": "@jupyter-widgets/controls",
            "_model_module_version": "1.5.0",
            "_model_name": "FloatProgressModel",
            "_view_count": null,
            "_view_module": "@jupyter-widgets/controls",
            "_view_module_version": "1.5.0",
            "_view_name": "ProgressView",
            "bar_style": "success",
            "description": "",
            "description_tooltip": null,
            "layout": "IPY_MODEL_ba488fb024ed4ef48d5214e03606f2cd",
            "max": 20000,
            "min": 0,
            "orientation": "horizontal",
            "style": "IPY_MODEL_666b9b3371d84183ba55859f58a5488b",
            "value": 20000
          }
        },
        "e58dc97821824015931143dfc542c151": {
          "model_module": "@jupyter-widgets/controls",
          "model_name": "HTMLModel",
          "model_module_version": "1.5.0",
          "state": {
            "_dom_classes": [],
            "_model_module": "@jupyter-widgets/controls",
            "_model_module_version": "1.5.0",
            "_model_name": "HTMLModel",
            "_view_count": null,
            "_view_module": "@jupyter-widgets/controls",
            "_view_module_version": "1.5.0",
            "_view_name": "HTMLView",
            "description": "",
            "description_tooltip": null,
            "layout": "IPY_MODEL_51aba72901754fdd82d46386e63db936",
            "placeholder": "​",
            "style": "IPY_MODEL_082d27733c0f4f8b95617f1388e76b95",
            "value": " 20000/20000 [00:12&lt;00:00, 1739.42ex/s]"
          }
        },
        "027badaf2073439d8d55a170631d2db2": {
          "model_module": "@jupyter-widgets/base",
          "model_name": "LayoutModel",
          "model_module_version": "1.2.0",
          "state": {
            "_model_module": "@jupyter-widgets/base",
            "_model_module_version": "1.2.0",
            "_model_name": "LayoutModel",
            "_view_count": null,
            "_view_module": "@jupyter-widgets/base",
            "_view_module_version": "1.2.0",
            "_view_name": "LayoutView",
            "align_content": null,
            "align_items": null,
            "align_self": null,
            "border": null,
            "bottom": null,
            "display": null,
            "flex": null,
            "flex_flow": null,
            "grid_area": null,
            "grid_auto_columns": null,
            "grid_auto_flow": null,
            "grid_auto_rows": null,
            "grid_column": null,
            "grid_gap": null,
            "grid_row": null,
            "grid_template_areas": null,
            "grid_template_columns": null,
            "grid_template_rows": null,
            "height": null,
            "justify_content": null,
            "justify_items": null,
            "left": null,
            "margin": null,
            "max_height": null,
            "max_width": null,
            "min_height": null,
            "min_width": null,
            "object_fit": null,
            "object_position": null,
            "order": null,
            "overflow": null,
            "overflow_x": null,
            "overflow_y": null,
            "padding": null,
            "right": null,
            "top": null,
            "visibility": null,
            "width": null
          }
        },
        "bd7fde6e2f514160ba5a5c4bef7417d5": {
          "model_module": "@jupyter-widgets/base",
          "model_name": "LayoutModel",
          "model_module_version": "1.2.0",
          "state": {
            "_model_module": "@jupyter-widgets/base",
            "_model_module_version": "1.2.0",
            "_model_name": "LayoutModel",
            "_view_count": null,
            "_view_module": "@jupyter-widgets/base",
            "_view_module_version": "1.2.0",
            "_view_name": "LayoutView",
            "align_content": null,
            "align_items": null,
            "align_self": null,
            "border": null,
            "bottom": null,
            "display": null,
            "flex": null,
            "flex_flow": null,
            "grid_area": null,
            "grid_auto_columns": null,
            "grid_auto_flow": null,
            "grid_auto_rows": null,
            "grid_column": null,
            "grid_gap": null,
            "grid_row": null,
            "grid_template_areas": null,
            "grid_template_columns": null,
            "grid_template_rows": null,
            "height": null,
            "justify_content": null,
            "justify_items": null,
            "left": null,
            "margin": null,
            "max_height": null,
            "max_width": null,
            "min_height": null,
            "min_width": null,
            "object_fit": null,
            "object_position": null,
            "order": null,
            "overflow": null,
            "overflow_x": null,
            "overflow_y": null,
            "padding": null,
            "right": null,
            "top": null,
            "visibility": null,
            "width": null
          }
        },
        "50bf4f47984a40e8b096e0d65f077232": {
          "model_module": "@jupyter-widgets/controls",
          "model_name": "DescriptionStyleModel",
          "model_module_version": "1.5.0",
          "state": {
            "_model_module": "@jupyter-widgets/controls",
            "_model_module_version": "1.5.0",
            "_model_name": "DescriptionStyleModel",
            "_view_count": null,
            "_view_module": "@jupyter-widgets/base",
            "_view_module_version": "1.2.0",
            "_view_name": "StyleView",
            "description_width": ""
          }
        },
        "ba488fb024ed4ef48d5214e03606f2cd": {
          "model_module": "@jupyter-widgets/base",
          "model_name": "LayoutModel",
          "model_module_version": "1.2.0",
          "state": {
            "_model_module": "@jupyter-widgets/base",
            "_model_module_version": "1.2.0",
            "_model_name": "LayoutModel",
            "_view_count": null,
            "_view_module": "@jupyter-widgets/base",
            "_view_module_version": "1.2.0",
            "_view_name": "LayoutView",
            "align_content": null,
            "align_items": null,
            "align_self": null,
            "border": null,
            "bottom": null,
            "display": null,
            "flex": null,
            "flex_flow": null,
            "grid_area": null,
            "grid_auto_columns": null,
            "grid_auto_flow": null,
            "grid_auto_rows": null,
            "grid_column": null,
            "grid_gap": null,
            "grid_row": null,
            "grid_template_areas": null,
            "grid_template_columns": null,
            "grid_template_rows": null,
            "height": null,
            "justify_content": null,
            "justify_items": null,
            "left": null,
            "margin": null,
            "max_height": null,
            "max_width": null,
            "min_height": null,
            "min_width": null,
            "object_fit": null,
            "object_position": null,
            "order": null,
            "overflow": null,
            "overflow_x": null,
            "overflow_y": null,
            "padding": null,
            "right": null,
            "top": null,
            "visibility": null,
            "width": null
          }
        },
        "666b9b3371d84183ba55859f58a5488b": {
          "model_module": "@jupyter-widgets/controls",
          "model_name": "ProgressStyleModel",
          "model_module_version": "1.5.0",
          "state": {
            "_model_module": "@jupyter-widgets/controls",
            "_model_module_version": "1.5.0",
            "_model_name": "ProgressStyleModel",
            "_view_count": null,
            "_view_module": "@jupyter-widgets/base",
            "_view_module_version": "1.2.0",
            "_view_name": "StyleView",
            "bar_color": null,
            "description_width": ""
          }
        },
        "51aba72901754fdd82d46386e63db936": {
          "model_module": "@jupyter-widgets/base",
          "model_name": "LayoutModel",
          "model_module_version": "1.2.0",
          "state": {
            "_model_module": "@jupyter-widgets/base",
            "_model_module_version": "1.2.0",
            "_model_name": "LayoutModel",
            "_view_count": null,
            "_view_module": "@jupyter-widgets/base",
            "_view_module_version": "1.2.0",
            "_view_name": "LayoutView",
            "align_content": null,
            "align_items": null,
            "align_self": null,
            "border": null,
            "bottom": null,
            "display": null,
            "flex": null,
            "flex_flow": null,
            "grid_area": null,
            "grid_auto_columns": null,
            "grid_auto_flow": null,
            "grid_auto_rows": null,
            "grid_column": null,
            "grid_gap": null,
            "grid_row": null,
            "grid_template_areas": null,
            "grid_template_columns": null,
            "grid_template_rows": null,
            "height": null,
            "justify_content": null,
            "justify_items": null,
            "left": null,
            "margin": null,
            "max_height": null,
            "max_width": null,
            "min_height": null,
            "min_width": null,
            "object_fit": null,
            "object_position": null,
            "order": null,
            "overflow": null,
            "overflow_x": null,
            "overflow_y": null,
            "padding": null,
            "right": null,
            "top": null,
            "visibility": null,
            "width": null
          }
        },
        "082d27733c0f4f8b95617f1388e76b95": {
          "model_module": "@jupyter-widgets/controls",
          "model_name": "DescriptionStyleModel",
          "model_module_version": "1.5.0",
          "state": {
            "_model_module": "@jupyter-widgets/controls",
            "_model_module_version": "1.5.0",
            "_model_name": "DescriptionStyleModel",
            "_view_count": null,
            "_view_module": "@jupyter-widgets/base",
            "_view_module_version": "1.2.0",
            "_view_name": "StyleView",
            "description_width": ""
          }
        },
        "16a9dfd0341e40af925127af02886efc": {
          "model_module": "@jupyter-widgets/controls",
          "model_name": "HBoxModel",
          "model_module_version": "1.5.0",
          "state": {
            "_dom_classes": [],
            "_model_module": "@jupyter-widgets/controls",
            "_model_module_version": "1.5.0",
            "_model_name": "HBoxModel",
            "_view_count": null,
            "_view_module": "@jupyter-widgets/controls",
            "_view_module_version": "1.5.0",
            "_view_name": "HBoxView",
            "box_style": "",
            "children": [
              "IPY_MODEL_7ec39ed6f44b44e8b2beb9dfd65b28d9",
              "IPY_MODEL_4063944287054692b889aa9a4d857703",
              "IPY_MODEL_134f75413e864aef9b974307590aaf72"
            ],
            "layout": "IPY_MODEL_f8d9073a3db146ffa5a393dee86b2326"
          }
        },
        "7ec39ed6f44b44e8b2beb9dfd65b28d9": {
          "model_module": "@jupyter-widgets/controls",
          "model_name": "HTMLModel",
          "model_module_version": "1.5.0",
          "state": {
            "_dom_classes": [],
            "_model_module": "@jupyter-widgets/controls",
            "_model_module_version": "1.5.0",
            "_model_name": "HTMLModel",
            "_view_count": null,
            "_view_module": "@jupyter-widgets/controls",
            "_view_module_version": "1.5.0",
            "_view_name": "HTMLView",
            "description": "",
            "description_tooltip": null,
            "layout": "IPY_MODEL_5119dd0eac6c4d48960ac7352efad4ec",
            "placeholder": "​",
            "style": "IPY_MODEL_b7ee9944c0e04786b6ef0dea09e408fb",
            "value": "100%"
          }
        },
        "4063944287054692b889aa9a4d857703": {
          "model_module": "@jupyter-widgets/controls",
          "model_name": "FloatProgressModel",
          "model_module_version": "1.5.0",
          "state": {
            "_dom_classes": [],
            "_model_module": "@jupyter-widgets/controls",
            "_model_module_version": "1.5.0",
            "_model_name": "FloatProgressModel",
            "_view_count": null,
            "_view_module": "@jupyter-widgets/controls",
            "_view_module_version": "1.5.0",
            "_view_name": "ProgressView",
            "bar_style": "success",
            "description": "",
            "description_tooltip": null,
            "layout": "IPY_MODEL_b310681938544dc78e7d9f87811fa1fa",
            "max": 5000,
            "min": 0,
            "orientation": "horizontal",
            "style": "IPY_MODEL_c83a3dd092bc414a870bdb663f8c63e1",
            "value": 5000
          }
        },
        "134f75413e864aef9b974307590aaf72": {
          "model_module": "@jupyter-widgets/controls",
          "model_name": "HTMLModel",
          "model_module_version": "1.5.0",
          "state": {
            "_dom_classes": [],
            "_model_module": "@jupyter-widgets/controls",
            "_model_module_version": "1.5.0",
            "_model_name": "HTMLModel",
            "_view_count": null,
            "_view_module": "@jupyter-widgets/controls",
            "_view_module_version": "1.5.0",
            "_view_name": "HTMLView",
            "description": "",
            "description_tooltip": null,
            "layout": "IPY_MODEL_110b272fad764f40916975012a30ebcc",
            "placeholder": "​",
            "style": "IPY_MODEL_cd838b37130a4ec290c79dccc825596c",
            "value": " 5000/5000 [00:02&lt;00:00, 2132.80ex/s]"
          }
        },
        "f8d9073a3db146ffa5a393dee86b2326": {
          "model_module": "@jupyter-widgets/base",
          "model_name": "LayoutModel",
          "model_module_version": "1.2.0",
          "state": {
            "_model_module": "@jupyter-widgets/base",
            "_model_module_version": "1.2.0",
            "_model_name": "LayoutModel",
            "_view_count": null,
            "_view_module": "@jupyter-widgets/base",
            "_view_module_version": "1.2.0",
            "_view_name": "LayoutView",
            "align_content": null,
            "align_items": null,
            "align_self": null,
            "border": null,
            "bottom": null,
            "display": null,
            "flex": null,
            "flex_flow": null,
            "grid_area": null,
            "grid_auto_columns": null,
            "grid_auto_flow": null,
            "grid_auto_rows": null,
            "grid_column": null,
            "grid_gap": null,
            "grid_row": null,
            "grid_template_areas": null,
            "grid_template_columns": null,
            "grid_template_rows": null,
            "height": null,
            "justify_content": null,
            "justify_items": null,
            "left": null,
            "margin": null,
            "max_height": null,
            "max_width": null,
            "min_height": null,
            "min_width": null,
            "object_fit": null,
            "object_position": null,
            "order": null,
            "overflow": null,
            "overflow_x": null,
            "overflow_y": null,
            "padding": null,
            "right": null,
            "top": null,
            "visibility": null,
            "width": null
          }
        },
        "5119dd0eac6c4d48960ac7352efad4ec": {
          "model_module": "@jupyter-widgets/base",
          "model_name": "LayoutModel",
          "model_module_version": "1.2.0",
          "state": {
            "_model_module": "@jupyter-widgets/base",
            "_model_module_version": "1.2.0",
            "_model_name": "LayoutModel",
            "_view_count": null,
            "_view_module": "@jupyter-widgets/base",
            "_view_module_version": "1.2.0",
            "_view_name": "LayoutView",
            "align_content": null,
            "align_items": null,
            "align_self": null,
            "border": null,
            "bottom": null,
            "display": null,
            "flex": null,
            "flex_flow": null,
            "grid_area": null,
            "grid_auto_columns": null,
            "grid_auto_flow": null,
            "grid_auto_rows": null,
            "grid_column": null,
            "grid_gap": null,
            "grid_row": null,
            "grid_template_areas": null,
            "grid_template_columns": null,
            "grid_template_rows": null,
            "height": null,
            "justify_content": null,
            "justify_items": null,
            "left": null,
            "margin": null,
            "max_height": null,
            "max_width": null,
            "min_height": null,
            "min_width": null,
            "object_fit": null,
            "object_position": null,
            "order": null,
            "overflow": null,
            "overflow_x": null,
            "overflow_y": null,
            "padding": null,
            "right": null,
            "top": null,
            "visibility": null,
            "width": null
          }
        },
        "b7ee9944c0e04786b6ef0dea09e408fb": {
          "model_module": "@jupyter-widgets/controls",
          "model_name": "DescriptionStyleModel",
          "model_module_version": "1.5.0",
          "state": {
            "_model_module": "@jupyter-widgets/controls",
            "_model_module_version": "1.5.0",
            "_model_name": "DescriptionStyleModel",
            "_view_count": null,
            "_view_module": "@jupyter-widgets/base",
            "_view_module_version": "1.2.0",
            "_view_name": "StyleView",
            "description_width": ""
          }
        },
        "b310681938544dc78e7d9f87811fa1fa": {
          "model_module": "@jupyter-widgets/base",
          "model_name": "LayoutModel",
          "model_module_version": "1.2.0",
          "state": {
            "_model_module": "@jupyter-widgets/base",
            "_model_module_version": "1.2.0",
            "_model_name": "LayoutModel",
            "_view_count": null,
            "_view_module": "@jupyter-widgets/base",
            "_view_module_version": "1.2.0",
            "_view_name": "LayoutView",
            "align_content": null,
            "align_items": null,
            "align_self": null,
            "border": null,
            "bottom": null,
            "display": null,
            "flex": null,
            "flex_flow": null,
            "grid_area": null,
            "grid_auto_columns": null,
            "grid_auto_flow": null,
            "grid_auto_rows": null,
            "grid_column": null,
            "grid_gap": null,
            "grid_row": null,
            "grid_template_areas": null,
            "grid_template_columns": null,
            "grid_template_rows": null,
            "height": null,
            "justify_content": null,
            "justify_items": null,
            "left": null,
            "margin": null,
            "max_height": null,
            "max_width": null,
            "min_height": null,
            "min_width": null,
            "object_fit": null,
            "object_position": null,
            "order": null,
            "overflow": null,
            "overflow_x": null,
            "overflow_y": null,
            "padding": null,
            "right": null,
            "top": null,
            "visibility": null,
            "width": null
          }
        },
        "c83a3dd092bc414a870bdb663f8c63e1": {
          "model_module": "@jupyter-widgets/controls",
          "model_name": "ProgressStyleModel",
          "model_module_version": "1.5.0",
          "state": {
            "_model_module": "@jupyter-widgets/controls",
            "_model_module_version": "1.5.0",
            "_model_name": "ProgressStyleModel",
            "_view_count": null,
            "_view_module": "@jupyter-widgets/base",
            "_view_module_version": "1.2.0",
            "_view_name": "StyleView",
            "bar_color": null,
            "description_width": ""
          }
        },
        "110b272fad764f40916975012a30ebcc": {
          "model_module": "@jupyter-widgets/base",
          "model_name": "LayoutModel",
          "model_module_version": "1.2.0",
          "state": {
            "_model_module": "@jupyter-widgets/base",
            "_model_module_version": "1.2.0",
            "_model_name": "LayoutModel",
            "_view_count": null,
            "_view_module": "@jupyter-widgets/base",
            "_view_module_version": "1.2.0",
            "_view_name": "LayoutView",
            "align_content": null,
            "align_items": null,
            "align_self": null,
            "border": null,
            "bottom": null,
            "display": null,
            "flex": null,
            "flex_flow": null,
            "grid_area": null,
            "grid_auto_columns": null,
            "grid_auto_flow": null,
            "grid_auto_rows": null,
            "grid_column": null,
            "grid_gap": null,
            "grid_row": null,
            "grid_template_areas": null,
            "grid_template_columns": null,
            "grid_template_rows": null,
            "height": null,
            "justify_content": null,
            "justify_items": null,
            "left": null,
            "margin": null,
            "max_height": null,
            "max_width": null,
            "min_height": null,
            "min_width": null,
            "object_fit": null,
            "object_position": null,
            "order": null,
            "overflow": null,
            "overflow_x": null,
            "overflow_y": null,
            "padding": null,
            "right": null,
            "top": null,
            "visibility": null,
            "width": null
          }
        },
        "cd838b37130a4ec290c79dccc825596c": {
          "model_module": "@jupyter-widgets/controls",
          "model_name": "DescriptionStyleModel",
          "model_module_version": "1.5.0",
          "state": {
            "_model_module": "@jupyter-widgets/controls",
            "_model_module_version": "1.5.0",
            "_model_name": "DescriptionStyleModel",
            "_view_count": null,
            "_view_module": "@jupyter-widgets/base",
            "_view_module_version": "1.2.0",
            "_view_name": "StyleView",
            "description_width": ""
          }
        },
        "e050389563de429ea4df80667a183179": {
          "model_module": "@jupyter-widgets/controls",
          "model_name": "HBoxModel",
          "model_module_version": "1.5.0",
          "state": {
            "_dom_classes": [],
            "_model_module": "@jupyter-widgets/controls",
            "_model_module_version": "1.5.0",
            "_model_name": "HBoxModel",
            "_view_count": null,
            "_view_module": "@jupyter-widgets/controls",
            "_view_module_version": "1.5.0",
            "_view_name": "HBoxView",
            "box_style": "",
            "children": [
              "IPY_MODEL_8a6668e2b3984464887d6d39c4bbb686",
              "IPY_MODEL_c0305ec973104d31aba3eb87e16b12c3",
              "IPY_MODEL_9cd993329ac44d31ba82d9030da03309"
            ],
            "layout": "IPY_MODEL_d7ec6bc7700949638c2ae2c9f4ef890f"
          }
        },
        "8a6668e2b3984464887d6d39c4bbb686": {
          "model_module": "@jupyter-widgets/controls",
          "model_name": "HTMLModel",
          "model_module_version": "1.5.0",
          "state": {
            "_dom_classes": [],
            "_model_module": "@jupyter-widgets/controls",
            "_model_module_version": "1.5.0",
            "_model_name": "HTMLModel",
            "_view_count": null,
            "_view_module": "@jupyter-widgets/controls",
            "_view_module_version": "1.5.0",
            "_view_name": "HTMLView",
            "description": "",
            "description_tooltip": null,
            "layout": "IPY_MODEL_f59cb6fabd0a4cdfa4a7e79f6f9073d9",
            "placeholder": "​",
            "style": "IPY_MODEL_db3b5cca7fc04a5e9f7129456f244d9c",
            "value": "100%"
          }
        },
        "c0305ec973104d31aba3eb87e16b12c3": {
          "model_module": "@jupyter-widgets/controls",
          "model_name": "FloatProgressModel",
          "model_module_version": "1.5.0",
          "state": {
            "_dom_classes": [],
            "_model_module": "@jupyter-widgets/controls",
            "_model_module_version": "1.5.0",
            "_model_name": "FloatProgressModel",
            "_view_count": null,
            "_view_module": "@jupyter-widgets/controls",
            "_view_module_version": "1.5.0",
            "_view_name": "ProgressView",
            "bar_style": "success",
            "description": "",
            "description_tooltip": null,
            "layout": "IPY_MODEL_61cd5168daf145d4bf50d8c10ae564da",
            "max": 25000,
            "min": 0,
            "orientation": "horizontal",
            "style": "IPY_MODEL_b7b7e7caab6d41cba171dfe5792e9fc4",
            "value": 25000
          }
        },
        "9cd993329ac44d31ba82d9030da03309": {
          "model_module": "@jupyter-widgets/controls",
          "model_name": "HTMLModel",
          "model_module_version": "1.5.0",
          "state": {
            "_dom_classes": [],
            "_model_module": "@jupyter-widgets/controls",
            "_model_module_version": "1.5.0",
            "_model_name": "HTMLModel",
            "_view_count": null,
            "_view_module": "@jupyter-widgets/controls",
            "_view_module_version": "1.5.0",
            "_view_name": "HTMLView",
            "description": "",
            "description_tooltip": null,
            "layout": "IPY_MODEL_81d9b0b8c7af4311a3a06e5b3dcd4d3c",
            "placeholder": "​",
            "style": "IPY_MODEL_0875b2c5b2184950bfaa6b67c054fbd4",
            "value": " 25000/25000 [00:15&lt;00:00, 1784.08ex/s]"
          }
        },
        "d7ec6bc7700949638c2ae2c9f4ef890f": {
          "model_module": "@jupyter-widgets/base",
          "model_name": "LayoutModel",
          "model_module_version": "1.2.0",
          "state": {
            "_model_module": "@jupyter-widgets/base",
            "_model_module_version": "1.2.0",
            "_model_name": "LayoutModel",
            "_view_count": null,
            "_view_module": "@jupyter-widgets/base",
            "_view_module_version": "1.2.0",
            "_view_name": "LayoutView",
            "align_content": null,
            "align_items": null,
            "align_self": null,
            "border": null,
            "bottom": null,
            "display": null,
            "flex": null,
            "flex_flow": null,
            "grid_area": null,
            "grid_auto_columns": null,
            "grid_auto_flow": null,
            "grid_auto_rows": null,
            "grid_column": null,
            "grid_gap": null,
            "grid_row": null,
            "grid_template_areas": null,
            "grid_template_columns": null,
            "grid_template_rows": null,
            "height": null,
            "justify_content": null,
            "justify_items": null,
            "left": null,
            "margin": null,
            "max_height": null,
            "max_width": null,
            "min_height": null,
            "min_width": null,
            "object_fit": null,
            "object_position": null,
            "order": null,
            "overflow": null,
            "overflow_x": null,
            "overflow_y": null,
            "padding": null,
            "right": null,
            "top": null,
            "visibility": null,
            "width": null
          }
        },
        "f59cb6fabd0a4cdfa4a7e79f6f9073d9": {
          "model_module": "@jupyter-widgets/base",
          "model_name": "LayoutModel",
          "model_module_version": "1.2.0",
          "state": {
            "_model_module": "@jupyter-widgets/base",
            "_model_module_version": "1.2.0",
            "_model_name": "LayoutModel",
            "_view_count": null,
            "_view_module": "@jupyter-widgets/base",
            "_view_module_version": "1.2.0",
            "_view_name": "LayoutView",
            "align_content": null,
            "align_items": null,
            "align_self": null,
            "border": null,
            "bottom": null,
            "display": null,
            "flex": null,
            "flex_flow": null,
            "grid_area": null,
            "grid_auto_columns": null,
            "grid_auto_flow": null,
            "grid_auto_rows": null,
            "grid_column": null,
            "grid_gap": null,
            "grid_row": null,
            "grid_template_areas": null,
            "grid_template_columns": null,
            "grid_template_rows": null,
            "height": null,
            "justify_content": null,
            "justify_items": null,
            "left": null,
            "margin": null,
            "max_height": null,
            "max_width": null,
            "min_height": null,
            "min_width": null,
            "object_fit": null,
            "object_position": null,
            "order": null,
            "overflow": null,
            "overflow_x": null,
            "overflow_y": null,
            "padding": null,
            "right": null,
            "top": null,
            "visibility": null,
            "width": null
          }
        },
        "db3b5cca7fc04a5e9f7129456f244d9c": {
          "model_module": "@jupyter-widgets/controls",
          "model_name": "DescriptionStyleModel",
          "model_module_version": "1.5.0",
          "state": {
            "_model_module": "@jupyter-widgets/controls",
            "_model_module_version": "1.5.0",
            "_model_name": "DescriptionStyleModel",
            "_view_count": null,
            "_view_module": "@jupyter-widgets/base",
            "_view_module_version": "1.2.0",
            "_view_name": "StyleView",
            "description_width": ""
          }
        },
        "61cd5168daf145d4bf50d8c10ae564da": {
          "model_module": "@jupyter-widgets/base",
          "model_name": "LayoutModel",
          "model_module_version": "1.2.0",
          "state": {
            "_model_module": "@jupyter-widgets/base",
            "_model_module_version": "1.2.0",
            "_model_name": "LayoutModel",
            "_view_count": null,
            "_view_module": "@jupyter-widgets/base",
            "_view_module_version": "1.2.0",
            "_view_name": "LayoutView",
            "align_content": null,
            "align_items": null,
            "align_self": null,
            "border": null,
            "bottom": null,
            "display": null,
            "flex": null,
            "flex_flow": null,
            "grid_area": null,
            "grid_auto_columns": null,
            "grid_auto_flow": null,
            "grid_auto_rows": null,
            "grid_column": null,
            "grid_gap": null,
            "grid_row": null,
            "grid_template_areas": null,
            "grid_template_columns": null,
            "grid_template_rows": null,
            "height": null,
            "justify_content": null,
            "justify_items": null,
            "left": null,
            "margin": null,
            "max_height": null,
            "max_width": null,
            "min_height": null,
            "min_width": null,
            "object_fit": null,
            "object_position": null,
            "order": null,
            "overflow": null,
            "overflow_x": null,
            "overflow_y": null,
            "padding": null,
            "right": null,
            "top": null,
            "visibility": null,
            "width": null
          }
        },
        "b7b7e7caab6d41cba171dfe5792e9fc4": {
          "model_module": "@jupyter-widgets/controls",
          "model_name": "ProgressStyleModel",
          "model_module_version": "1.5.0",
          "state": {
            "_model_module": "@jupyter-widgets/controls",
            "_model_module_version": "1.5.0",
            "_model_name": "ProgressStyleModel",
            "_view_count": null,
            "_view_module": "@jupyter-widgets/base",
            "_view_module_version": "1.2.0",
            "_view_name": "StyleView",
            "bar_color": null,
            "description_width": ""
          }
        },
        "81d9b0b8c7af4311a3a06e5b3dcd4d3c": {
          "model_module": "@jupyter-widgets/base",
          "model_name": "LayoutModel",
          "model_module_version": "1.2.0",
          "state": {
            "_model_module": "@jupyter-widgets/base",
            "_model_module_version": "1.2.0",
            "_model_name": "LayoutModel",
            "_view_count": null,
            "_view_module": "@jupyter-widgets/base",
            "_view_module_version": "1.2.0",
            "_view_name": "LayoutView",
            "align_content": null,
            "align_items": null,
            "align_self": null,
            "border": null,
            "bottom": null,
            "display": null,
            "flex": null,
            "flex_flow": null,
            "grid_area": null,
            "grid_auto_columns": null,
            "grid_auto_flow": null,
            "grid_auto_rows": null,
            "grid_column": null,
            "grid_gap": null,
            "grid_row": null,
            "grid_template_areas": null,
            "grid_template_columns": null,
            "grid_template_rows": null,
            "height": null,
            "justify_content": null,
            "justify_items": null,
            "left": null,
            "margin": null,
            "max_height": null,
            "max_width": null,
            "min_height": null,
            "min_width": null,
            "object_fit": null,
            "object_position": null,
            "order": null,
            "overflow": null,
            "overflow_x": null,
            "overflow_y": null,
            "padding": null,
            "right": null,
            "top": null,
            "visibility": null,
            "width": null
          }
        },
        "0875b2c5b2184950bfaa6b67c054fbd4": {
          "model_module": "@jupyter-widgets/controls",
          "model_name": "DescriptionStyleModel",
          "model_module_version": "1.5.0",
          "state": {
            "_model_module": "@jupyter-widgets/controls",
            "_model_module_version": "1.5.0",
            "_model_name": "DescriptionStyleModel",
            "_view_count": null,
            "_view_module": "@jupyter-widgets/base",
            "_view_module_version": "1.2.0",
            "_view_name": "StyleView",
            "description_width": ""
          }
        }
      }
    },
    "gpuClass": "standard"
  },
  "nbformat": 4,
  "nbformat_minor": 0
}