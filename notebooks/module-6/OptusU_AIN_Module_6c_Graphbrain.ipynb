{
  "cells": [
    {
      "cell_type": "markdown",
      "source": [
        "# GraphBrain\n",
        "\n",
        "Graphbrain is an open-source AI NLP library for automated meaning extraction and text understanding. In comparison to conventional semantic parsers such as part-of-speech taggers and dependency parsers, Graphbrain can annotate natural language text at higher levels of detail using semantics.\n",
        "\n",
        "\n",
        "Graphbrain is built around the concept of Semantic Hypergraph (SH). A hypergraph is a generalization of a graph in which an edge can join any number of vertices. SH is a graph data structure for representing natural language sentences as ordered, recursive hyperlinks, as shown below: \n",
        "\n",
        "<img src=\"http://drive.google.com/uc?export=view&id=18XvcgBH4AfxHxxh5_XEMZKEQXDElZNiZ\" />\n",
        "\n",
        "The Semantic Hypergraph data structure is used 1) as an intermediary between natural and formal languages, 2) as a knowledge model and 2) as a database. More details [here](https://graphbrain.net/manual/overview.html).\n",
        "\n",
        "It is an advancement over  traditional graph-based network methods because 1) natural language is recursive, consisting of concepts constructed from other concepts as well as statements about statements and 2) natural language contains express n-ary relationships.\n",
        "\n",
        "\n"
      ],
      "metadata": {
        "id": "tKaGhWB7NgaK"
      }
    },
    {
      "cell_type": "markdown",
      "source": [
        "##Install libraries"
      ],
      "metadata": {
        "id": "GQsb7CqDQp0z"
      }
    },
    {
      "cell_type": "code",
      "source": [
        "!pip install graphbrain\n",
        "!python -m spacy download en_core_web_lg"
      ],
      "metadata": {
        "colab": {
          "base_uri": "https://localhost:8080/"
        },
        "id": "WIUGzf1l4IyT",
        "outputId": "68e1041c-1687-4d62-c239-e062daac4bfc"
      },
      "execution_count": null,
      "outputs": [
        {
          "output_type": "stream",
          "name": "stdout",
          "text": [
            "Looking in indexes: https://pypi.org/simple, https://us-python.pkg.dev/colab-wheels/public/simple/\n",
            "Requirement already satisfied: graphbrain in /usr/local/lib/python3.7/dist-packages (0.6.1)\n",
            "Requirement already satisfied: networkx in /usr/local/lib/python3.7/dist-packages (from graphbrain) (2.6.3)\n",
            "Requirement already satisfied: ipython in /usr/local/lib/python3.7/dist-packages (from graphbrain) (7.9.0)\n",
            "Requirement already satisfied: plyvel in /usr/local/lib/python3.7/dist-packages (from graphbrain) (1.5.0)\n",
            "Requirement already satisfied: asciitree in /usr/local/lib/python3.7/dist-packages (from graphbrain) (0.3.3)\n",
            "Requirement already satisfied: spacy in /usr/local/lib/python3.7/dist-packages (from graphbrain) (3.4.3)\n",
            "Requirement already satisfied: scikit-learn in /usr/local/lib/python3.7/dist-packages (from graphbrain) (1.0.2)\n",
            "Requirement already satisfied: termcolor in /usr/local/lib/python3.7/dist-packages (from graphbrain) (2.1.0)\n",
            "Requirement already satisfied: mwparserfromhell in /usr/local/lib/python3.7/dist-packages (from graphbrain) (0.6.4)\n",
            "Requirement already satisfied: numpy in /usr/local/lib/python3.7/dist-packages (from graphbrain) (1.21.6)\n",
            "Requirement already satisfied: progressbar2 in /usr/local/lib/python3.7/dist-packages (from graphbrain) (3.38.0)\n",
            "Requirement already satisfied: pexpect in /usr/local/lib/python3.7/dist-packages (from ipython->graphbrain) (4.8.0)\n",
            "Requirement already satisfied: pickleshare in /usr/local/lib/python3.7/dist-packages (from ipython->graphbrain) (0.7.5)\n",
            "Requirement already satisfied: backcall in /usr/local/lib/python3.7/dist-packages (from ipython->graphbrain) (0.2.0)\n",
            "Requirement already satisfied: jedi>=0.10 in /usr/local/lib/python3.7/dist-packages (from ipython->graphbrain) (0.18.2)\n",
            "Requirement already satisfied: setuptools>=18.5 in /usr/local/lib/python3.7/dist-packages (from ipython->graphbrain) (57.4.0)\n",
            "Requirement already satisfied: pygments in /usr/local/lib/python3.7/dist-packages (from ipython->graphbrain) (2.6.1)\n",
            "Requirement already satisfied: traitlets>=4.2 in /usr/local/lib/python3.7/dist-packages (from ipython->graphbrain) (5.1.1)\n",
            "Requirement already satisfied: prompt-toolkit<2.1.0,>=2.0.0 in /usr/local/lib/python3.7/dist-packages (from ipython->graphbrain) (2.0.10)\n",
            "Requirement already satisfied: decorator in /usr/local/lib/python3.7/dist-packages (from ipython->graphbrain) (4.4.2)\n",
            "Requirement already satisfied: parso<0.9.0,>=0.8.0 in /usr/local/lib/python3.7/dist-packages (from jedi>=0.10->ipython->graphbrain) (0.8.3)\n",
            "Requirement already satisfied: wcwidth in /usr/local/lib/python3.7/dist-packages (from prompt-toolkit<2.1.0,>=2.0.0->ipython->graphbrain) (0.2.5)\n",
            "Requirement already satisfied: six>=1.9.0 in /usr/local/lib/python3.7/dist-packages (from prompt-toolkit<2.1.0,>=2.0.0->ipython->graphbrain) (1.15.0)\n",
            "Requirement already satisfied: ptyprocess>=0.5 in /usr/local/lib/python3.7/dist-packages (from pexpect->ipython->graphbrain) (0.7.0)\n",
            "Requirement already satisfied: python-utils>=2.3.0 in /usr/local/lib/python3.7/dist-packages (from progressbar2->graphbrain) (3.4.5)\n",
            "Requirement already satisfied: threadpoolctl>=2.0.0 in /usr/local/lib/python3.7/dist-packages (from scikit-learn->graphbrain) (3.1.0)\n",
            "Requirement already satisfied: joblib>=0.11 in /usr/local/lib/python3.7/dist-packages (from scikit-learn->graphbrain) (1.2.0)\n",
            "Requirement already satisfied: scipy>=1.1.0 in /usr/local/lib/python3.7/dist-packages (from scikit-learn->graphbrain) (1.7.3)\n",
            "Requirement already satisfied: spacy-loggers<2.0.0,>=1.0.0 in /usr/local/lib/python3.7/dist-packages (from spacy->graphbrain) (1.0.3)\n",
            "Requirement already satisfied: jinja2 in /usr/local/lib/python3.7/dist-packages (from spacy->graphbrain) (2.11.3)\n",
            "Requirement already satisfied: catalogue<2.1.0,>=2.0.6 in /usr/local/lib/python3.7/dist-packages (from spacy->graphbrain) (2.0.8)\n",
            "Requirement already satisfied: thinc<8.2.0,>=8.1.0 in /usr/local/lib/python3.7/dist-packages (from spacy->graphbrain) (8.1.5)\n",
            "Requirement already satisfied: typer<0.8.0,>=0.3.0 in /usr/local/lib/python3.7/dist-packages (from spacy->graphbrain) (0.7.0)\n",
            "Requirement already satisfied: srsly<3.0.0,>=2.4.3 in /usr/local/lib/python3.7/dist-packages (from spacy->graphbrain) (2.4.5)\n",
            "Requirement already satisfied: cymem<2.1.0,>=2.0.2 in /usr/local/lib/python3.7/dist-packages (from spacy->graphbrain) (2.0.7)\n",
            "Requirement already satisfied: pathy>=0.3.5 in /usr/local/lib/python3.7/dist-packages (from spacy->graphbrain) (0.8.1)\n",
            "Requirement already satisfied: murmurhash<1.1.0,>=0.28.0 in /usr/local/lib/python3.7/dist-packages (from spacy->graphbrain) (1.0.9)\n",
            "Requirement already satisfied: typing-extensions<4.2.0,>=3.7.4 in /usr/local/lib/python3.7/dist-packages (from spacy->graphbrain) (4.1.1)\n",
            "Requirement already satisfied: requests<3.0.0,>=2.13.0 in /usr/local/lib/python3.7/dist-packages (from spacy->graphbrain) (2.23.0)\n",
            "Requirement already satisfied: langcodes<4.0.0,>=3.2.0 in /usr/local/lib/python3.7/dist-packages (from spacy->graphbrain) (3.3.0)\n",
            "Requirement already satisfied: wasabi<1.1.0,>=0.9.1 in /usr/local/lib/python3.7/dist-packages (from spacy->graphbrain) (0.10.1)\n",
            "Requirement already satisfied: pydantic!=1.8,!=1.8.1,<1.11.0,>=1.7.4 in /usr/local/lib/python3.7/dist-packages (from spacy->graphbrain) (1.10.2)\n",
            "Requirement already satisfied: packaging>=20.0 in /usr/local/lib/python3.7/dist-packages (from spacy->graphbrain) (21.3)\n",
            "Requirement already satisfied: spacy-legacy<3.1.0,>=3.0.10 in /usr/local/lib/python3.7/dist-packages (from spacy->graphbrain) (3.0.10)\n",
            "Requirement already satisfied: preshed<3.1.0,>=3.0.2 in /usr/local/lib/python3.7/dist-packages (from spacy->graphbrain) (3.0.8)\n",
            "Requirement already satisfied: tqdm<5.0.0,>=4.38.0 in /usr/local/lib/python3.7/dist-packages (from spacy->graphbrain) (4.64.1)\n",
            "Requirement already satisfied: zipp>=0.5 in /usr/local/lib/python3.7/dist-packages (from catalogue<2.1.0,>=2.0.6->spacy->graphbrain) (3.10.0)\n",
            "Requirement already satisfied: pyparsing!=3.0.5,>=2.0.2 in /usr/local/lib/python3.7/dist-packages (from packaging>=20.0->spacy->graphbrain) (3.0.9)\n",
            "Requirement already satisfied: smart-open<6.0.0,>=5.2.1 in /usr/local/lib/python3.7/dist-packages (from pathy>=0.3.5->spacy->graphbrain) (5.2.1)\n",
            "Requirement already satisfied: urllib3!=1.25.0,!=1.25.1,<1.26,>=1.21.1 in /usr/local/lib/python3.7/dist-packages (from requests<3.0.0,>=2.13.0->spacy->graphbrain) (1.24.3)\n",
            "Requirement already satisfied: certifi>=2017.4.17 in /usr/local/lib/python3.7/dist-packages (from requests<3.0.0,>=2.13.0->spacy->graphbrain) (2022.9.24)\n",
            "Requirement already satisfied: chardet<4,>=3.0.2 in /usr/local/lib/python3.7/dist-packages (from requests<3.0.0,>=2.13.0->spacy->graphbrain) (3.0.4)\n",
            "Requirement already satisfied: idna<3,>=2.5 in /usr/local/lib/python3.7/dist-packages (from requests<3.0.0,>=2.13.0->spacy->graphbrain) (2.10)\n",
            "Requirement already satisfied: confection<1.0.0,>=0.0.1 in /usr/local/lib/python3.7/dist-packages (from thinc<8.2.0,>=8.1.0->spacy->graphbrain) (0.0.3)\n",
            "Requirement already satisfied: blis<0.8.0,>=0.7.8 in /usr/local/lib/python3.7/dist-packages (from thinc<8.2.0,>=8.1.0->spacy->graphbrain) (0.7.9)\n",
            "Requirement already satisfied: click<9.0.0,>=7.1.1 in /usr/local/lib/python3.7/dist-packages (from typer<0.8.0,>=0.3.0->spacy->graphbrain) (7.1.2)\n",
            "Requirement already satisfied: MarkupSafe>=0.23 in /usr/local/lib/python3.7/dist-packages (from jinja2->spacy->graphbrain) (2.0.1)\n",
            "Looking in indexes: https://pypi.org/simple, https://us-python.pkg.dev/colab-wheels/public/simple/\n",
            "Collecting en-core-web-lg==3.4.1\n",
            "  Downloading https://github.com/explosion/spacy-models/releases/download/en_core_web_lg-3.4.1/en_core_web_lg-3.4.1-py3-none-any.whl (587.7 MB)\n",
            "\u001b[K     |████████████████████████████████| 587.7 MB 17 kB/s \n",
            "\u001b[?25hRequirement already satisfied: spacy<3.5.0,>=3.4.0 in /usr/local/lib/python3.7/dist-packages (from en-core-web-lg==3.4.1) (3.4.3)\n",
            "Requirement already satisfied: srsly<3.0.0,>=2.4.3 in /usr/local/lib/python3.7/dist-packages (from spacy<3.5.0,>=3.4.0->en-core-web-lg==3.4.1) (2.4.5)\n",
            "Requirement already satisfied: pathy>=0.3.5 in /usr/local/lib/python3.7/dist-packages (from spacy<3.5.0,>=3.4.0->en-core-web-lg==3.4.1) (0.8.1)\n",
            "Requirement already satisfied: wasabi<1.1.0,>=0.9.1 in /usr/local/lib/python3.7/dist-packages (from spacy<3.5.0,>=3.4.0->en-core-web-lg==3.4.1) (0.10.1)\n",
            "Requirement already satisfied: spacy-loggers<2.0.0,>=1.0.0 in /usr/local/lib/python3.7/dist-packages (from spacy<3.5.0,>=3.4.0->en-core-web-lg==3.4.1) (1.0.3)\n",
            "Requirement already satisfied: spacy-legacy<3.1.0,>=3.0.10 in /usr/local/lib/python3.7/dist-packages (from spacy<3.5.0,>=3.4.0->en-core-web-lg==3.4.1) (3.0.10)\n",
            "Requirement already satisfied: thinc<8.2.0,>=8.1.0 in /usr/local/lib/python3.7/dist-packages (from spacy<3.5.0,>=3.4.0->en-core-web-lg==3.4.1) (8.1.5)\n",
            "Requirement already satisfied: tqdm<5.0.0,>=4.38.0 in /usr/local/lib/python3.7/dist-packages (from spacy<3.5.0,>=3.4.0->en-core-web-lg==3.4.1) (4.64.1)\n",
            "Requirement already satisfied: preshed<3.1.0,>=3.0.2 in /usr/local/lib/python3.7/dist-packages (from spacy<3.5.0,>=3.4.0->en-core-web-lg==3.4.1) (3.0.8)\n",
            "Requirement already satisfied: typer<0.8.0,>=0.3.0 in /usr/local/lib/python3.7/dist-packages (from spacy<3.5.0,>=3.4.0->en-core-web-lg==3.4.1) (0.7.0)\n",
            "Requirement already satisfied: cymem<2.1.0,>=2.0.2 in /usr/local/lib/python3.7/dist-packages (from spacy<3.5.0,>=3.4.0->en-core-web-lg==3.4.1) (2.0.7)\n",
            "Requirement already satisfied: packaging>=20.0 in /usr/local/lib/python3.7/dist-packages (from spacy<3.5.0,>=3.4.0->en-core-web-lg==3.4.1) (21.3)\n",
            "Requirement already satisfied: numpy>=1.15.0 in /usr/local/lib/python3.7/dist-packages (from spacy<3.5.0,>=3.4.0->en-core-web-lg==3.4.1) (1.21.6)\n",
            "Requirement already satisfied: murmurhash<1.1.0,>=0.28.0 in /usr/local/lib/python3.7/dist-packages (from spacy<3.5.0,>=3.4.0->en-core-web-lg==3.4.1) (1.0.9)\n",
            "Requirement already satisfied: langcodes<4.0.0,>=3.2.0 in /usr/local/lib/python3.7/dist-packages (from spacy<3.5.0,>=3.4.0->en-core-web-lg==3.4.1) (3.3.0)\n",
            "Requirement already satisfied: setuptools in /usr/local/lib/python3.7/dist-packages (from spacy<3.5.0,>=3.4.0->en-core-web-lg==3.4.1) (57.4.0)\n",
            "Requirement already satisfied: typing-extensions<4.2.0,>=3.7.4 in /usr/local/lib/python3.7/dist-packages (from spacy<3.5.0,>=3.4.0->en-core-web-lg==3.4.1) (4.1.1)\n",
            "Requirement already satisfied: requests<3.0.0,>=2.13.0 in /usr/local/lib/python3.7/dist-packages (from spacy<3.5.0,>=3.4.0->en-core-web-lg==3.4.1) (2.23.0)\n",
            "Requirement already satisfied: jinja2 in /usr/local/lib/python3.7/dist-packages (from spacy<3.5.0,>=3.4.0->en-core-web-lg==3.4.1) (2.11.3)\n",
            "Requirement already satisfied: pydantic!=1.8,!=1.8.1,<1.11.0,>=1.7.4 in /usr/local/lib/python3.7/dist-packages (from spacy<3.5.0,>=3.4.0->en-core-web-lg==3.4.1) (1.10.2)\n",
            "Requirement already satisfied: catalogue<2.1.0,>=2.0.6 in /usr/local/lib/python3.7/dist-packages (from spacy<3.5.0,>=3.4.0->en-core-web-lg==3.4.1) (2.0.8)\n",
            "Requirement already satisfied: zipp>=0.5 in /usr/local/lib/python3.7/dist-packages (from catalogue<2.1.0,>=2.0.6->spacy<3.5.0,>=3.4.0->en-core-web-lg==3.4.1) (3.10.0)\n",
            "Requirement already satisfied: pyparsing!=3.0.5,>=2.0.2 in /usr/local/lib/python3.7/dist-packages (from packaging>=20.0->spacy<3.5.0,>=3.4.0->en-core-web-lg==3.4.1) (3.0.9)\n",
            "Requirement already satisfied: smart-open<6.0.0,>=5.2.1 in /usr/local/lib/python3.7/dist-packages (from pathy>=0.3.5->spacy<3.5.0,>=3.4.0->en-core-web-lg==3.4.1) (5.2.1)\n",
            "Requirement already satisfied: urllib3!=1.25.0,!=1.25.1,<1.26,>=1.21.1 in /usr/local/lib/python3.7/dist-packages (from requests<3.0.0,>=2.13.0->spacy<3.5.0,>=3.4.0->en-core-web-lg==3.4.1) (1.24.3)\n",
            "Requirement already satisfied: chardet<4,>=3.0.2 in /usr/local/lib/python3.7/dist-packages (from requests<3.0.0,>=2.13.0->spacy<3.5.0,>=3.4.0->en-core-web-lg==3.4.1) (3.0.4)\n",
            "Requirement already satisfied: idna<3,>=2.5 in /usr/local/lib/python3.7/dist-packages (from requests<3.0.0,>=2.13.0->spacy<3.5.0,>=3.4.0->en-core-web-lg==3.4.1) (2.10)\n",
            "Requirement already satisfied: certifi>=2017.4.17 in /usr/local/lib/python3.7/dist-packages (from requests<3.0.0,>=2.13.0->spacy<3.5.0,>=3.4.0->en-core-web-lg==3.4.1) (2022.9.24)\n",
            "Requirement already satisfied: confection<1.0.0,>=0.0.1 in /usr/local/lib/python3.7/dist-packages (from thinc<8.2.0,>=8.1.0->spacy<3.5.0,>=3.4.0->en-core-web-lg==3.4.1) (0.0.3)\n",
            "Requirement already satisfied: blis<0.8.0,>=0.7.8 in /usr/local/lib/python3.7/dist-packages (from thinc<8.2.0,>=8.1.0->spacy<3.5.0,>=3.4.0->en-core-web-lg==3.4.1) (0.7.9)\n",
            "Requirement already satisfied: click<9.0.0,>=7.1.1 in /usr/local/lib/python3.7/dist-packages (from typer<0.8.0,>=0.3.0->spacy<3.5.0,>=3.4.0->en-core-web-lg==3.4.1) (7.1.2)\n",
            "Requirement already satisfied: MarkupSafe>=0.23 in /usr/local/lib/python3.7/dist-packages (from jinja2->spacy<3.5.0,>=3.4.0->en-core-web-lg==3.4.1) (2.0.1)\n",
            "\u001b[38;5;2m✔ Download and installation successful\u001b[0m\n",
            "You can now load the package via spacy.load('en_core_web_lg')\n"
          ]
        }
      ]
    },
    {
      "cell_type": "markdown",
      "source": [
        "##Import libraries"
      ],
      "metadata": {
        "id": "WyC3Mt2OW0aQ"
      }
    },
    {
      "cell_type": "code",
      "execution_count": null,
      "metadata": {
        "ExecuteTime": {
          "end_time": "2020-05-28T09:01:54.780324Z",
          "start_time": "2020-05-28T09:01:52.829934Z"
        },
        "id": "HzYcJ4Qh3iQH"
      },
      "outputs": [],
      "source": [
        "from graphbrain import *\n",
        "from graphbrain.notebook import *\n",
        "from graphbrain.parsers import *\n",
        "from graphbrain.patterns import match_pattern\n",
        "import os\n",
        "import matplotlib.pyplot as plt\n",
        "import networkx as nx\n",
        "import warnings\n",
        "warnings.filterwarnings(\"ignore\")"
      ]
    },
    {
      "cell_type": "markdown",
      "source": [
        "##Using GraphBrain for NLP\n",
        "\n",
        "We start by creating a parser object."
      ],
      "metadata": {
        "id": "240orU_NXgcx"
      }
    },
    {
      "cell_type": "code",
      "execution_count": null,
      "metadata": {
        "ExecuteTime": {
          "end_time": "2020-05-28T09:02:15.855720Z",
          "start_time": "2020-05-28T09:01:57.079779Z"
        },
        "id": "iN_pe2FX3iQK",
        "colab": {
          "base_uri": "https://localhost:8080/"
        },
        "outputId": "df8fb35b-1a05-4f1b-94f5-028b684bcb69"
      },
      "outputs": [
        {
          "output_type": "stream",
          "name": "stdout",
          "text": [
            "Using language model: en_core_web_lg\n"
          ]
        }
      ],
      "source": [
        "parser = create_parser(lang='en')"
      ]
    },
    {
      "cell_type": "markdown",
      "source": [
        "Let's use a simple sentence to see how the parser works."
      ],
      "metadata": {
        "id": "GoGAafm-ZqrU"
      }
    },
    {
      "cell_type": "code",
      "source": [
        "parse_results = parser.parse('Einstein first published the theory of relativity in 1905')"
      ],
      "metadata": {
        "id": "iGMzr4Q4XsZd"
      },
      "execution_count": null,
      "outputs": []
    },
    {
      "cell_type": "markdown",
      "source": [
        "The parser creates two main outputs. First, it builds the semantic hypergraph and returns this as \"main_edge\". Afterwards, it annotates every token of the given text."
      ],
      "metadata": {
        "id": "GRvjGVpEfRJC"
      }
    },
    {
      "cell_type": "code",
      "source": [
        "parse_results['parses'][0]['main_edge']"
      ],
      "metadata": {
        "colab": {
          "base_uri": "https://localhost:8080/"
        },
        "id": "RV532U8qYUaW",
        "outputId": "28611a2a-fa4d-43ab-b3f7-920dbe6cc785"
      },
      "execution_count": null,
      "outputs": [
        {
          "output_type": "execute_result",
          "data": {
            "text/plain": [
              "((first/M/en published/Pd.sox.<f-----/en) einstein/Cp.s/en (of/Br.ma/en (the/Md/en theory/Cc.s/en) relativity/Cc.s/en) (in/Tt/en 1905/C#/en))"
            ]
          },
          "metadata": {},
          "execution_count": 6
        }
      ]
    },
    {
      "cell_type": "code",
      "source": [
        "parse_results['parses'][0]['atom2word']"
      ],
      "metadata": {
        "colab": {
          "base_uri": "https://localhost:8080/"
        },
        "id": "AgSRPvr_fpz8",
        "outputId": "ea8420fc-c29c-4a6c-d77b-94c18de7ab40"
      },
      "execution_count": null,
      "outputs": [
        {
          "output_type": "execute_result",
          "data": {
            "text/plain": [
              "{first/M/en: ('first', 1),\n",
              " published/Pd.sox.<f-----/en: ('published', 2),\n",
              " einstein/Cp.s/en: ('Einstein', 0),\n",
              " of/Br.ma/en: ('of', 5),\n",
              " the/Md/en: ('the', 3),\n",
              " theory/Cc.s/en: ('theory', 4),\n",
              " relativity/Cc.s/en: ('relativity', 6),\n",
              " in/Tt/en: ('in', 7),\n",
              " 1905/C#/en: ('1905', 8)}"
            ]
          },
          "metadata": {},
          "execution_count": 7
        }
      ]
    },
    {
      "cell_type": "markdown",
      "source": [
        "###Hyperedge\n",
        "Hyperedges are building units in hypergraph. It can be atomic or non-atomic. Every hyperedge belongs to one of six basic types. Non atomic hyperedges can hold a connection between two or more vertices of a hypergraph. \n",
        "In such cases, the first element of a hyperedge is a connector, followed by arguments that can be atomic or non-atomic sub-hyperedges.\n",
        "\n",
        "<img src=\"http://drive.google.com/uc?export=view&id=1NoPjLXYFJhbo4_gKrs4rhZJd2GYkzKZC\" width=\"700\" />\n",
        "\n",
        "In addition to these, it has subtypes in each of these main entity types. With this, we can annotate text in a greater detail.\n",
        "\n",
        "\n",
        "<img src=\"http://drive.google.com/uc?export=view&id=1iXKXzwDg7gid85fqr1b_iY9qPzR80eFH\" />\n",
        "\n"
      ],
      "metadata": {
        "id": "rSxo3uJYZxWx"
      }
    },
    {
      "cell_type": "markdown",
      "source": [
        "Let's explore some examples."
      ],
      "metadata": {
        "id": "TMdm9B2Rlhfn"
      }
    },
    {
      "cell_type": "code",
      "source": [
        "sample_sentences = [\"Today we learn semantic parsing with Graphbrain library\",\"We can find patterns by traversing through hypergraphs\"]\n",
        "\n",
        "for sentence in sample_sentences:\n",
        "  print(sentence)\n",
        "  parse_results = parser.parse(sentence)\n",
        "  show(parse_results['parses'][0]['main_edge'])\n",
        "  print('\\n')"
      ],
      "metadata": {
        "colab": {
          "base_uri": "https://localhost:8080/",
          "height": 282
        },
        "id": "N4fWIyN6leAN",
        "outputId": "12446b1b-49f0-46d9-ef1b-6ea572b12e18"
      },
      "execution_count": null,
      "outputs": [
        {
          "output_type": "stream",
          "name": "stdout",
          "text": [
            "Today we learn semantic parsing with Graphbrain library\n"
          ]
        },
        {
          "output_type": "display_data",
          "data": {
            "text/plain": [
              "<IPython.core.display.HTML object>"
            ],
            "text/html": [
              "<span style=\"color:#303030\"><span style=\"font-weight:bold\">(</span><span style=\"color:#cb4b16\"><span style=\"color:#cb4b16\">learn</span><span style=\"color:#000000;font-weight:lighter\">/Pd.xsox.|f-----/en</span> <div style=\"margin-left:20px;color:#268bd2\"><span style=\"color:#268bd2\">today</span><span style=\"color:#000000;font-weight:lighter\">/Cc.s/en</span> <div style=\"margin-left:20px;color:#268bd2\"><span style=\"color:#268bd2\">we</span><span style=\"color:#000000;font-weight:lighter\">/Ci/en</span> <div style=\"margin-left:20px;color:#268bd2\"><span style=\"font-weight:bold\">(</span><span style=\"color:#dc322f\"><span style=\"color:#dc322f\">semantic</span><span style=\"color:#000000;font-weight:lighter\">/Ma/en</span> <span style=\"color:#268bd2\"><span style=\"color:#268bd2\">parsing</span><span style=\"color:#000000;font-weight:lighter\">/Cc.s/en</span><span style=\"color:#268bd2\"><span style=\"font-weight:bold\">)</span></span></div> <div style=\"margin-left:20px;color:#6c71c4\"><span style=\"font-weight:bold\">(</span><span style=\"color:#d33682\"><span style=\"color:#d33682\">with</span><span style=\"color:#000000;font-weight:lighter\">/T/en</span> <span style=\"color:#268bd2\"><span style=\"font-weight:bold\">(</span><span style=\"color:#859900\"><span style=\"color:#859900\">+</span><span style=\"color:#000000;font-weight:lighter\">/B.am/.</span> <span style=\"color:#268bd2\"><span style=\"color:#268bd2\">graphbrain</span><span style=\"color:#000000;font-weight:lighter\">/Cp.s/en</span> <span style=\"color:#268bd2\"><span style=\"color:#268bd2\">library</span><span style=\"color:#000000;font-weight:lighter\">/Cc.s/en</span><span style=\"color:#268bd2\"><span style=\"font-weight:bold\">)</span></span><span style=\"color:#6c71c4\"><span style=\"font-weight:bold\">)</span></span><span style=\"color:#303030\"><span style=\"font-weight:bold\">)</span></span></span></div></span>"
            ]
          },
          "metadata": {}
        },
        {
          "output_type": "stream",
          "name": "stdout",
          "text": [
            "\n",
            "\n",
            "We can find patterns by traversing through hypergraphs\n"
          ]
        },
        {
          "output_type": "display_data",
          "data": {
            "text/plain": [
              "<IPython.core.display.HTML object>"
            ],
            "text/html": [
              "<span style=\"color:#303030\"><span style=\"font-weight:bold\">(</span><span style=\"color:#cb4b16\"><span style=\"font-weight:bold\">(</span><span style=\"color:#dc322f\"><span style=\"color:#dc322f\">can</span><span style=\"color:#000000;font-weight:lighter\">/Mm/en</span> <span style=\"color:#cb4b16\"><span style=\"color:#cb4b16\">find</span><span style=\"color:#000000;font-weight:lighter\">/Pd.sox.-i-----/en</span><span style=\"color:#cb4b16\"><span style=\"font-weight:bold\">)</span></span></span> <div style=\"margin-left:20px;color:#268bd2\"><span style=\"color:#268bd2\">we</span><span style=\"color:#000000;font-weight:lighter\">/Ci/en</span> <div style=\"margin-left:20px;color:#268bd2\"><span style=\"color:#268bd2\">patterns</span><span style=\"color:#000000;font-weight:lighter\">/Cc.p/en</span> <div style=\"margin-left:20px;color:#6c71c4\"><span style=\"font-weight:bold\">(</span><span style=\"color:#d33682\"><span style=\"color:#d33682\">by</span><span style=\"color:#000000;font-weight:lighter\">/T/en</span> <span style=\"color:#303030\"><span style=\"font-weight:bold\">(</span><span style=\"color:#cb4b16\"><span style=\"color:#cb4b16\">traversing</span><span style=\"color:#000000;font-weight:lighter\">/P.x.|pg----/en</span> <span style=\"color:#6c71c4\"><span style=\"font-weight:bold\">(</span><span style=\"color:#d33682\"><span style=\"color:#d33682\">through</span><span style=\"color:#000000;font-weight:lighter\">/T/en</span> <span style=\"color:#268bd2\"><span style=\"color:#268bd2\">hypergraphs</span><span style=\"color:#000000;font-weight:lighter\">/Cc.p/en</span><span style=\"color:#6c71c4\"><span style=\"font-weight:bold\">)</span></span><span style=\"color:#303030\"><span style=\"font-weight:bold\">)</span></span><span style=\"color:#6c71c4\"><span style=\"font-weight:bold\">)</span></span><span style=\"color:#303030\"><span style=\"font-weight:bold\">)</span></span></span></span></div></span>"
            ]
          },
          "metadata": {}
        },
        {
          "output_type": "stream",
          "name": "stdout",
          "text": [
            "\n",
            "\n"
          ]
        }
      ]
    },
    {
      "cell_type": "markdown",
      "metadata": {
        "id": "S_VxMeaf3iQJ"
      },
      "source": [
        "### Create a hypergraph\n",
        "\n",
        "In Graphbrain we can parse a text with multiple sentences to build a hypergraph, which then is a collection of hyperedges.\n",
        "\n",
        "We have to create an empty hypergraph first."
      ]
    },
    {
      "cell_type": "code",
      "execution_count": null,
      "metadata": {
        "ExecuteTime": {
          "end_time": "2020-05-28T09:01:55.145206Z",
          "start_time": "2020-05-28T09:01:55.126841Z"
        },
        "id": "wgDmQghV3iQJ"
      },
      "outputs": [],
      "source": [
        "if(os.path.exists('example.db')):\n",
        "  os.remove(\"example.db\")\n",
        "hg = hgraph('example.db')"
      ]
    },
    {
      "cell_type": "markdown",
      "metadata": {
        "id": "dpwaMvvK3iQK"
      },
      "source": [
        "We can write a function as follows to parse the text and add it to the hypergraph."
      ]
    },
    {
      "cell_type": "code",
      "source": [
        "def add_to_hg(hg,text):\n",
        "  parse_results = parser.parse(text)\n",
        "  for parse in parse_results['parses']:\n",
        "      edge = parse['main_edge']\n",
        "      show(edge, style='indented')\n",
        "      hg.add(edge)"
      ],
      "metadata": {
        "id": "ifuCGHQVqcIt"
      },
      "execution_count": null,
      "outputs": []
    },
    {
      "cell_type": "markdown",
      "source": [
        "Let's use simpler sentences to get familiar with Graphbrain concepts."
      ],
      "metadata": {
        "id": "zdHA1KJ5qTeg"
      }
    },
    {
      "cell_type": "code",
      "execution_count": null,
      "metadata": {
        "ExecuteTime": {
          "end_time": "2020-05-28T09:02:16.034787Z",
          "start_time": "2020-05-28T09:02:15.904572Z"
        },
        "id": "qWZI4lLA3iQL",
        "colab": {
          "base_uri": "https://localhost:8080/",
          "height": 260
        },
        "outputId": "e1f0cd92-7148-4782-c711-872f7d647cdb"
      },
      "outputs": [
        {
          "output_type": "display_data",
          "data": {
            "text/plain": [
              "<IPython.core.display.HTML object>"
            ],
            "text/html": [
              "<span style=\"color:#303030\"><span style=\"font-weight:bold\">(</span><span style=\"color:#cb4b16\"><span style=\"color:#cb4b16\">likes</span><span style=\"color:#000000;font-weight:lighter\">/Pd.sr.|f--3s-/en</span> <div style=\"margin-left:20px;color:#268bd2\"><span style=\"color:#268bd2\">mary</span><span style=\"color:#000000;font-weight:lighter\">/Cp.s/en</span> <div style=\"margin-left:20px;color:#303030\"><span style=\"font-weight:bold\">(</span><span style=\"color:#cb4b16\"><span style=\"font-weight:bold\">(</span><span style=\"color:#dc322f\"><span style=\"color:#dc322f\">to</span><span style=\"color:#000000;font-weight:lighter\">/Mi/en</span> <span style=\"color:#cb4b16\"><span style=\"color:#cb4b16\">play</span><span style=\"color:#000000;font-weight:lighter\">/P.o.-i-----/en</span><span style=\"color:#cb4b16\"><span style=\"font-weight:bold\">)</span></span></span> <span style=\"color:#268bd2\"><span style=\"color:#268bd2\">violin</span><span style=\"color:#000000;font-weight:lighter\">/Cc.s/en</span><span style=\"color:#303030\"><span style=\"font-weight:bold\">)</span></span><span style=\"color:#303030\"><span style=\"font-weight:bold\">)</span></span></div></span>"
            ]
          },
          "metadata": {}
        },
        {
          "output_type": "display_data",
          "data": {
            "text/plain": [
              "<IPython.core.display.HTML object>"
            ],
            "text/html": [
              "<span style=\"color:#303030\"><span style=\"font-weight:bold\">(</span><span style=\"color:#cb4b16\"><span style=\"color:#cb4b16\">has</span><span style=\"color:#000000;font-weight:lighter\">/Pd.so.|f--3s-/en</span> <div style=\"margin-left:20px;color:#268bd2\"><span style=\"color:#268bd2\">mary</span><span style=\"color:#000000;font-weight:lighter\">/Cp.s/en</span> <div style=\"margin-left:20px;color:#268bd2\"><span style=\"font-weight:bold\">(</span><span style=\"color:#dc322f\"><span style=\"color:#dc322f\">a</span><span style=\"color:#000000;font-weight:lighter\">/Md/en</span> <span style=\"color:#268bd2\"><span style=\"font-weight:bold\">(</span><span style=\"color:#dc322f\"><span style=\"font-weight:bold\">(</span><span style=\"color:#dc322f\"><span style=\"color:#dc322f\">very</span><span style=\"color:#000000;font-weight:lighter\">/M/en</span> <span style=\"color:#dc322f\"><span style=\"color:#dc322f\">old</span><span style=\"color:#000000;font-weight:lighter\">/Ma/en</span><span style=\"color:#dc322f\"><span style=\"font-weight:bold\">)</span></span></span> <span style=\"color:#268bd2\"><span style=\"color:#268bd2\">violin</span><span style=\"color:#000000;font-weight:lighter\">/Cc.s/en</span><span style=\"color:#268bd2\"><span style=\"font-weight:bold\">)</span></span><span style=\"color:#268bd2\"><span style=\"font-weight:bold\">)</span></span><span style=\"color:#303030\"><span style=\"font-weight:bold\">)</span></span></span></div></span>"
            ]
          },
          "metadata": {}
        },
        {
          "output_type": "display_data",
          "data": {
            "text/plain": [
              "<IPython.core.display.HTML object>"
            ],
            "text/html": [
              "<span style=\"color:#303030\"><span style=\"font-weight:bold\">(</span><span style=\"color:#cb4b16\"><span style=\"color:#cb4b16\">is</span><span style=\"color:#000000;font-weight:lighter\">/Pd.sc.|f--3s-/en</span> <div style=\"margin-left:20px;color:#268bd2\"><span style=\"font-weight:bold\">(</span><span style=\"color:#859900\"><span style=\"color:#859900\">&#x27;s</span><span style=\"color:#000000;font-weight:lighter\">/Bp.am/en</span> <span style=\"color:#268bd2\"><span style=\"color:#268bd2\">mary</span><span style=\"color:#000000;font-weight:lighter\">/Cp.s/en</span> <span style=\"color:#268bd2\"><span style=\"color:#268bd2\">brother</span><span style=\"color:#000000;font-weight:lighter\">/Cc.s/en</span><span style=\"color:#268bd2\"><span style=\"font-weight:bold\">)</span></span></div> <div style=\"margin-left:20px;color:#268bd2\"><span style=\"color:#268bd2\">john</span><span style=\"color:#000000;font-weight:lighter\">/Cp.s/en</span><span style=\"color:#303030\"><span style=\"font-weight:bold\">)</span></span></span>"
            ]
          },
          "metadata": {}
        },
        {
          "output_type": "display_data",
          "data": {
            "text/plain": [
              "<IPython.core.display.HTML object>"
            ],
            "text/html": [
              "<span style=\"color:#303030\"><span style=\"font-weight:bold\">(</span><span style=\"color:#cb4b16\"><span style=\"color:#cb4b16\">likes</span><span style=\"color:#000000;font-weight:lighter\">/Pd.so.|f--3s-/en</span> <span style=\"color:#268bd2\"><span style=\"color:#268bd2\">john</span><span style=\"color:#000000;font-weight:lighter\">/Cp.s/en</span> <span style=\"color:#268bd2\"><span style=\"color:#268bd2\">football</span><span style=\"color:#000000;font-weight:lighter\">/Cc.s/en</span><span style=\"color:#303030\"><span style=\"font-weight:bold\">)</span></span></span>"
            ]
          },
          "metadata": {}
        },
        {
          "output_type": "display_data",
          "data": {
            "text/plain": [
              "<IPython.core.display.HTML object>"
            ],
            "text/html": [
              "<span style=\"color:#303030\"><span style=\"font-weight:bold\">(</span><span style=\"color:#cb4b16\"><span style=\"color:#cb4b16\">is</span><span style=\"color:#000000;font-weight:lighter\">/Pd.sc.|f--3s-/en</span> <div style=\"margin-left:20px;color:#268bd2\"><span style=\"color:#268bd2\">football</span><span style=\"color:#000000;font-weight:lighter\">/Cc.s/en</span> <div style=\"margin-left:20px;color:#268bd2\"><span style=\"font-weight:bold\">(</span><span style=\"color:#dc322f\"><span style=\"color:#dc322f\">a</span><span style=\"color:#000000;font-weight:lighter\">/Md/en</span> <span style=\"color:#268bd2\"><span style=\"font-weight:bold\">(</span><span style=\"color:#dc322f\"><span style=\"color:#dc322f\">popular</span><span style=\"color:#000000;font-weight:lighter\">/Ma/en</span> <span style=\"color:#268bd2\"><span style=\"font-weight:bold\">(</span><span style=\"color:#dc322f\"><span style=\"color:#dc322f\">outdoor</span><span style=\"color:#000000;font-weight:lighter\">/Ma/en</span> <span style=\"color:#268bd2\"><span style=\"color:#268bd2\">sport</span><span style=\"color:#000000;font-weight:lighter\">/Cc.s/en</span><span style=\"color:#268bd2\"><span style=\"font-weight:bold\">)</span></span><span style=\"color:#268bd2\"><span style=\"font-weight:bold\">)</span></span><span style=\"color:#268bd2\"><span style=\"font-weight:bold\">)</span></span><span style=\"color:#303030\"><span style=\"font-weight:bold\">)</span></span></span></span></div></span>"
            ]
          },
          "metadata": {}
        },
        {
          "output_type": "display_data",
          "data": {
            "text/plain": [
              "<IPython.core.display.HTML object>"
            ],
            "text/html": [
              "<span style=\"color:#303030\"><span style=\"font-weight:bold\">(</span><span style=\"color:#cb4b16\"><span style=\"color:#cb4b16\">watches</span><span style=\"color:#000000;font-weight:lighter\">/Pd.so.|f--3s-/en</span> <span style=\"color:#268bd2\"><span style=\"color:#268bd2\">mary</span><span style=\"color:#000000;font-weight:lighter\">/Cp.s/en</span> <span style=\"color:#268bd2\"><span style=\"color:#268bd2\">football</span><span style=\"color:#000000;font-weight:lighter\">/Cc.s/en</span><span style=\"color:#303030\"><span style=\"font-weight:bold\">)</span></span></span>"
            ]
          },
          "metadata": {}
        }
      ],
      "source": [
        "sentences = ['Mary likes to play violin.','Mary has a very old violin.',\"Mary's brother is John.\",\n",
        "             'John likes football.','football is a popular outdoor sport','Mary watches football']\n",
        "\n",
        "for s in sentences:\n",
        "  add_to_hg(hg,s)"
      ]
    },
    {
      "cell_type": "markdown",
      "source": [
        "### Search a Hypergraph\n",
        "\n",
        "Graphbrain provides a pattern language to query and match hyperedges in the hypergraph. This can be used to extract information from the text.\n",
        "\n",
        "The basic wildcard is * and it matches any hyperedge.\n",
        "We can use the below pattern to match any sentence with the connector \"plays\". \"...\" is for any following atomic or non-atomic hyperedges."
      ],
      "metadata": {
        "id": "FkSe7POfyVNj"
      }
    },
    {
      "cell_type": "code",
      "source": [
        "results = list(hg.search('(likes/P ...)'))\n",
        "for result in results:\n",
        "  print(result)"
      ],
      "metadata": {
        "colab": {
          "base_uri": "https://localhost:8080/"
        },
        "id": "ib2E6df23Py4",
        "outputId": "37676198-67c0-4b62-d7e9-b7f2750cabf9"
      },
      "execution_count": null,
      "outputs": [
        {
          "output_type": "stream",
          "name": "stdout",
          "text": [
            "(likes/Pd.so.|f--3s-/en john/Cp.s/en football/Cc.s/en)\n",
            "(likes/Pd.sr.|f--3s-/en mary/Cp.s/en ((to/Mi/en play/P.o.-i-----/en) violin/Cc.s/en))\n"
          ]
        }
      ]
    },
    {
      "cell_type": "markdown",
      "source": [
        "Also we can extract the text from the hyperedge."
      ],
      "metadata": {
        "id": "9O3vfzx68z36"
      }
    },
    {
      "cell_type": "code",
      "source": [
        "for result in results:\n",
        "  print(result.label())"
      ],
      "metadata": {
        "colab": {
          "base_uri": "https://localhost:8080/"
        },
        "id": "ByWQ8Lr18yRL",
        "outputId": "d1b186b4-c3d8-4b7d-f1b6-61a3551d5b39"
      },
      "execution_count": null,
      "outputs": [
        {
          "output_type": "stream",
          "name": "stdout",
          "text": [
            "john likes football\n",
            "mary likes to play violin\n"
          ]
        }
      ]
    },
    {
      "cell_type": "markdown",
      "source": [
        "Similarly let's try to search usages of concept \"football\". Here we can have football as subject or the object. So we have to check both patterns."
      ],
      "metadata": {
        "id": "2uADxgHU9YVG"
      }
    },
    {
      "cell_type": "code",
      "source": [
        "results = list(hg.search('(* * football/C)')) + list(hg.search('(* football/C *)'))\n",
        "for result in results:\n",
        "  print(result.label())"
      ],
      "metadata": {
        "colab": {
          "base_uri": "https://localhost:8080/"
        },
        "id": "McnxHDKz9f68",
        "outputId": "5a60436c-600f-4149-d155-40a0cb01fe81"
      },
      "execution_count": null,
      "outputs": [
        {
          "output_type": "stream",
          "name": "stdout",
          "text": [
            "john likes football\n",
            "mary watches football\n",
            "football is a popular outdoor sport\n"
          ]
        }
      ]
    },
    {
      "cell_type": "markdown",
      "source": [
        "Let's get all the concepts in the hypergraph with modifiers."
      ],
      "metadata": {
        "id": "3sMx0miF_-bF"
      }
    },
    {
      "cell_type": "code",
      "source": [
        "results = list(hg.search('*/C'))\n",
        "concepts_list = []\n",
        "for result in results:\n",
        "  concepts_list.append(result.label())\n",
        "print(concepts_list)"
      ],
      "metadata": {
        "colab": {
          "base_uri": "https://localhost:8080/"
        },
        "id": "fXVqiVUG_8VZ",
        "outputId": "dc34514c-3700-4ef0-caac-276fcef2b791"
      },
      "execution_count": null,
      "outputs": [
        {
          "output_type": "stream",
          "name": "stdout",
          "text": [
            "['a very old violin', 'very old violin', 'violin', \"mary 's brother\", 'brother', 'john', 'a popular outdoor sport', 'popular outdoor sport', 'outdoor sport', 'sport', 'mary', 'football']\n"
          ]
        }
      ]
    },
    {
      "cell_type": "markdown",
      "source": [
        "Here we get concepts which are sub-parts of other concepts. We can use the following function to filter repeating concepts."
      ],
      "metadata": {
        "id": "nC15nfTUCvIq"
      }
    },
    {
      "cell_type": "code",
      "source": [
        "def check_substring(sub,s_list):\n",
        "  s_list = list(set(s_list)-set([sub]))\n",
        "  # print(s_list)\n",
        "  for itr in s_list:\n",
        "    if(sub in itr):\n",
        "      if(sub+\" 's\" not in itr):#ignore any Possessive concepts\n",
        "        return False\n",
        "  return True\n",
        "\n",
        "\n",
        "for concept in concepts_list:\n",
        "  if(check_substring(concept,concepts_list)):\n",
        "    print(concept)"
      ],
      "metadata": {
        "colab": {
          "base_uri": "https://localhost:8080/"
        },
        "id": "6oWo5lWIC7Sy",
        "outputId": "04f1bca4-a076-4f1a-f9f3-a37eacd027e6"
      },
      "execution_count": null,
      "outputs": [
        {
          "output_type": "stream",
          "name": "stdout",
          "text": [
            "a very old violin\n",
            "mary 's brother\n",
            "john\n",
            "a popular outdoor sport\n",
            "mary\n",
            "football\n"
          ]
        }
      ]
    },
    {
      "cell_type": "markdown",
      "source": [
        "### Degree of nodes in a hypergraph\n",
        "\n",
        "In conventional graph theory, the degree of a node is the number of other nodes that it is directly connected to. \n",
        "\n",
        "This is a simple but generally useful measure of the centrality of a node in the graph. In hypergraphs, we can also have the same notion of degree, with the only difference that a single hyperedge can connect one entity to several others. "
      ],
      "metadata": {
        "id": "0vCCSA_giHhf"
      }
    },
    {
      "cell_type": "code",
      "source": [
        "hg.degree('football/Cc.s/en')"
      ],
      "metadata": {
        "colab": {
          "base_uri": "https://localhost:8080/"
        },
        "id": "Yyndgt3zj5k2",
        "outputId": "0599482c-ed64-4b25-9004-e4c5c135a088"
      },
      "execution_count": null,
      "outputs": [
        {
          "output_type": "execute_result",
          "data": {
            "text/plain": [
              "3"
            ]
          },
          "metadata": {},
          "execution_count": 17
        }
      ]
    },
    {
      "cell_type": "code",
      "source": [
        "hg.degree('mary/Cp.s/en')"
      ],
      "metadata": {
        "colab": {
          "base_uri": "https://localhost:8080/"
        },
        "id": "qmUzsHDKG3fn",
        "outputId": "b0684c24-92c2-4599-8cef-0c5c762b950d"
      },
      "execution_count": null,
      "outputs": [
        {
          "output_type": "execute_result",
          "data": {
            "text/plain": [
              "3"
            ]
          },
          "metadata": {},
          "execution_count": 18
        }
      ]
    },
    {
      "cell_type": "markdown",
      "source": [
        "###Hyperedge attributes\n",
        "\n",
        "We can add additional information to the concepts."
      ],
      "metadata": {
        "id": "7UMObiFEwId_"
      }
    },
    {
      "cell_type": "code",
      "source": [
        "hg.set_attribute('john/Cp.s/en', 'age', 7)\n",
        "hg.set_attribute('john/Cp.s/en', 'height', '170cm')\n",
        "hg.set_attribute('john/Cp.s/en', 'full name', 'John Doe')"
      ],
      "metadata": {
        "colab": {
          "base_uri": "https://localhost:8080/"
        },
        "id": "eHgjC_f5urVq",
        "outputId": "023f99f9-f364-4c65-f3c6-145c4b04e4b6"
      },
      "execution_count": null,
      "outputs": [
        {
          "output_type": "execute_result",
          "data": {
            "text/plain": [
              "True"
            ]
          },
          "metadata": {},
          "execution_count": 19
        }
      ]
    },
    {
      "cell_type": "code",
      "source": [
        "hg.get_str_attribute('john/Cp.s/en', 'full name')"
      ],
      "metadata": {
        "colab": {
          "base_uri": "https://localhost:8080/",
          "height": 36
        },
        "id": "KsnOruj9vFYy",
        "outputId": "c2911bb0-3e24-4018-d197-da2b39c29781"
      },
      "execution_count": null,
      "outputs": [
        {
          "output_type": "execute_result",
          "data": {
            "text/plain": [
              "'John Doe'"
            ],
            "application/vnd.google.colaboratory.intrinsic+json": {
              "type": "string"
            }
          },
          "metadata": {},
          "execution_count": 20
        }
      ]
    },
    {
      "cell_type": "markdown",
      "source": [
        "Patterns with variables for information extraction"
      ],
      "metadata": {
        "id": "mD9I_jWgxJLq"
      }
    },
    {
      "cell_type": "code",
      "source": [
        "pattern = hedge('(likes/P PERSON/C PREFERENCE/C)')\n",
        "results = list(hg.search('likes/P */C */C'))\n",
        "for edge in results:\n",
        "  print(match_pattern(edge, pattern))"
      ],
      "metadata": {
        "colab": {
          "base_uri": "https://localhost:8080/"
        },
        "id": "mIMiYUQnxebC",
        "outputId": "751bc5a3-93a7-40be-a9de-dbb4773e79ca"
      },
      "execution_count": null,
      "outputs": [
        {
          "output_type": "stream",
          "name": "stdout",
          "text": [
            "[{'PERSON': john/Cp.s/en, 'PREFERENCE': football/Cc.s/en}]\n"
          ]
        }
      ]
    },
    {
      "cell_type": "markdown",
      "source": [
        "###Triplet extraction\n",
        "\n",
        "We can extract triplets from the hypergraph to show concepts and their relationships. Triplet is a group of three hyperedges with connector and two concepts."
      ],
      "metadata": {
        "id": "EmtN6LzXM55F"
      }
    },
    {
      "cell_type": "code",
      "source": [
        "def triplet_extraction(hg):\n",
        "  pattern = hedge('(PREDICATE/P CONCEPT1/C CONCEPT2/C)')\n",
        "  results = list(hg.search('*/P */C */C'))\n",
        "  triplets = []\n",
        "  for edge in results:\n",
        "    triplet = []\n",
        "    match = match_pattern(edge, pattern)[0]\n",
        "    \n",
        "    for key in match.keys():\n",
        "        triplet.append(match[key].label())\n",
        "    triplets.append(triplet)\n",
        "  return(triplets)\n",
        "\n",
        "\n",
        "triplets = triplet_extraction(hg)\n",
        "print(triplets)"
      ],
      "metadata": {
        "colab": {
          "base_uri": "https://localhost:8080/"
        },
        "id": "hyFyLSuwNcR9",
        "outputId": "b39fe889-f6f3-45d7-c9f5-c91f5515e1b7"
      },
      "execution_count": null,
      "outputs": [
        {
          "output_type": "stream",
          "name": "stdout",
          "text": [
            "[['has', 'mary', 'a very old violin'], ['is', \"mary 's brother\", 'john'], ['likes', 'john', 'football'], ['is', 'football', 'a popular outdoor sport'], ['watches', 'mary', 'football']]\n"
          ]
        }
      ]
    },
    {
      "cell_type": "markdown",
      "source": [
        "###Visualising a hypergraph"
      ],
      "metadata": {
        "id": "Q0lsjifORBhj"
      }
    },
    {
      "cell_type": "code",
      "source": [
        "def draw_graph(triplets):\n",
        "  edges = []\n",
        "  edge_labels = {}\n",
        "\n",
        "  for triplet in triplets:\n",
        "    print(triplet)\n",
        "    edges.append(triplet[1:])\n",
        "    edge_labels[(triplet[1],triplet[2])]=triplet[0]\n",
        "  print(edges)\n",
        "  print(edge_labels)\n",
        "  G = nx.Graph()\n",
        "  G.add_edges_from(edges)\n",
        "  pos = nx.spring_layout(G)\n",
        "  plt.figure()\n",
        "  nx.draw(\n",
        "      G, pos, edge_color='black', width=1, linewidths=1,\n",
        "      node_size=500, node_color='pink', alpha=0.8,\n",
        "      labels={node: node for node in G.nodes()}\n",
        "  )\n",
        "  nx.draw_networkx_edge_labels(\n",
        "      G, pos,\n",
        "      edge_labels=edge_labels,\n",
        "      font_color='red'\n",
        "  )\n",
        "  plt.axis('off')\n",
        "  plt.margins(x=0.2)\n",
        "  plt.show()"
      ],
      "metadata": {
        "id": "ThMTam9buCqh"
      },
      "execution_count": null,
      "outputs": []
    },
    {
      "cell_type": "code",
      "source": [
        "draw_graph(triplets)"
      ],
      "metadata": {
        "colab": {
          "base_uri": "https://localhost:8080/",
          "height": 466
        },
        "id": "0vV2Um6A-leX",
        "outputId": "ced6b890-a78e-429a-c34d-b6cbdc5182bc"
      },
      "execution_count": null,
      "outputs": [
        {
          "output_type": "stream",
          "name": "stdout",
          "text": [
            "['has', 'mary', 'a very old violin']\n",
            "['is', \"mary 's brother\", 'john']\n",
            "['likes', 'john', 'football']\n",
            "['is', 'football', 'a popular outdoor sport']\n",
            "['watches', 'mary', 'football']\n",
            "[['mary', 'a very old violin'], [\"mary 's brother\", 'john'], ['john', 'football'], ['football', 'a popular outdoor sport'], ['mary', 'football']]\n",
            "{('mary', 'a very old violin'): 'has', (\"mary 's brother\", 'john'): 'is', ('john', 'football'): 'likes', ('football', 'a popular outdoor sport'): 'is', ('mary', 'football'): 'watches'}\n"
          ]
        },
        {
          "output_type": "display_data",
          "data": {
            "text/plain": [
              "<Figure size 432x288 with 1 Axes>"
            ],
            "image/png": "[encoded data removed]"
          },
          "metadata": {}
        }
      ]
    },
    {
      "cell_type": "markdown",
      "source": [
        "\n",
        "\n",
        "----------------------------------------\n",
        "\n",
        "End of OptusU_AIN_Module_6c_Graphbrain.ipynb."
      ],
      "metadata": {
        "id": "2CxZXpWUuIoq"
      }
    }
  ],
  "metadata": {
    "kernelspec": {
      "display_name": "Python 3",
      "name": "python3"
    },
    "language_info": {
      "name": "python"
    },
    "colab": {
      "provenance": []
    },
    "accelerator": "GPU",
    "gpuClass": "standard"
  },
  "nbformat": 4,
  "nbformat_minor": 0
}